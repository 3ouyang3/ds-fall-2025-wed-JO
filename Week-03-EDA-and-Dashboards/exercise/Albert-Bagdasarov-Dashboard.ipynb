{
 "cells": [
  {
   "cell_type": "code",
   "execution_count": 1,
   "id": "0885826d-bb17-4e56-909e-d1438f268652",
   "metadata": {
    "tags": []
   },
   "outputs": [
    {
     "data": {
      "text/plain": [
       "RendererRegistry.enable('jupyterlab')"
      ]
     },
     "execution_count": 1,
     "metadata": {},
     "output_type": "execute_result"
    }
   ],
   "source": [
    "import pandas as pd\n",
    "import numpy as np\n",
    "import altair as alt\n",
    "# render\n",
    "alt.renderers.enable(\"jupyterlab\")"
   ]
  },
  {
   "cell_type": "code",
   "execution_count": 2,
   "id": "b257a530-73c6-42fb-874a-c89b7238e536",
   "metadata": {},
   "outputs": [],
   "source": [
    "df = pd.read_csv('../data/movie_ratings.csv')"
   ]
  },
  {
   "cell_type": "code",
   "execution_count": 3,
   "id": "deaa0807-da77-4a08-a64d-97347b5a38b2",
   "metadata": {},
   "outputs": [
    {
     "data": {
      "text/html": [
       "<div>\n",
       "<style scoped>\n",
       "    .dataframe tbody tr th:only-of-type {\n",
       "        vertical-align: middle;\n",
       "    }\n",
       "\n",
       "    .dataframe tbody tr th {\n",
       "        vertical-align: top;\n",
       "    }\n",
       "\n",
       "    .dataframe thead th {\n",
       "        text-align: right;\n",
       "    }\n",
       "</style>\n",
       "<table border=\"1\" class=\"dataframe\">\n",
       "  <thead>\n",
       "    <tr style=\"text-align: right;\">\n",
       "      <th></th>\n",
       "      <th>user_id</th>\n",
       "      <th>movie_id</th>\n",
       "      <th>rating</th>\n",
       "      <th>timestamp</th>\n",
       "      <th>age</th>\n",
       "      <th>gender</th>\n",
       "      <th>occupation</th>\n",
       "      <th>zip_code</th>\n",
       "      <th>title</th>\n",
       "      <th>year</th>\n",
       "      <th>decade</th>\n",
       "      <th>genres</th>\n",
       "      <th>rating_year</th>\n",
       "    </tr>\n",
       "  </thead>\n",
       "  <tbody>\n",
       "    <tr>\n",
       "      <th>0</th>\n",
       "      <td>196</td>\n",
       "      <td>242</td>\n",
       "      <td>3</td>\n",
       "      <td>1997-12-04 15:55:49</td>\n",
       "      <td>49</td>\n",
       "      <td>M</td>\n",
       "      <td>writer</td>\n",
       "      <td>55105</td>\n",
       "      <td>Kolya (1996)</td>\n",
       "      <td>1996.0</td>\n",
       "      <td>1990.0</td>\n",
       "      <td>Comedy</td>\n",
       "      <td>1997</td>\n",
       "    </tr>\n",
       "    <tr>\n",
       "      <th>1</th>\n",
       "      <td>186</td>\n",
       "      <td>302</td>\n",
       "      <td>3</td>\n",
       "      <td>1998-04-04 19:22:22</td>\n",
       "      <td>39</td>\n",
       "      <td>F</td>\n",
       "      <td>executive</td>\n",
       "      <td>00000</td>\n",
       "      <td>L.A. Confidential (1997)</td>\n",
       "      <td>1997.0</td>\n",
       "      <td>1990.0</td>\n",
       "      <td>Crime</td>\n",
       "      <td>1998</td>\n",
       "    </tr>\n",
       "    <tr>\n",
       "      <th>2</th>\n",
       "      <td>186</td>\n",
       "      <td>302</td>\n",
       "      <td>3</td>\n",
       "      <td>1998-04-04 19:22:22</td>\n",
       "      <td>39</td>\n",
       "      <td>F</td>\n",
       "      <td>executive</td>\n",
       "      <td>00000</td>\n",
       "      <td>L.A. Confidential (1997)</td>\n",
       "      <td>1997.0</td>\n",
       "      <td>1990.0</td>\n",
       "      <td>Film-Noir</td>\n",
       "      <td>1998</td>\n",
       "    </tr>\n",
       "    <tr>\n",
       "      <th>3</th>\n",
       "      <td>186</td>\n",
       "      <td>302</td>\n",
       "      <td>3</td>\n",
       "      <td>1998-04-04 19:22:22</td>\n",
       "      <td>39</td>\n",
       "      <td>F</td>\n",
       "      <td>executive</td>\n",
       "      <td>00000</td>\n",
       "      <td>L.A. Confidential (1997)</td>\n",
       "      <td>1997.0</td>\n",
       "      <td>1990.0</td>\n",
       "      <td>Mystery</td>\n",
       "      <td>1998</td>\n",
       "    </tr>\n",
       "    <tr>\n",
       "      <th>4</th>\n",
       "      <td>186</td>\n",
       "      <td>302</td>\n",
       "      <td>3</td>\n",
       "      <td>1998-04-04 19:22:22</td>\n",
       "      <td>39</td>\n",
       "      <td>F</td>\n",
       "      <td>executive</td>\n",
       "      <td>00000</td>\n",
       "      <td>L.A. Confidential (1997)</td>\n",
       "      <td>1997.0</td>\n",
       "      <td>1990.0</td>\n",
       "      <td>Thriller</td>\n",
       "      <td>1998</td>\n",
       "    </tr>\n",
       "  </tbody>\n",
       "</table>\n",
       "</div>"
      ],
      "text/plain": [
       "   user_id  movie_id  rating            timestamp  age gender occupation  \\\n",
       "0      196       242       3  1997-12-04 15:55:49   49      M     writer   \n",
       "1      186       302       3  1998-04-04 19:22:22   39      F  executive   \n",
       "2      186       302       3  1998-04-04 19:22:22   39      F  executive   \n",
       "3      186       302       3  1998-04-04 19:22:22   39      F  executive   \n",
       "4      186       302       3  1998-04-04 19:22:22   39      F  executive   \n",
       "\n",
       "  zip_code                     title    year  decade     genres  rating_year  \n",
       "0    55105              Kolya (1996)  1996.0  1990.0     Comedy         1997  \n",
       "1    00000  L.A. Confidential (1997)  1997.0  1990.0      Crime         1998  \n",
       "2    00000  L.A. Confidential (1997)  1997.0  1990.0  Film-Noir         1998  \n",
       "3    00000  L.A. Confidential (1997)  1997.0  1990.0    Mystery         1998  \n",
       "4    00000  L.A. Confidential (1997)  1997.0  1990.0   Thriller         1998  "
      ]
     },
     "execution_count": 3,
     "metadata": {},
     "output_type": "execute_result"
    }
   ],
   "source": [
    "df.head()"
   ]
  },
  {
   "cell_type": "code",
   "execution_count": 4,
   "id": "13d8e856-52ad-48a7-b411-5de170f2e193",
   "metadata": {},
   "outputs": [
    {
     "name": "stdout",
     "output_type": "stream",
     "text": [
      "<class 'pandas.core.frame.DataFrame'>\n",
      "RangeIndex: 212595 entries, 0 to 212594\n",
      "Data columns (total 13 columns):\n",
      " #   Column       Non-Null Count   Dtype  \n",
      "---  ------       --------------   -----  \n",
      " 0   user_id      212595 non-null  int64  \n",
      " 1   movie_id     212595 non-null  int64  \n",
      " 2   rating       212595 non-null  int64  \n",
      " 3   timestamp    212595 non-null  object \n",
      " 4   age          212595 non-null  int64  \n",
      " 5   gender       212595 non-null  object \n",
      " 6   occupation   212595 non-null  object \n",
      " 7   zip_code     212595 non-null  object \n",
      " 8   title        212595 non-null  object \n",
      " 9   year         212559 non-null  float64\n",
      " 10  decade       212559 non-null  float64\n",
      " 11  genres       212595 non-null  object \n",
      " 12  rating_year  212595 non-null  int64  \n",
      "dtypes: float64(2), int64(5), object(6)\n",
      "memory usage: 21.1+ MB\n"
     ]
    }
   ],
   "source": [
    "df.info()"
   ]
  },
  {
   "cell_type": "markdown",
   "id": "ac37e2c2-b414-4a13-bf20-26a7288735e6",
   "metadata": {},
   "source": [
    "**Convert timestamp to datetime**"
   ]
  },
  {
   "cell_type": "code",
   "execution_count": 5,
   "id": "82f6b757-bdfc-4e32-92dd-fe70974eb1a8",
   "metadata": {
    "tags": []
   },
   "outputs": [],
   "source": [
    "df[\"timestamp\"] = pd.to_datetime(df[\"timestamp\"])"
   ]
  },
  {
   "cell_type": "code",
   "execution_count": 6,
   "id": "e15c74ad-bf04-4ada-9331-e78944fde81f",
   "metadata": {
    "tags": []
   },
   "outputs": [
    {
     "data": {
      "text/plain": [
       "user_id         0\n",
       "movie_id        0\n",
       "rating          0\n",
       "timestamp       0\n",
       "age             0\n",
       "gender          0\n",
       "occupation      0\n",
       "zip_code        0\n",
       "title           0\n",
       "year           36\n",
       "decade         36\n",
       "genres          0\n",
       "rating_year     0\n",
       "dtype: int64"
      ]
     },
     "execution_count": 6,
     "metadata": {},
     "output_type": "execute_result"
    }
   ],
   "source": [
    "df.isnull().sum()"
   ]
  },
  {
   "cell_type": "markdown",
   "id": "714cca5e-0ad3-4508-b392-46f5234b0d5e",
   "metadata": {},
   "source": [
    "**What's the breakdown of genres for the movies that were rated?**"
   ]
  },
  {
   "cell_type": "code",
   "execution_count": 7,
   "id": "d3a3aa0b-b2dd-41d2-9224-7bcac8bd51bf",
   "metadata": {
    "tags": []
   },
   "outputs": [],
   "source": [
    "genres_df = df['genres'].value_counts().reset_index().rename({'index':'genre','genres':'count'}, axis = 1)"
   ]
  },
  {
   "cell_type": "code",
   "execution_count": 8,
   "id": "25523ca4-17fa-49c5-a651-ea1d144d75c7",
   "metadata": {
    "tags": []
   },
   "outputs": [],
   "source": [
    "chart = alt.Chart(genres_df).mark_bar().encode(\n",
    "    y=alt.Y('genre:N', sort=None, title='Genre'),   \n",
    "    x=alt.X('count:Q', title='Count'),                  \n",
    "    color='genre:N',\n",
    "    tooltip=['genre', 'count']\n",
    ").properties(\n",
    "    title='Genres Distribution',\n",
    "    width=800,\n",
    "    height=400\n",
    ")"
   ]
  },
  {
   "cell_type": "code",
   "execution_count": 9,
   "id": "0812bbe4-323b-4bbc-b56a-27f2870dfbb0",
   "metadata": {
    "tags": []
   },
   "outputs": [
    {
     "data": {
      "application/vnd.vegalite.v5+json": {
       "$schema": "https://vega.github.io/schema/vega-lite/v5.20.1.json",
       "config": {
        "view": {
         "continuousHeight": 300,
         "continuousWidth": 300
        }
       },
       "data": {
        "name": "data-74581ef61ddbbcfd9d64e8019641fe22"
       },
       "datasets": {
        "data-74581ef61ddbbcfd9d64e8019641fe22": [
         {
          "count": 39895,
          "genre": "Drama"
         },
         {
          "count": 29832,
          "genre": "Comedy"
         },
         {
          "count": 25589,
          "genre": "Action"
         },
         {
          "count": 21872,
          "genre": "Thriller"
         },
         {
          "count": 19461,
          "genre": "Romance"
         },
         {
          "count": 13753,
          "genre": "Adventure"
         },
         {
          "count": 12730,
          "genre": "Sci-Fi"
         },
         {
          "count": 9398,
          "genre": "War"
         },
         {
          "count": 8055,
          "genre": "Crime"
         },
         {
          "count": 7182,
          "genre": "Children"
         },
         {
          "count": 5317,
          "genre": "Horror"
         },
         {
          "count": 5245,
          "genre": "Mystery"
         },
         {
          "count": 4954,
          "genre": "Musical"
         },
         {
          "count": 3605,
          "genre": "Animation"
         },
         {
          "count": 1854,
          "genre": "Western"
         },
         {
          "count": 1733,
          "genre": "Film-Noir"
         },
         {
          "count": 1352,
          "genre": "Fantasy"
         },
         {
          "count": 758,
          "genre": "Documentary"
         },
         {
          "count": 10,
          "genre": "unknown"
         }
        ]
       },
       "encoding": {
        "color": {
         "field": "genre",
         "type": "nominal"
        },
        "tooltip": [
         {
          "field": "genre",
          "type": "nominal"
         },
         {
          "field": "count",
          "type": "quantitative"
         }
        ],
        "x": {
         "field": "count",
         "title": "Count",
         "type": "quantitative"
        },
        "y": {
         "field": "genre",
         "sort": null,
         "title": "Genre",
         "type": "nominal"
        }
       },
       "height": 400,
       "mark": {
        "type": "bar"
       },
       "title": "Genres Distribution",
       "width": 800
      },
      "text/plain": [
       "<VegaLite 5 object>\n",
       "\n",
       "If you see this message, it means the renderer has not been properly enabled\n",
       "for the frontend that you are using. For more information, see\n",
       "https://altair-viz.github.io/user_guide/display_frontends.html#troubleshooting\n"
      ]
     },
     "execution_count": 9,
     "metadata": {},
     "output_type": "execute_result"
    }
   ],
   "source": [
    "chart"
   ]
  },
  {
   "cell_type": "markdown",
   "id": "d524a449-9e23-4ac5-80d3-52c60c90750a",
   "metadata": {
    "tags": []
   },
   "source": [
    "**Which genres have the highest viewer satisfaction (highest ratings)?**"
   ]
  },
  {
   "cell_type": "code",
   "execution_count": 10,
   "id": "0ffa9558-a02b-4d16-af22-f53a40798d23",
   "metadata": {
    "tags": []
   },
   "outputs": [
    {
     "data": {
      "text/plain": [
       "array([3, 1, 2, 4, 5], dtype=int64)"
      ]
     },
     "execution_count": 10,
     "metadata": {},
     "output_type": "execute_result"
    }
   ],
   "source": [
    "df['rating'].unique()"
   ]
  },
  {
   "cell_type": "markdown",
   "id": "54209320-7775-4935-8c24-27ad90c914c4",
   "metadata": {},
   "source": [
    "**Strategies** \\\n",
    "First Strategy is just caclulate average rating for each genre and find the one with the highest \\\n",
    "Second Strategy is choose genres with highest percentage of max rating = 5."
   ]
  },
  {
   "cell_type": "code",
   "execution_count": 11,
   "id": "d0bc6fbc-4468-422c-8ba6-d5a9bd3a0e2f",
   "metadata": {
    "tags": []
   },
   "outputs": [],
   "source": [
    "genres_avg_rating = df.groupby(['genres']).agg({'rating':'mean'}).reset_index().sort_values(by= 'rating', ascending=False)"
   ]
  },
  {
   "cell_type": "code",
   "execution_count": 12,
   "id": "ff76d420-d2ba-4ce6-bd6b-8b141bf50fee",
   "metadata": {
    "tags": []
   },
   "outputs": [
    {
     "data": {
      "application/vnd.vegalite.v5+json": {
       "$schema": "https://vega.github.io/schema/vega-lite/v5.20.1.json",
       "config": {
        "view": {
         "continuousHeight": 300,
         "continuousWidth": 300
        }
       },
       "data": {
        "name": "data-2e1e704b15fba2fa462a99e54bc233ce"
       },
       "datasets": {
        "data-2e1e704b15fba2fa462a99e54bc233ce": [
         {
          "genres": "Film-Noir",
          "rating": 3.9215233698788228
         },
         {
          "genres": "War",
          "rating": 3.815811874866993
         },
         {
          "genres": "Drama",
          "rating": 3.6873793708484772
         },
         {
          "genres": "Documentary",
          "rating": 3.6728232189973613
         },
         {
          "genres": "Mystery",
          "rating": 3.63813155386082
         },
         {
          "genres": "Crime",
          "rating": 3.6322780881440098
         },
         {
          "genres": "Romance",
          "rating": 3.621704948358255
         },
         {
          "genres": "Western",
          "rating": 3.6132686084142396
         },
         {
          "genres": "Animation",
          "rating": 3.5766990291262135
         },
         {
          "genres": "Sci-Fi",
          "rating": 3.5607227022780834
         },
         {
          "genres": "Musical",
          "rating": 3.521396851029471
         },
         {
          "genres": "Thriller",
          "rating": 3.5090069495245064
         },
         {
          "genres": "Adventure",
          "rating": 3.503526503308369
         },
         {
          "genres": "Action",
          "rating": 3.480245417953027
         },
         {
          "genres": "Comedy",
          "rating": 3.3940734781442745
         },
         {
          "genres": "Children",
          "rating": 3.3532442216652742
         },
         {
          "genres": "Horror",
          "rating": 3.2903893172841827
         },
         {
          "genres": "Fantasy",
          "rating": 3.2152366863905324
         },
         {
          "genres": "unknown",
          "rating": 3.2
         }
        ]
       },
       "encoding": {
        "color": {
         "field": "genres",
         "legend": null,
         "type": "nominal"
        },
        "tooltip": [
         {
          "field": "genres",
          "type": "nominal"
         },
         {
          "field": "rating",
          "type": "quantitative"
         }
        ],
        "x": {
         "field": "genres",
         "sort": "-y",
         "type": "nominal"
        },
        "y": {
         "field": "rating",
         "type": "quantitative"
        }
       },
       "height": 200,
       "mark": {
        "type": "bar"
       },
       "title": "Best Genre based on average rating",
       "width": 900
      },
      "text/plain": [
       "<VegaLite 5 object>\n",
       "\n",
       "If you see this message, it means the renderer has not been properly enabled\n",
       "for the frontend that you are using. For more information, see\n",
       "https://altair-viz.github.io/user_guide/display_frontends.html#troubleshooting\n"
      ]
     },
     "metadata": {},
     "output_type": "display_data"
    }
   ],
   "source": [
    "chart = alt.Chart(genres_avg_rating).mark_bar().encode(\n",
    "    x=alt.X('genres:N', sort='-y'),   # sort bars by count\n",
    "    y=alt.Y('rating:Q'),\n",
    "    color=alt.Color('genres:N', legend=None),  # distinct colors per brand\n",
    "    tooltip=['genres', 'rating']\n",
    ").properties(\n",
    "    title=\"Best Genre based on average rating\",\n",
    "    width=900,\n",
    "    height=200\n",
    ")\n",
    "\n",
    "chart.show()"
   ]
  },
  {
   "cell_type": "markdown",
   "id": "00522e27-c330-485c-958e-a0b1c4559a04",
   "metadata": {},
   "source": [
    "**second approach**"
   ]
  },
  {
   "cell_type": "code",
   "execution_count": 13,
   "id": "bd813b7e-17ce-420b-9062-b1c22eb7636d",
   "metadata": {
    "tags": []
   },
   "outputs": [
    {
     "data": {
      "text/html": [
       "<div>\n",
       "<style scoped>\n",
       "    .dataframe tbody tr th:only-of-type {\n",
       "        vertical-align: middle;\n",
       "    }\n",
       "\n",
       "    .dataframe tbody tr th {\n",
       "        vertical-align: top;\n",
       "    }\n",
       "\n",
       "    .dataframe thead th {\n",
       "        text-align: right;\n",
       "    }\n",
       "</style>\n",
       "<table border=\"1\" class=\"dataframe\">\n",
       "  <thead>\n",
       "    <tr style=\"text-align: right;\">\n",
       "      <th></th>\n",
       "      <th>genres</th>\n",
       "      <th>total_ratings</th>\n",
       "      <th>five_star_count</th>\n",
       "      <th>percentage</th>\n",
       "    </tr>\n",
       "  </thead>\n",
       "  <tbody>\n",
       "    <tr>\n",
       "      <th>9</th>\n",
       "      <td>Film-Noir</td>\n",
       "      <td>1733</td>\n",
       "      <td>560</td>\n",
       "      <td>0.32</td>\n",
       "    </tr>\n",
       "    <tr>\n",
       "      <th>16</th>\n",
       "      <td>War</td>\n",
       "      <td>9398</td>\n",
       "      <td>2914</td>\n",
       "      <td>0.31</td>\n",
       "    </tr>\n",
       "    <tr>\n",
       "      <th>6</th>\n",
       "      <td>Documentary</td>\n",
       "      <td>758</td>\n",
       "      <td>209</td>\n",
       "      <td>0.28</td>\n",
       "    </tr>\n",
       "    <tr>\n",
       "      <th>7</th>\n",
       "      <td>Drama</td>\n",
       "      <td>39895</td>\n",
       "      <td>9997</td>\n",
       "      <td>0.25</td>\n",
       "    </tr>\n",
       "    <tr>\n",
       "      <th>5</th>\n",
       "      <td>Crime</td>\n",
       "      <td>8055</td>\n",
       "      <td>1963</td>\n",
       "      <td>0.24</td>\n",
       "    </tr>\n",
       "    <tr>\n",
       "      <th>13</th>\n",
       "      <td>Romance</td>\n",
       "      <td>19461</td>\n",
       "      <td>4559</td>\n",
       "      <td>0.23</td>\n",
       "    </tr>\n",
       "    <tr>\n",
       "      <th>14</th>\n",
       "      <td>Sci-Fi</td>\n",
       "      <td>12730</td>\n",
       "      <td>2914</td>\n",
       "      <td>0.23</td>\n",
       "    </tr>\n",
       "    <tr>\n",
       "      <th>12</th>\n",
       "      <td>Mystery</td>\n",
       "      <td>5245</td>\n",
       "      <td>1225</td>\n",
       "      <td>0.23</td>\n",
       "    </tr>\n",
       "    <tr>\n",
       "      <th>2</th>\n",
       "      <td>Animation</td>\n",
       "      <td>3605</td>\n",
       "      <td>796</td>\n",
       "      <td>0.22</td>\n",
       "    </tr>\n",
       "    <tr>\n",
       "      <th>17</th>\n",
       "      <td>Western</td>\n",
       "      <td>1854</td>\n",
       "      <td>394</td>\n",
       "      <td>0.21</td>\n",
       "    </tr>\n",
       "    <tr>\n",
       "      <th>1</th>\n",
       "      <td>Adventure</td>\n",
       "      <td>13753</td>\n",
       "      <td>2903</td>\n",
       "      <td>0.21</td>\n",
       "    </tr>\n",
       "    <tr>\n",
       "      <th>11</th>\n",
       "      <td>Musical</td>\n",
       "      <td>4954</td>\n",
       "      <td>1050</td>\n",
       "      <td>0.21</td>\n",
       "    </tr>\n",
       "    <tr>\n",
       "      <th>15</th>\n",
       "      <td>Thriller</td>\n",
       "      <td>21872</td>\n",
       "      <td>4312</td>\n",
       "      <td>0.20</td>\n",
       "    </tr>\n",
       "    <tr>\n",
       "      <th>0</th>\n",
       "      <td>Action</td>\n",
       "      <td>25589</td>\n",
       "      <td>5103</td>\n",
       "      <td>0.20</td>\n",
       "    </tr>\n",
       "    <tr>\n",
       "      <th>4</th>\n",
       "      <td>Comedy</td>\n",
       "      <td>29832</td>\n",
       "      <td>5224</td>\n",
       "      <td>0.18</td>\n",
       "    </tr>\n",
       "    <tr>\n",
       "      <th>3</th>\n",
       "      <td>Children</td>\n",
       "      <td>7182</td>\n",
       "      <td>1217</td>\n",
       "      <td>0.17</td>\n",
       "    </tr>\n",
       "    <tr>\n",
       "      <th>10</th>\n",
       "      <td>Horror</td>\n",
       "      <td>5317</td>\n",
       "      <td>877</td>\n",
       "      <td>0.16</td>\n",
       "    </tr>\n",
       "    <tr>\n",
       "      <th>8</th>\n",
       "      <td>Fantasy</td>\n",
       "      <td>1352</td>\n",
       "      <td>176</td>\n",
       "      <td>0.13</td>\n",
       "    </tr>\n",
       "    <tr>\n",
       "      <th>18</th>\n",
       "      <td>unknown</td>\n",
       "      <td>10</td>\n",
       "      <td>1</td>\n",
       "      <td>0.10</td>\n",
       "    </tr>\n",
       "  </tbody>\n",
       "</table>\n",
       "</div>"
      ],
      "text/plain": [
       "         genres  total_ratings  five_star_count  percentage\n",
       "9     Film-Noir           1733              560        0.32\n",
       "16          War           9398             2914        0.31\n",
       "6   Documentary            758              209        0.28\n",
       "7         Drama          39895             9997        0.25\n",
       "5         Crime           8055             1963        0.24\n",
       "13      Romance          19461             4559        0.23\n",
       "14       Sci-Fi          12730             2914        0.23\n",
       "12      Mystery           5245             1225        0.23\n",
       "2     Animation           3605              796        0.22\n",
       "17      Western           1854              394        0.21\n",
       "1     Adventure          13753             2903        0.21\n",
       "11      Musical           4954             1050        0.21\n",
       "15     Thriller          21872             4312        0.20\n",
       "0        Action          25589             5103        0.20\n",
       "4        Comedy          29832             5224        0.18\n",
       "3      Children           7182             1217        0.17\n",
       "10       Horror           5317              877        0.16\n",
       "8       Fantasy           1352              176        0.13\n",
       "18      unknown             10                1        0.10"
      ]
     },
     "execution_count": 13,
     "metadata": {},
     "output_type": "execute_result"
    }
   ],
   "source": [
    "# Step 1: count total ratings per genre\n",
    "total_counts = df.groupby(\"genres\")[\"rating\"].count()\n",
    "# Step 2: count only 5-star ratings per genre\n",
    "five_star_counts = df[df[\"rating\"] == 5].groupby(\"genres\")[\"rating\"].count()\n",
    "# Step 3: combine\n",
    "best_genres = pd.DataFrame({\n",
    "    \"total_ratings\": total_counts,\n",
    "    \"five_star_count\": five_star_counts\n",
    "}).fillna(0).reset_index()\n",
    "\n",
    "best_genres['percentage'] = round(best_genres['five_star_count'] / best_genres['total_ratings'],2)\n",
    "best_genres.sort_values(by = 'percentage', ascending = False)"
   ]
  },
  {
   "cell_type": "code",
   "execution_count": 14,
   "id": "2f277093-63c7-4d60-8f4b-7aec25ac87bc",
   "metadata": {
    "tags": []
   },
   "outputs": [
    {
     "data": {
      "application/vnd.vegalite.v5+json": {
       "$schema": "https://vega.github.io/schema/vega-lite/v5.20.1.json",
       "config": {
        "view": {
         "continuousHeight": 300,
         "continuousWidth": 300
        }
       },
       "data": {
        "name": "data-3eadc37a7b707cf425e27b096ff445e0"
       },
       "datasets": {
        "data-3eadc37a7b707cf425e27b096ff445e0": [
         {
          "five_star_count": 5103,
          "genres": "Action",
          "percentage": 0.2,
          "total_ratings": 25589
         },
         {
          "five_star_count": 2903,
          "genres": "Adventure",
          "percentage": 0.21,
          "total_ratings": 13753
         },
         {
          "five_star_count": 796,
          "genres": "Animation",
          "percentage": 0.22,
          "total_ratings": 3605
         },
         {
          "five_star_count": 1217,
          "genres": "Children",
          "percentage": 0.17,
          "total_ratings": 7182
         },
         {
          "five_star_count": 5224,
          "genres": "Comedy",
          "percentage": 0.18,
          "total_ratings": 29832
         },
         {
          "five_star_count": 1963,
          "genres": "Crime",
          "percentage": 0.24,
          "total_ratings": 8055
         },
         {
          "five_star_count": 209,
          "genres": "Documentary",
          "percentage": 0.28,
          "total_ratings": 758
         },
         {
          "five_star_count": 9997,
          "genres": "Drama",
          "percentage": 0.25,
          "total_ratings": 39895
         },
         {
          "five_star_count": 176,
          "genres": "Fantasy",
          "percentage": 0.13,
          "total_ratings": 1352
         },
         {
          "five_star_count": 560,
          "genres": "Film-Noir",
          "percentage": 0.32,
          "total_ratings": 1733
         },
         {
          "five_star_count": 877,
          "genres": "Horror",
          "percentage": 0.16,
          "total_ratings": 5317
         },
         {
          "five_star_count": 1050,
          "genres": "Musical",
          "percentage": 0.21,
          "total_ratings": 4954
         },
         {
          "five_star_count": 1225,
          "genres": "Mystery",
          "percentage": 0.23,
          "total_ratings": 5245
         },
         {
          "five_star_count": 4559,
          "genres": "Romance",
          "percentage": 0.23,
          "total_ratings": 19461
         },
         {
          "five_star_count": 2914,
          "genres": "Sci-Fi",
          "percentage": 0.23,
          "total_ratings": 12730
         },
         {
          "five_star_count": 4312,
          "genres": "Thriller",
          "percentage": 0.2,
          "total_ratings": 21872
         },
         {
          "five_star_count": 2914,
          "genres": "War",
          "percentage": 0.31,
          "total_ratings": 9398
         },
         {
          "five_star_count": 394,
          "genres": "Western",
          "percentage": 0.21,
          "total_ratings": 1854
         },
         {
          "five_star_count": 1,
          "genres": "unknown",
          "percentage": 0.1,
          "total_ratings": 10
         }
        ]
       },
       "encoding": {
        "color": {
         "field": "genres",
         "legend": null,
         "type": "nominal"
        },
        "tooltip": [
         {
          "field": "genres",
          "type": "nominal"
         },
         {
          "field": "percentage",
          "type": "quantitative"
         }
        ],
        "x": {
         "field": "genres",
         "sort": "-y",
         "type": "nominal"
        },
        "y": {
         "field": "percentage",
         "type": "quantitative"
        }
       },
       "height": 200,
       "mark": {
        "type": "bar"
       },
       "title": "Percentage of 5 star  ratings",
       "width": 900
      },
      "text/plain": [
       "<VegaLite 5 object>\n",
       "\n",
       "If you see this message, it means the renderer has not been properly enabled\n",
       "for the frontend that you are using. For more information, see\n",
       "https://altair-viz.github.io/user_guide/display_frontends.html#troubleshooting\n"
      ]
     },
     "metadata": {},
     "output_type": "display_data"
    }
   ],
   "source": [
    "chart = alt.Chart(best_genres).mark_bar().encode(\n",
    "    x=alt.X('genres:N', sort='-y'),   # sort bars by count\n",
    "    y=alt.Y('percentage:Q'),\n",
    "    color=alt.Color('genres:N', legend=None),  # distinct colors per brand\n",
    "    tooltip=['genres', 'percentage']\n",
    ").properties(\n",
    "    title=\"Percentage of 5 star  ratings\",\n",
    "    width=900,\n",
    "    height=200\n",
    ")\n",
    "\n",
    "chart.show()"
   ]
  },
  {
   "cell_type": "markdown",
   "id": "05a1960e-ab69-4abb-8560-7a58a87c6903",
   "metadata": {},
   "source": [
    "**How does mean rating change across movie release years?**"
   ]
  },
  {
   "cell_type": "code",
   "execution_count": 15,
   "id": "15324284-a608-4b0b-bb79-a0290e31d1e0",
   "metadata": {
    "tags": []
   },
   "outputs": [],
   "source": [
    "df[\"year_month\"] = df[\"timestamp\"].dt.to_period(\"M\").astype(str)"
   ]
  },
  {
   "cell_type": "code",
   "execution_count": 16,
   "id": "3e4ee3c3-d5e4-4eac-9ab2-12809e3103b0",
   "metadata": {
    "tags": []
   },
   "outputs": [],
   "source": [
    "back_to_future = df[df['title'] == \"Back to the Future (1985)\"]"
   ]
  },
  {
   "cell_type": "code",
   "execution_count": 17,
   "id": "726cde5c-a4b5-4cc9-a69f-2b509ede5a68",
   "metadata": {
    "tags": []
   },
   "outputs": [],
   "source": [
    "time_rating = back_to_future.groupby('year_month').agg({'rating':'mean'}).reset_index().sort_values(by = 'year_month', ascending = True)"
   ]
  },
  {
   "cell_type": "code",
   "execution_count": 18,
   "id": "15d8cf8c-63fe-4c05-91b4-17b78fa3c331",
   "metadata": {
    "tags": []
   },
   "outputs": [
    {
     "data": {
      "application/vnd.vegalite.v5+json": {
       "$schema": "https://vega.github.io/schema/vega-lite/v5.20.1.json",
       "config": {
        "view": {
         "continuousHeight": 300,
         "continuousWidth": 300
        }
       },
       "data": {
        "name": "data-0515e003fcc84941fd52589885efdb1a"
       },
       "datasets": {
        "data-0515e003fcc84941fd52589885efdb1a": [
         {
          "rating": 3.8846153846153846,
          "year_month": "1997-09"
         },
         {
          "rating": 3.948717948717949,
          "year_month": "1997-10"
         },
         {
          "rating": 3.882978723404255,
          "year_month": "1997-11"
         },
         {
          "rating": 3.875,
          "year_month": "1997-12"
         },
         {
          "rating": 3.96,
          "year_month": "1998-01"
         },
         {
          "rating": 3.5142857142857142,
          "year_month": "1998-02"
         },
         {
          "rating": 3.8292682926829267,
          "year_month": "1998-03"
         },
         {
          "rating": 3.56,
          "year_month": "1998-04"
         }
        ]
       },
       "encoding": {
        "tooltip": [
         {
          "field": "year_month",
          "type": "nominal"
         },
         {
          "field": "rating",
          "type": "quantitative"
         }
        ],
        "x": {
         "field": "year_month",
         "title": "Year-Month",
         "type": "ordinal"
        },
        "y": {
         "field": "rating",
         "title": "Average Rating",
         "type": "quantitative"
        }
       },
       "height": 400,
       "mark": {
        "point": true,
        "type": "line"
       },
       "title": "Average Movie Ratings Over Time",
       "width": 600
      },
      "text/plain": [
       "<VegaLite 5 object>\n",
       "\n",
       "If you see this message, it means the renderer has not been properly enabled\n",
       "for the frontend that you are using. For more information, see\n",
       "https://altair-viz.github.io/user_guide/display_frontends.html#troubleshooting\n"
      ]
     },
     "execution_count": 18,
     "metadata": {},
     "output_type": "execute_result"
    }
   ],
   "source": [
    "chart = (\n",
    "    alt.Chart(time_rating)\n",
    "    .mark_line(point=True)\n",
    "    .encode(\n",
    "        x=alt.X(\"year_month:O\", title=\"Year-Month\"),  # use Ordinal (O) instead of Temporal (T)\n",
    "        y=alt.Y(\"rating:Q\", title=\"Average Rating\"),\n",
    "        tooltip=[\"year_month\", \"rating:Q\"]\n",
    "    )\n",
    "    .properties(\n",
    "        title=\"Average Movie Ratings Over Time\",\n",
    "        width=600,\n",
    "        height=400\n",
    "    )\n",
    ")\n",
    "\n",
    "chart\n"
   ]
  },
  {
   "cell_type": "markdown",
   "id": "41e6b5c1-57e1-4bf4-bfac-57afd152ecc8",
   "metadata": {},
   "source": [
    "**What are the 5 best-rated movies that have at least 50 ratings? At least 150 ratings?**"
   ]
  },
  {
   "cell_type": "code",
   "execution_count": 19,
   "id": "c0170da9-27f4-4baa-a184-b50fc28f5ddd",
   "metadata": {
    "tags": []
   },
   "outputs": [],
   "source": [
    "best_rated_movs = (\n",
    "    df.groupby(\"title\")\n",
    "    .filter(lambda x: len(x) >= 50)\n",
    "    .groupby(\"title\")[\"rating\"]\n",
    "    .mean()\n",
    "    .sort_values( ascending=False)\n",
    ").reset_index()\n"
   ]
  },
  {
   "cell_type": "code",
   "execution_count": 20,
   "id": "75ed69e6-14b0-4e3e-91ed-0be09b78b596",
   "metadata": {
    "tags": []
   },
   "outputs": [
    {
     "data": {
      "text/html": [
       "<div>\n",
       "<style scoped>\n",
       "    .dataframe tbody tr th:only-of-type {\n",
       "        vertical-align: middle;\n",
       "    }\n",
       "\n",
       "    .dataframe tbody tr th {\n",
       "        vertical-align: top;\n",
       "    }\n",
       "\n",
       "    .dataframe thead th {\n",
       "        text-align: right;\n",
       "    }\n",
       "</style>\n",
       "<table border=\"1\" class=\"dataframe\">\n",
       "  <thead>\n",
       "    <tr style=\"text-align: right;\">\n",
       "      <th></th>\n",
       "      <th>title</th>\n",
       "      <th>rating</th>\n",
       "    </tr>\n",
       "  </thead>\n",
       "  <tbody>\n",
       "    <tr>\n",
       "      <th>0</th>\n",
       "      <td>Close Shave, A (1995)</td>\n",
       "      <td>4.491071</td>\n",
       "    </tr>\n",
       "    <tr>\n",
       "      <th>1</th>\n",
       "      <td>Schindler's List (1993)</td>\n",
       "      <td>4.466443</td>\n",
       "    </tr>\n",
       "    <tr>\n",
       "      <th>2</th>\n",
       "      <td>Wrong Trousers, The (1993)</td>\n",
       "      <td>4.466102</td>\n",
       "    </tr>\n",
       "    <tr>\n",
       "      <th>3</th>\n",
       "      <td>Casablanca (1942)</td>\n",
       "      <td>4.456790</td>\n",
       "    </tr>\n",
       "    <tr>\n",
       "      <th>4</th>\n",
       "      <td>Wallace &amp; Gromit: The Best of Aardman Animatio...</td>\n",
       "      <td>4.447761</td>\n",
       "    </tr>\n",
       "  </tbody>\n",
       "</table>\n",
       "</div>"
      ],
      "text/plain": [
       "                                               title    rating\n",
       "0                              Close Shave, A (1995)  4.491071\n",
       "1                            Schindler's List (1993)  4.466443\n",
       "2                         Wrong Trousers, The (1993)  4.466102\n",
       "3                                  Casablanca (1942)  4.456790\n",
       "4  Wallace & Gromit: The Best of Aardman Animatio...  4.447761"
      ]
     },
     "execution_count": 20,
     "metadata": {},
     "output_type": "execute_result"
    }
   ],
   "source": [
    "best_rated_movs[:5]"
   ]
  },
  {
   "cell_type": "code",
   "execution_count": 21,
   "id": "9b5016a5-2b9b-495a-948c-18cfdc52f6bf",
   "metadata": {
    "tags": []
   },
   "outputs": [],
   "source": [
    "best_rated_movs = (\n",
    "    df.groupby(\"title\")\n",
    "    .filter(lambda x: len(x) >= 150)\n",
    "    .groupby(\"title\")[\"rating\"]\n",
    "    .mean()\n",
    "    .sort_values( ascending=False)\n",
    ").reset_index()\n"
   ]
  },
  {
   "cell_type": "code",
   "execution_count": 22,
   "id": "332703ce-636e-4ec2-aaa8-32293aee0a8a",
   "metadata": {
    "tags": []
   },
   "outputs": [
    {
     "data": {
      "text/html": [
       "<div>\n",
       "<style scoped>\n",
       "    .dataframe tbody tr th:only-of-type {\n",
       "        vertical-align: middle;\n",
       "    }\n",
       "\n",
       "    .dataframe tbody tr th {\n",
       "        vertical-align: top;\n",
       "    }\n",
       "\n",
       "    .dataframe thead th {\n",
       "        text-align: right;\n",
       "    }\n",
       "</style>\n",
       "<table border=\"1\" class=\"dataframe\">\n",
       "  <thead>\n",
       "    <tr style=\"text-align: right;\">\n",
       "      <th></th>\n",
       "      <th>title</th>\n",
       "      <th>rating</th>\n",
       "    </tr>\n",
       "  </thead>\n",
       "  <tbody>\n",
       "    <tr>\n",
       "      <th>0</th>\n",
       "      <td>Close Shave, A (1995)</td>\n",
       "      <td>4.491071</td>\n",
       "    </tr>\n",
       "    <tr>\n",
       "      <th>1</th>\n",
       "      <td>Schindler's List (1993)</td>\n",
       "      <td>4.466443</td>\n",
       "    </tr>\n",
       "    <tr>\n",
       "      <th>2</th>\n",
       "      <td>Wrong Trousers, The (1993)</td>\n",
       "      <td>4.466102</td>\n",
       "    </tr>\n",
       "    <tr>\n",
       "      <th>3</th>\n",
       "      <td>Casablanca (1942)</td>\n",
       "      <td>4.456790</td>\n",
       "    </tr>\n",
       "    <tr>\n",
       "      <th>4</th>\n",
       "      <td>Shawshank Redemption, The (1994)</td>\n",
       "      <td>4.445230</td>\n",
       "    </tr>\n",
       "  </tbody>\n",
       "</table>\n",
       "</div>"
      ],
      "text/plain": [
       "                              title    rating\n",
       "0             Close Shave, A (1995)  4.491071\n",
       "1           Schindler's List (1993)  4.466443\n",
       "2        Wrong Trousers, The (1993)  4.466102\n",
       "3                 Casablanca (1942)  4.456790\n",
       "4  Shawshank Redemption, The (1994)  4.445230"
      ]
     },
     "execution_count": 22,
     "metadata": {},
     "output_type": "execute_result"
    }
   ],
   "source": [
    "best_rated_movs[:5]"
   ]
  },
  {
   "cell_type": "markdown",
   "id": "87c14e7f-b046-4569-a430-c6dedf4f2420",
   "metadata": {},
   "source": [
    "**For each genre, how does the rating change as viewer age increases?**"
   ]
  },
  {
   "cell_type": "code",
   "execution_count": 23,
   "id": "f16b5791-1bc9-42a4-8f2b-149e078baddc",
   "metadata": {
    "tags": []
   },
   "outputs": [],
   "source": [
    "age_rating = df.groupby(['genres','age']).agg({'rating':'mean'}).reset_index()"
   ]
  },
  {
   "cell_type": "code",
   "execution_count": 24,
   "id": "76e46b3b-aa3d-4e6e-8138-625b74315753",
   "metadata": {
    "tags": []
   },
   "outputs": [
    {
     "data": {
      "text/html": [
       "<div>\n",
       "<style scoped>\n",
       "    .dataframe tbody tr th:only-of-type {\n",
       "        vertical-align: middle;\n",
       "    }\n",
       "\n",
       "    .dataframe tbody tr th {\n",
       "        vertical-align: top;\n",
       "    }\n",
       "\n",
       "    .dataframe thead th {\n",
       "        text-align: right;\n",
       "    }\n",
       "</style>\n",
       "<table border=\"1\" class=\"dataframe\">\n",
       "  <thead>\n",
       "    <tr style=\"text-align: right;\">\n",
       "      <th></th>\n",
       "      <th>genres</th>\n",
       "      <th>age</th>\n",
       "      <th>rating</th>\n",
       "    </tr>\n",
       "  </thead>\n",
       "  <tbody>\n",
       "    <tr>\n",
       "      <th>0</th>\n",
       "      <td>Action</td>\n",
       "      <td>7</td>\n",
       "      <td>3.611111</td>\n",
       "    </tr>\n",
       "    <tr>\n",
       "      <th>1</th>\n",
       "      <td>Action</td>\n",
       "      <td>10</td>\n",
       "      <td>4.000000</td>\n",
       "    </tr>\n",
       "    <tr>\n",
       "      <th>2</th>\n",
       "      <td>Action</td>\n",
       "      <td>11</td>\n",
       "      <td>3.076923</td>\n",
       "    </tr>\n",
       "    <tr>\n",
       "      <th>3</th>\n",
       "      <td>Action</td>\n",
       "      <td>13</td>\n",
       "      <td>3.493421</td>\n",
       "    </tr>\n",
       "    <tr>\n",
       "      <th>4</th>\n",
       "      <td>Action</td>\n",
       "      <td>14</td>\n",
       "      <td>3.593220</td>\n",
       "    </tr>\n",
       "    <tr>\n",
       "      <th>...</th>\n",
       "      <td>...</td>\n",
       "      <td>...</td>\n",
       "      <td>...</td>\n",
       "    </tr>\n",
       "    <tr>\n",
       "      <th>1057</th>\n",
       "      <td>unknown</td>\n",
       "      <td>26</td>\n",
       "      <td>2.500000</td>\n",
       "    </tr>\n",
       "    <tr>\n",
       "      <th>1058</th>\n",
       "      <td>unknown</td>\n",
       "      <td>29</td>\n",
       "      <td>3.000000</td>\n",
       "    </tr>\n",
       "    <tr>\n",
       "      <th>1059</th>\n",
       "      <td>unknown</td>\n",
       "      <td>33</td>\n",
       "      <td>4.000000</td>\n",
       "    </tr>\n",
       "    <tr>\n",
       "      <th>1060</th>\n",
       "      <td>unknown</td>\n",
       "      <td>34</td>\n",
       "      <td>1.000000</td>\n",
       "    </tr>\n",
       "    <tr>\n",
       "      <th>1061</th>\n",
       "      <td>unknown</td>\n",
       "      <td>38</td>\n",
       "      <td>4.000000</td>\n",
       "    </tr>\n",
       "  </tbody>\n",
       "</table>\n",
       "<p>1062 rows × 3 columns</p>\n",
       "</div>"
      ],
      "text/plain": [
       "       genres  age    rating\n",
       "0      Action    7  3.611111\n",
       "1      Action   10  4.000000\n",
       "2      Action   11  3.076923\n",
       "3      Action   13  3.493421\n",
       "4      Action   14  3.593220\n",
       "...       ...  ...       ...\n",
       "1057  unknown   26  2.500000\n",
       "1058  unknown   29  3.000000\n",
       "1059  unknown   33  4.000000\n",
       "1060  unknown   34  1.000000\n",
       "1061  unknown   38  4.000000\n",
       "\n",
       "[1062 rows x 3 columns]"
      ]
     },
     "execution_count": 24,
     "metadata": {},
     "output_type": "execute_result"
    }
   ],
   "source": [
    "age_rating"
   ]
  },
  {
   "cell_type": "code",
   "execution_count": 25,
   "id": "94c03e19-0eee-4f0b-b803-b321c5fa5265",
   "metadata": {
    "tags": []
   },
   "outputs": [],
   "source": [
    "action_genre = age_rating[age_rating['genres'] == 'Action']"
   ]
  },
  {
   "cell_type": "code",
   "execution_count": 26,
   "id": "9ad03d6e-a6ec-48b5-b746-cc9d17167f0b",
   "metadata": {
    "tags": []
   },
   "outputs": [
    {
     "data": {
      "text/html": [
       "<div>\n",
       "<style scoped>\n",
       "    .dataframe tbody tr th:only-of-type {\n",
       "        vertical-align: middle;\n",
       "    }\n",
       "\n",
       "    .dataframe tbody tr th {\n",
       "        vertical-align: top;\n",
       "    }\n",
       "\n",
       "    .dataframe thead th {\n",
       "        text-align: right;\n",
       "    }\n",
       "</style>\n",
       "<table border=\"1\" class=\"dataframe\">\n",
       "  <thead>\n",
       "    <tr style=\"text-align: right;\">\n",
       "      <th></th>\n",
       "      <th>genres</th>\n",
       "      <th>age</th>\n",
       "      <th>rating</th>\n",
       "    </tr>\n",
       "  </thead>\n",
       "  <tbody>\n",
       "    <tr>\n",
       "      <th>0</th>\n",
       "      <td>Action</td>\n",
       "      <td>7</td>\n",
       "      <td>3.611111</td>\n",
       "    </tr>\n",
       "    <tr>\n",
       "      <th>1</th>\n",
       "      <td>Action</td>\n",
       "      <td>10</td>\n",
       "      <td>4.000000</td>\n",
       "    </tr>\n",
       "    <tr>\n",
       "      <th>2</th>\n",
       "      <td>Action</td>\n",
       "      <td>11</td>\n",
       "      <td>3.076923</td>\n",
       "    </tr>\n",
       "    <tr>\n",
       "      <th>3</th>\n",
       "      <td>Action</td>\n",
       "      <td>13</td>\n",
       "      <td>3.493421</td>\n",
       "    </tr>\n",
       "    <tr>\n",
       "      <th>4</th>\n",
       "      <td>Action</td>\n",
       "      <td>14</td>\n",
       "      <td>3.593220</td>\n",
       "    </tr>\n",
       "    <tr>\n",
       "      <th>...</th>\n",
       "      <td>...</td>\n",
       "      <td>...</td>\n",
       "      <td>...</td>\n",
       "    </tr>\n",
       "    <tr>\n",
       "      <th>56</th>\n",
       "      <td>Action</td>\n",
       "      <td>66</td>\n",
       "      <td>3.000000</td>\n",
       "    </tr>\n",
       "    <tr>\n",
       "      <th>57</th>\n",
       "      <td>Action</td>\n",
       "      <td>68</td>\n",
       "      <td>3.166667</td>\n",
       "    </tr>\n",
       "    <tr>\n",
       "      <th>58</th>\n",
       "      <td>Action</td>\n",
       "      <td>69</td>\n",
       "      <td>3.730769</td>\n",
       "    </tr>\n",
       "    <tr>\n",
       "      <th>59</th>\n",
       "      <td>Action</td>\n",
       "      <td>70</td>\n",
       "      <td>3.565217</td>\n",
       "    </tr>\n",
       "    <tr>\n",
       "      <th>60</th>\n",
       "      <td>Action</td>\n",
       "      <td>73</td>\n",
       "      <td>4.000000</td>\n",
       "    </tr>\n",
       "  </tbody>\n",
       "</table>\n",
       "<p>61 rows × 3 columns</p>\n",
       "</div>"
      ],
      "text/plain": [
       "    genres  age    rating\n",
       "0   Action    7  3.611111\n",
       "1   Action   10  4.000000\n",
       "2   Action   11  3.076923\n",
       "3   Action   13  3.493421\n",
       "4   Action   14  3.593220\n",
       "..     ...  ...       ...\n",
       "56  Action   66  3.000000\n",
       "57  Action   68  3.166667\n",
       "58  Action   69  3.730769\n",
       "59  Action   70  3.565217\n",
       "60  Action   73  4.000000\n",
       "\n",
       "[61 rows x 3 columns]"
      ]
     },
     "execution_count": 26,
     "metadata": {},
     "output_type": "execute_result"
    }
   ],
   "source": [
    "action_genre"
   ]
  },
  {
   "cell_type": "code",
   "execution_count": 27,
   "id": "990a033a-dab0-4be8-8d2a-cb7f4fedac24",
   "metadata": {
    "tags": []
   },
   "outputs": [
    {
     "data": {
      "application/vnd.vegalite.v5+json": {
       "$schema": "https://vega.github.io/schema/vega-lite/v5.20.1.json",
       "config": {
        "view": {
         "continuousHeight": 300,
         "continuousWidth": 300
        }
       },
       "data": {
        "name": "data-3a0d7042dad6db500af1757f4aadde23"
       },
       "datasets": {
        "data-3a0d7042dad6db500af1757f4aadde23": [
         {
          "age": 7,
          "genres": "Action",
          "rating": 3.611111111111111
         },
         {
          "age": 10,
          "genres": "Action",
          "rating": 4
         },
         {
          "age": 11,
          "genres": "Action",
          "rating": 3.076923076923077
         },
         {
          "age": 13,
          "genres": "Action",
          "rating": 3.4934210526315788
         },
         {
          "age": 14,
          "genres": "Action",
          "rating": 3.593220338983051
         },
         {
          "age": 15,
          "genres": "Action",
          "rating": 3.5
         },
         {
          "age": 16,
          "genres": "Action",
          "rating": 3.5217391304347827
         },
         {
          "age": 17,
          "genres": "Action",
          "rating": 3.651006711409396
         },
         {
          "age": 18,
          "genres": "Action",
          "rating": 3.7417677642980935
         },
         {
          "age": 19,
          "genres": "Action",
          "rating": 3.307101727447217
         },
         {
          "age": 20,
          "genres": "Action",
          "rating": 3.696747967479675
         },
         {
          "age": 21,
          "genres": "Action",
          "rating": 3.4532760472610096
         },
         {
          "age": 22,
          "genres": "Action",
          "rating": 3.2726432532347505
         },
         {
          "age": 23,
          "genres": "Action",
          "rating": 3.193243243243243
         },
         {
          "age": 24,
          "genres": "Action",
          "rating": 3.4625199362041466
         },
         {
          "age": 25,
          "genres": "Action",
          "rating": 3.5377952755905513
         },
         {
          "age": 26,
          "genres": "Action",
          "rating": 3.243414120126449
         },
         {
          "age": 27,
          "genres": "Action",
          "rating": 3.4154676258992804
         },
         {
          "age": 28,
          "genres": "Action",
          "rating": 3.4402907580477673
         },
         {
          "age": 29,
          "genres": "Action",
          "rating": 3.422773393461105
         },
         {
          "age": 30,
          "genres": "Action",
          "rating": 3.348643006263048
         },
         {
          "age": 31,
          "genres": "Action",
          "rating": 3.4118518518518517
         },
         {
          "age": 32,
          "genres": "Action",
          "rating": 3.5419058553386913
         },
         {
          "age": 33,
          "genres": "Action",
          "rating": 3.5898123324396782
         },
         {
          "age": 34,
          "genres": "Action",
          "rating": 3.43348623853211
         },
         {
          "age": 35,
          "genres": "Action",
          "rating": 3.6348039215686274
         },
         {
          "age": 36,
          "genres": "Action",
          "rating": 3.4777397260273974
         },
         {
          "age": 37,
          "genres": "Action",
          "rating": 3.5217391304347827
         },
         {
          "age": 38,
          "genres": "Action",
          "rating": 3.3326446280991737
         },
         {
          "age": 39,
          "genres": "Action",
          "rating": 3.538062283737024
         },
         {
          "age": 40,
          "genres": "Action",
          "rating": 3.6895787139689578
         },
         {
          "age": 41,
          "genres": "Action",
          "rating": 3.6272401433691757
         },
         {
          "age": 42,
          "genres": "Action",
          "rating": 3.282442748091603
         },
         {
          "age": 43,
          "genres": "Action",
          "rating": 3.602094240837696
         },
         {
          "age": 44,
          "genres": "Action",
          "rating": 3.5636363636363635
         },
         {
          "age": 45,
          "genres": "Action",
          "rating": 3.5355450236966823
         },
         {
          "age": 46,
          "genres": "Action",
          "rating": 3.7204301075268815
         },
         {
          "age": 47,
          "genres": "Action",
          "rating": 3.49009900990099
         },
         {
          "age": 48,
          "genres": "Action",
          "rating": 3.3880208333333335
         },
         {
          "age": 49,
          "genres": "Action",
          "rating": 3.642172523961661
         },
         {
          "age": 50,
          "genres": "Action",
          "rating": 3.5098522167487687
         },
         {
          "age": 51,
          "genres": "Action",
          "rating": 3.651252408477842
         },
         {
          "age": 52,
          "genres": "Action",
          "rating": 3.6106194690265485
         },
         {
          "age": 53,
          "genres": "Action",
          "rating": 3.736
         },
         {
          "age": 54,
          "genres": "Action",
          "rating": 3.288135593220339
         },
         {
          "age": 55,
          "genres": "Action",
          "rating": 3.7435897435897436
         },
         {
          "age": 56,
          "genres": "Action",
          "rating": 3.326530612244898
         },
         {
          "age": 57,
          "genres": "Action",
          "rating": 3.6547085201793723
         },
         {
          "age": 58,
          "genres": "Action",
          "rating": 3.4923076923076923
         },
         {
          "age": 59,
          "genres": "Action",
          "rating": 3.8461538461538463
         },
         {
          "age": 60,
          "genres": "Action",
          "rating": 3.5478927203065136
         },
         {
          "age": 61,
          "genres": "Action",
          "rating": 3.8225806451612905
         },
         {
          "age": 62,
          "genres": "Action",
          "rating": 3
         },
         {
          "age": 63,
          "genres": "Action",
          "rating": 3.7
         },
         {
          "age": 64,
          "genres": "Action",
          "rating": 2.9411764705882355
         },
         {
          "age": 65,
          "genres": "Action",
          "rating": 3.5106382978723403
         },
         {
          "age": 66,
          "genres": "Action",
          "rating": 3
         },
         {
          "age": 68,
          "genres": "Action",
          "rating": 3.1666666666666665
         },
         {
          "age": 69,
          "genres": "Action",
          "rating": 3.730769230769231
         },
         {
          "age": 70,
          "genres": "Action",
          "rating": 3.5652173913043477
         },
         {
          "age": 73,
          "genres": "Action",
          "rating": 4
         }
        ]
       },
       "encoding": {
        "tooltip": [
         {
          "field": "age",
          "type": "quantitative"
         },
         {
          "field": "rating",
          "type": "quantitative"
         }
        ],
        "x": {
         "field": "age",
         "title": "Age",
         "type": "ordinal"
        },
        "y": {
         "field": "rating",
         "title": "Average Rating",
         "type": "quantitative"
        }
       },
       "height": 200,
       "mark": {
        "point": true,
        "type": "line"
       },
       "title": "Action",
       "width": 400
      },
      "text/plain": [
       "<VegaLite 5 object>\n",
       "\n",
       "If you see this message, it means the renderer has not been properly enabled\n",
       "for the frontend that you are using. For more information, see\n",
       "https://altair-viz.github.io/user_guide/display_frontends.html#troubleshooting\n"
      ]
     },
     "metadata": {},
     "output_type": "display_data"
    },
    {
     "data": {
      "application/vnd.vegalite.v5+json": {
       "$schema": "https://vega.github.io/schema/vega-lite/v5.20.1.json",
       "config": {
        "view": {
         "continuousHeight": 300,
         "continuousWidth": 300
        }
       },
       "data": {
        "name": "data-7b98729339db87001007a7746a83f289"
       },
       "datasets": {
        "data-7b98729339db87001007a7746a83f289": [
         {
          "age": 7,
          "genres": "Adventure",
          "rating": 3.4285714285714284
         },
         {
          "age": 10,
          "genres": "Adventure",
          "rating": 3.857142857142857
         },
         {
          "age": 11,
          "genres": "Adventure",
          "rating": 2.625
         },
         {
          "age": 13,
          "genres": "Adventure",
          "rating": 3.2714285714285714
         },
         {
          "age": 14,
          "genres": "Adventure",
          "rating": 3.8297872340425534
         },
         {
          "age": 15,
          "genres": "Adventure",
          "rating": 3.526315789473684
         },
         {
          "age": 16,
          "genres": "Adventure",
          "rating": 3.5
         },
         {
          "age": 17,
          "genres": "Adventure",
          "rating": 3.68
         },
         {
          "age": 18,
          "genres": "Adventure",
          "rating": 3.667682926829268
         },
         {
          "age": 19,
          "genres": "Adventure",
          "rating": 3.3128598848368522
         },
         {
          "age": 20,
          "genres": "Adventure",
          "rating": 3.733118971061093
         },
         {
          "age": 21,
          "genres": "Adventure",
          "rating": 3.44136460554371
         },
         {
          "age": 22,
          "genres": "Adventure",
          "rating": 3.259962049335863
         },
         {
          "age": 23,
          "genres": "Adventure",
          "rating": 3.261764705882353
         },
         {
          "age": 24,
          "genres": "Adventure",
          "rating": 3.4714946070878274
         },
         {
          "age": 25,
          "genres": "Adventure",
          "rating": 3.5104477611940297
         },
         {
          "age": 26,
          "genres": "Adventure",
          "rating": 3.291404612159329
         },
         {
          "age": 27,
          "genres": "Adventure",
          "rating": 3.4358974358974357
         },
         {
          "age": 28,
          "genres": "Adventure",
          "rating": 3.530241935483871
         },
         {
          "age": 29,
          "genres": "Adventure",
          "rating": 3.511904761904762
         },
         {
          "age": 30,
          "genres": "Adventure",
          "rating": 3.379506641366224
         },
         {
          "age": 31,
          "genres": "Adventure",
          "rating": 3.398860398860399
         },
         {
          "age": 32,
          "genres": "Adventure",
          "rating": 3.5642570281124497
         },
         {
          "age": 33,
          "genres": "Adventure",
          "rating": 3.6482758620689655
         },
         {
          "age": 34,
          "genres": "Adventure",
          "rating": 3.4
         },
         {
          "age": 35,
          "genres": "Adventure",
          "rating": 3.6318082788671022
         },
         {
          "age": 36,
          "genres": "Adventure",
          "rating": 3.4910714285714284
         },
         {
          "age": 37,
          "genres": "Adventure",
          "rating": 3.658959537572254
         },
         {
          "age": 38,
          "genres": "Adventure",
          "rating": 3.3732876712328768
         },
         {
          "age": 39,
          "genres": "Adventure",
          "rating": 3.526153846153846
         },
         {
          "age": 40,
          "genres": "Adventure",
          "rating": 3.6338983050847458
         },
         {
          "age": 41,
          "genres": "Adventure",
          "rating": 3.739884393063584
         },
         {
          "age": 42,
          "genres": "Adventure",
          "rating": 3.3448275862068964
         },
         {
          "age": 43,
          "genres": "Adventure",
          "rating": 3.645933014354067
         },
         {
          "age": 44,
          "genres": "Adventure",
          "rating": 3.5280898876404496
         },
         {
          "age": 45,
          "genres": "Adventure",
          "rating": 3.634782608695652
         },
         {
          "age": 46,
          "genres": "Adventure",
          "rating": 3.8072289156626504
         },
         {
          "age": 47,
          "genres": "Adventure",
          "rating": 3.536723163841808
         },
         {
          "age": 48,
          "genres": "Adventure",
          "rating": 3.447004608294931
         },
         {
          "age": 49,
          "genres": "Adventure",
          "rating": 3.645348837209302
         },
         {
          "age": 50,
          "genres": "Adventure",
          "rating": 3.4585365853658536
         },
         {
          "age": 51,
          "genres": "Adventure",
          "rating": 3.6319702602230484
         },
         {
          "age": 52,
          "genres": "Adventure",
          "rating": 3.735294117647059
         },
         {
          "age": 53,
          "genres": "Adventure",
          "rating": 3.8846153846153846
         },
         {
          "age": 54,
          "genres": "Adventure",
          "rating": 3.28125
         },
         {
          "age": 55,
          "genres": "Adventure",
          "rating": 3.781609195402299
         },
         {
          "age": 56,
          "genres": "Adventure",
          "rating": 3.0344827586206895
         },
         {
          "age": 57,
          "genres": "Adventure",
          "rating": 3.672268907563025
         },
         {
          "age": 58,
          "genres": "Adventure",
          "rating": 3.6923076923076925
         },
         {
          "age": 59,
          "genres": "Adventure",
          "rating": 3.2
         },
         {
          "age": 60,
          "genres": "Adventure",
          "rating": 3.608974358974359
         },
         {
          "age": 61,
          "genres": "Adventure",
          "rating": 3.8285714285714287
         },
         {
          "age": 62,
          "genres": "Adventure",
          "rating": 2
         },
         {
          "age": 63,
          "genres": "Adventure",
          "rating": 3.3333333333333335
         },
         {
          "age": 64,
          "genres": "Adventure",
          "rating": 3.2
         },
         {
          "age": 65,
          "genres": "Adventure",
          "rating": 3.3703703703703702
         },
         {
          "age": 66,
          "genres": "Adventure",
          "rating": 3.3
         },
         {
          "age": 68,
          "genres": "Adventure",
          "rating": 3.2
         },
         {
          "age": 69,
          "genres": "Adventure",
          "rating": 3.8181818181818183
         },
         {
          "age": 70,
          "genres": "Adventure",
          "rating": 3.5
         },
         {
          "age": 73,
          "genres": "Adventure",
          "rating": 4.285714285714286
         }
        ]
       },
       "encoding": {
        "tooltip": [
         {
          "field": "age",
          "type": "quantitative"
         },
         {
          "field": "rating",
          "type": "quantitative"
         }
        ],
        "x": {
         "field": "age",
         "title": "Age",
         "type": "ordinal"
        },
        "y": {
         "field": "rating",
         "title": "Average Rating",
         "type": "quantitative"
        }
       },
       "height": 200,
       "mark": {
        "point": true,
        "type": "line"
       },
       "title": "Adventure",
       "width": 400
      },
      "text/plain": [
       "<VegaLite 5 object>\n",
       "\n",
       "If you see this message, it means the renderer has not been properly enabled\n",
       "for the frontend that you are using. For more information, see\n",
       "https://altair-viz.github.io/user_guide/display_frontends.html#troubleshooting\n"
      ]
     },
     "metadata": {},
     "output_type": "display_data"
    },
    {
     "data": {
      "application/vnd.vegalite.v5+json": {
       "$schema": "https://vega.github.io/schema/vega-lite/v5.20.1.json",
       "config": {
        "view": {
         "continuousHeight": 300,
         "continuousWidth": 300
        }
       },
       "data": {
        "name": "data-6aebda1831b3539557e1438147143f58"
       },
       "datasets": {
        "data-6aebda1831b3539557e1438147143f58": [
         {
          "age": 7,
          "genres": "Animation",
          "rating": 4
         },
         {
          "age": 10,
          "genres": "Animation",
          "rating": 2.6875
         },
         {
          "age": 11,
          "genres": "Animation",
          "rating": 2
         },
         {
          "age": 13,
          "genres": "Animation",
          "rating": 3.5294117647058822
         },
         {
          "age": 14,
          "genres": "Animation",
          "rating": 4.5
         },
         {
          "age": 15,
          "genres": "Animation",
          "rating": 3.6818181818181817
         },
         {
          "age": 16,
          "genres": "Animation",
          "rating": 3.25
         },
         {
          "age": 17,
          "genres": "Animation",
          "rating": 3.2
         },
         {
          "age": 18,
          "genres": "Animation",
          "rating": 3.7264150943396226
         },
         {
          "age": 19,
          "genres": "Animation",
          "rating": 3.5454545454545454
         },
         {
          "age": 20,
          "genres": "Animation",
          "rating": 3.8980891719745223
         },
         {
          "age": 21,
          "genres": "Animation",
          "rating": 3.809090909090909
         },
         {
          "age": 22,
          "genres": "Animation",
          "rating": 3.2153846153846155
         },
         {
          "age": 23,
          "genres": "Animation",
          "rating": 3.348314606741573
         },
         {
          "age": 24,
          "genres": "Animation",
          "rating": 3.5344827586206895
         },
         {
          "age": 25,
          "genres": "Animation",
          "rating": 3.566473988439306
         },
         {
          "age": 26,
          "genres": "Animation",
          "rating": 3.387596899224806
         },
         {
          "age": 27,
          "genres": "Animation",
          "rating": 3.520979020979021
         },
         {
          "age": 28,
          "genres": "Animation",
          "rating": 3.8157894736842106
         },
         {
          "age": 29,
          "genres": "Animation",
          "rating": 3.455056179775281
         },
         {
          "age": 30,
          "genres": "Animation",
          "rating": 3.735483870967742
         },
         {
          "age": 31,
          "genres": "Animation",
          "rating": 3.3225806451612905
         },
         {
          "age": 32,
          "genres": "Animation",
          "rating": 3.53125
         },
         {
          "age": 33,
          "genres": "Animation",
          "rating": 3.811023622047244
         },
         {
          "age": 34,
          "genres": "Animation",
          "rating": 4
         },
         {
          "age": 35,
          "genres": "Animation",
          "rating": 3.7611940298507465
         },
         {
          "age": 36,
          "genres": "Animation",
          "rating": 3.413793103448276
         },
         {
          "age": 37,
          "genres": "Animation",
          "rating": 3.625
         },
         {
          "age": 38,
          "genres": "Animation",
          "rating": 3.4
         },
         {
          "age": 39,
          "genres": "Animation",
          "rating": 3.6344086021505375
         },
         {
          "age": 40,
          "genres": "Animation",
          "rating": 3.5584415584415585
         },
         {
          "age": 41,
          "genres": "Animation",
          "rating": 3.523076923076923
         },
         {
          "age": 42,
          "genres": "Animation",
          "rating": 3.260869565217391
         },
         {
          "age": 43,
          "genres": "Animation",
          "rating": 3.4634146341463414
         },
         {
          "age": 44,
          "genres": "Animation",
          "rating": 3.338235294117647
         },
         {
          "age": 45,
          "genres": "Animation",
          "rating": 3.6315789473684212
         },
         {
          "age": 46,
          "genres": "Animation",
          "rating": 3.5555555555555554
         },
         {
          "age": 47,
          "genres": "Animation",
          "rating": 3.935483870967742
         },
         {
          "age": 48,
          "genres": "Animation",
          "rating": 3.759259259259259
         },
         {
          "age": 49,
          "genres": "Animation",
          "rating": 2.967741935483871
         },
         {
          "age": 50,
          "genres": "Animation",
          "rating": 3.627906976744186
         },
         {
          "age": 51,
          "genres": "Animation",
          "rating": 3.5714285714285716
         },
         {
          "age": 52,
          "genres": "Animation",
          "rating": 3.8333333333333335
         },
         {
          "age": 53,
          "genres": "Animation",
          "rating": 4.071428571428571
         },
         {
          "age": 54,
          "genres": "Animation",
          "rating": 3.857142857142857
         },
         {
          "age": 55,
          "genres": "Animation",
          "rating": 2.9
         },
         {
          "age": 56,
          "genres": "Animation",
          "rating": 2.75
         },
         {
          "age": 57,
          "genres": "Animation",
          "rating": 3.9615384615384617
         },
         {
          "age": 58,
          "genres": "Animation",
          "rating": 4.222222222222222
         },
         {
          "age": 59,
          "genres": "Animation",
          "rating": 4
         },
         {
          "age": 60,
          "genres": "Animation",
          "rating": 3.6774193548387095
         },
         {
          "age": 61,
          "genres": "Animation",
          "rating": 3.7777777777777777
         },
         {
          "age": 62,
          "genres": "Animation",
          "rating": 1
         },
         {
          "age": 63,
          "genres": "Animation",
          "rating": 4
         },
         {
          "age": 65,
          "genres": "Animation",
          "rating": 3.5
         },
         {
          "age": 66,
          "genres": "Animation",
          "rating": 3
         },
         {
          "age": 68,
          "genres": "Animation",
          "rating": 2
         },
         {
          "age": 70,
          "genres": "Animation",
          "rating": 4.666666666666667
         },
         {
          "age": 73,
          "genres": "Animation",
          "rating": 4
         }
        ]
       },
       "encoding": {
        "tooltip": [
         {
          "field": "age",
          "type": "quantitative"
         },
         {
          "field": "rating",
          "type": "quantitative"
         }
        ],
        "x": {
         "field": "age",
         "title": "Age",
         "type": "ordinal"
        },
        "y": {
         "field": "rating",
         "title": "Average Rating",
         "type": "quantitative"
        }
       },
       "height": 200,
       "mark": {
        "point": true,
        "type": "line"
       },
       "title": "Animation",
       "width": 400
      },
      "text/plain": [
       "<VegaLite 5 object>\n",
       "\n",
       "If you see this message, it means the renderer has not been properly enabled\n",
       "for the frontend that you are using. For more information, see\n",
       "https://altair-viz.github.io/user_guide/display_frontends.html#troubleshooting\n"
      ]
     },
     "metadata": {},
     "output_type": "display_data"
    },
    {
     "data": {
      "application/vnd.vegalite.v5+json": {
       "$schema": "https://vega.github.io/schema/vega-lite/v5.20.1.json",
       "config": {
        "view": {
         "continuousHeight": 300,
         "continuousWidth": 300
        }
       },
       "data": {
        "name": "data-b855ea5d8ad047f0ac2e41c329b70a81"
       },
       "datasets": {
        "data-b855ea5d8ad047f0ac2e41c329b70a81": [
         {
          "age": 7,
          "genres": "Children",
          "rating": 3.8
         },
         {
          "age": 10,
          "genres": "Children",
          "rating": 3.3461538461538463
         },
         {
          "age": 11,
          "genres": "Children",
          "rating": 2
         },
         {
          "age": 13,
          "genres": "Children",
          "rating": 2.7954545454545454
         },
         {
          "age": 14,
          "genres": "Children",
          "rating": 3.36
         },
         {
          "age": 15,
          "genres": "Children",
          "rating": 3.4390243902439024
         },
         {
          "age": 16,
          "genres": "Children",
          "rating": 3.142857142857143
         },
         {
          "age": 17,
          "genres": "Children",
          "rating": 2.7419354838709675
         },
         {
          "age": 18,
          "genres": "Children",
          "rating": 3.527659574468085
         },
         {
          "age": 19,
          "genres": "Children",
          "rating": 3.38125
         },
         {
          "age": 20,
          "genres": "Children",
          "rating": 3.5714285714285716
         },
         {
          "age": 21,
          "genres": "Children",
          "rating": 3.34
         },
         {
          "age": 22,
          "genres": "Children",
          "rating": 3.044280442804428
         },
         {
          "age": 23,
          "genres": "Children",
          "rating": 3
         },
         {
          "age": 24,
          "genres": "Children",
          "rating": 3.1827242524916945
         },
         {
          "age": 25,
          "genres": "Children",
          "rating": 3.358695652173913
         },
         {
          "age": 26,
          "genres": "Children",
          "rating": 3.1074380165289255
         },
         {
          "age": 27,
          "genres": "Children",
          "rating": 3.37160751565762
         },
         {
          "age": 28,
          "genres": "Children",
          "rating": 3.7325581395348837
         },
         {
          "age": 29,
          "genres": "Children",
          "rating": 3.2288732394366195
         },
         {
          "age": 30,
          "genres": "Children",
          "rating": 3.34983498349835
         },
         {
          "age": 31,
          "genres": "Children",
          "rating": 3.1085714285714285
         },
         {
          "age": 32,
          "genres": "Children",
          "rating": 3.507936507936508
         },
         {
          "age": 33,
          "genres": "Children",
          "rating": 3.405286343612335
         },
         {
          "age": 34,
          "genres": "Children",
          "rating": 3.1272727272727274
         },
         {
          "age": 35,
          "genres": "Children",
          "rating": 3.598566308243728
         },
         {
          "age": 36,
          "genres": "Children",
          "rating": 3.251366120218579
         },
         {
          "age": 37,
          "genres": "Children",
          "rating": 3.887323943661972
         },
         {
          "age": 38,
          "genres": "Children",
          "rating": 3.2598870056497176
         },
         {
          "age": 39,
          "genres": "Children",
          "rating": 3.3202247191011236
         },
         {
          "age": 40,
          "genres": "Children",
          "rating": 3.484978540772532
         },
         {
          "age": 41,
          "genres": "Children",
          "rating": 3.5076923076923077
         },
         {
          "age": 42,
          "genres": "Children",
          "rating": 3.212962962962963
         },
         {
          "age": 43,
          "genres": "Children",
          "rating": 3.3424657534246576
         },
         {
          "age": 44,
          "genres": "Children",
          "rating": 3.3174603174603177
         },
         {
          "age": 45,
          "genres": "Children",
          "rating": 3.8181818181818183
         },
         {
          "age": 46,
          "genres": "Children",
          "rating": 3.550561797752809
         },
         {
          "age": 47,
          "genres": "Children",
          "rating": 3.197674418604651
         },
         {
          "age": 48,
          "genres": "Children",
          "rating": 3.2547169811320753
         },
         {
          "age": 49,
          "genres": "Children",
          "rating": 3.12
         },
         {
          "age": 50,
          "genres": "Children",
          "rating": 3.2708333333333335
         },
         {
          "age": 51,
          "genres": "Children",
          "rating": 3.5
         },
         {
          "age": 52,
          "genres": "Children",
          "rating": 3.7333333333333334
         },
         {
          "age": 53,
          "genres": "Children",
          "rating": 3.65625
         },
         {
          "age": 54,
          "genres": "Children",
          "rating": 4.090909090909091
         },
         {
          "age": 55,
          "genres": "Children",
          "rating": 3.1724137931034484
         },
         {
          "age": 56,
          "genres": "Children",
          "rating": 2.875
         },
         {
          "age": 57,
          "genres": "Children",
          "rating": 3.7666666666666666
         },
         {
          "age": 58,
          "genres": "Children",
          "rating": 3.25
         },
         {
          "age": 59,
          "genres": "Children",
          "rating": 3.2
         },
         {
          "age": 60,
          "genres": "Children",
          "rating": 3.375
         },
         {
          "age": 61,
          "genres": "Children",
          "rating": 3.5454545454545454
         },
         {
          "age": 63,
          "genres": "Children",
          "rating": 3
         },
         {
          "age": 64,
          "genres": "Children",
          "rating": 4
         },
         {
          "age": 65,
          "genres": "Children",
          "rating": 3.4705882352941178
         },
         {
          "age": 66,
          "genres": "Children",
          "rating": 4
         },
         {
          "age": 68,
          "genres": "Children",
          "rating": 2.5
         },
         {
          "age": 69,
          "genres": "Children",
          "rating": 3
         },
         {
          "age": 70,
          "genres": "Children",
          "rating": 3
         },
         {
          "age": 73,
          "genres": "Children",
          "rating": 3.6666666666666665
         }
        ]
       },
       "encoding": {
        "tooltip": [
         {
          "field": "age",
          "type": "quantitative"
         },
         {
          "field": "rating",
          "type": "quantitative"
         }
        ],
        "x": {
         "field": "age",
         "title": "Age",
         "type": "ordinal"
        },
        "y": {
         "field": "rating",
         "title": "Average Rating",
         "type": "quantitative"
        }
       },
       "height": 200,
       "mark": {
        "point": true,
        "type": "line"
       },
       "title": "Children",
       "width": 400
      },
      "text/plain": [
       "<VegaLite 5 object>\n",
       "\n",
       "If you see this message, it means the renderer has not been properly enabled\n",
       "for the frontend that you are using. For more information, see\n",
       "https://altair-viz.github.io/user_guide/display_frontends.html#troubleshooting\n"
      ]
     },
     "metadata": {},
     "output_type": "display_data"
    },
    {
     "data": {
      "application/vnd.vegalite.v5+json": {
       "$schema": "https://vega.github.io/schema/vega-lite/v5.20.1.json",
       "config": {
        "view": {
         "continuousHeight": 300,
         "continuousWidth": 300
        }
       },
       "data": {
        "name": "data-20ad42cc715f9a7aecc174a39ed60e0d"
       },
       "datasets": {
        "data-20ad42cc715f9a7aecc174a39ed60e0d": [
         {
          "age": 7,
          "genres": "Comedy",
          "rating": 3.736842105263158
         },
         {
          "age": 10,
          "genres": "Comedy",
          "rating": 4.416666666666667
         },
         {
          "age": 11,
          "genres": "Comedy",
          "rating": 2.2857142857142856
         },
         {
          "age": 13,
          "genres": "Comedy",
          "rating": 3.1813725490196076
         },
         {
          "age": 14,
          "genres": "Comedy",
          "rating": 3.4430379746835444
         },
         {
          "age": 15,
          "genres": "Comedy",
          "rating": 2.682242990654206
         },
         {
          "age": 16,
          "genres": "Comedy",
          "rating": 3.3451327433628317
         },
         {
          "age": 17,
          "genres": "Comedy",
          "rating": 3.0823045267489713
         },
         {
          "age": 18,
          "genres": "Comedy",
          "rating": 3.5678092399403876
         },
         {
          "age": 19,
          "genres": "Comedy",
          "rating": 3.268835616438356
         },
         {
          "age": 20,
          "genres": "Comedy",
          "rating": 3.5047694753577106
         },
         {
          "age": 21,
          "genres": "Comedy",
          "rating": 3.265957446808511
         },
         {
          "age": 22,
          "genres": "Comedy",
          "rating": 3.19449081803005
         },
         {
          "age": 23,
          "genres": "Comedy",
          "rating": 3.175029171528588
         },
         {
          "age": 24,
          "genres": "Comedy",
          "rating": 3.4123257520176082
         },
         {
          "age": 25,
          "genres": "Comedy",
          "rating": 3.3682906688687035
         },
         {
          "age": 26,
          "genres": "Comedy",
          "rating": 3.130391173520562
         },
         {
          "age": 27,
          "genres": "Comedy",
          "rating": 3.493339911198816
         },
         {
          "age": 28,
          "genres": "Comedy",
          "rating": 3.468122270742358
         },
         {
          "age": 29,
          "genres": "Comedy",
          "rating": 3.3013136288998357
         },
         {
          "age": 30,
          "genres": "Comedy",
          "rating": 3.3044554455445545
         },
         {
          "age": 31,
          "genres": "Comedy",
          "rating": 3.2271016311166876
         },
         {
          "age": 32,
          "genres": "Comedy",
          "rating": 3.472636815920398
         },
         {
          "age": 33,
          "genres": "Comedy",
          "rating": 3.5505857294994674
         },
         {
          "age": 34,
          "genres": "Comedy",
          "rating": 3.264437689969605
         },
         {
          "age": 35,
          "genres": "Comedy",
          "rating": 3.5159045725646125
         },
         {
          "age": 36,
          "genres": "Comedy",
          "rating": 3.3804195804195802
         },
         {
          "age": 37,
          "genres": "Comedy",
          "rating": 3.5482866043613708
         },
         {
          "age": 38,
          "genres": "Comedy",
          "rating": 3.394415357766143
         },
         {
          "age": 39,
          "genres": "Comedy",
          "rating": 3.516826923076923
         },
         {
          "age": 40,
          "genres": "Comedy",
          "rating": 3.3616298811544993
         },
         {
          "age": 41,
          "genres": "Comedy",
          "rating": 3.5114503816793894
         },
         {
          "age": 42,
          "genres": "Comedy",
          "rating": 3.242152466367713
         },
         {
          "age": 43,
          "genres": "Comedy",
          "rating": 3.493181818181818
         },
         {
          "age": 44,
          "genres": "Comedy",
          "rating": 3.3585526315789473
         },
         {
          "age": 45,
          "genres": "Comedy",
          "rating": 3.6626984126984126
         },
         {
          "age": 46,
          "genres": "Comedy",
          "rating": 3.6974522292993632
         },
         {
          "age": 47,
          "genres": "Comedy",
          "rating": 3.3384615384615386
         },
         {
          "age": 48,
          "genres": "Comedy",
          "rating": 3.3725055432372506
         },
         {
          "age": 49,
          "genres": "Comedy",
          "rating": 3.480167014613779
         },
         {
          "age": 50,
          "genres": "Comedy",
          "rating": 3.3688663282571913
         },
         {
          "age": 51,
          "genres": "Comedy",
          "rating": 3.548507462686567
         },
         {
          "age": 52,
          "genres": "Comedy",
          "rating": 3.3701657458563536
         },
         {
          "age": 53,
          "genres": "Comedy",
          "rating": 3.770053475935829
         },
         {
          "age": 54,
          "genres": "Comedy",
          "rating": 3.1724137931034484
         },
         {
          "age": 55,
          "genres": "Comedy",
          "rating": 3.365079365079365
         },
         {
          "age": 56,
          "genres": "Comedy",
          "rating": 3.517412935323383
         },
         {
          "age": 57,
          "genres": "Comedy",
          "rating": 3.4859437751004014
         },
         {
          "age": 58,
          "genres": "Comedy",
          "rating": 3.968421052631579
         },
         {
          "age": 59,
          "genres": "Comedy",
          "rating": 3.652173913043478
         },
         {
          "age": 60,
          "genres": "Comedy",
          "rating": 3.6420581655480984
         },
         {
          "age": 61,
          "genres": "Comedy",
          "rating": 3.5632183908045976
         },
         {
          "age": 62,
          "genres": "Comedy",
          "rating": 2.769230769230769
         },
         {
          "age": 63,
          "genres": "Comedy",
          "rating": 3.7916666666666665
         },
         {
          "age": 64,
          "genres": "Comedy",
          "rating": 3.25
         },
         {
          "age": 65,
          "genres": "Comedy",
          "rating": 3.5319148936170213
         },
         {
          "age": 66,
          "genres": "Comedy",
          "rating": 3
         },
         {
          "age": 68,
          "genres": "Comedy",
          "rating": 3.3333333333333335
         },
         {
          "age": 69,
          "genres": "Comedy",
          "rating": 3.358974358974359
         },
         {
          "age": 70,
          "genres": "Comedy",
          "rating": 3.245614035087719
         },
         {
          "age": 73,
          "genres": "Comedy",
          "rating": 3.9615384615384617
         }
        ]
       },
       "encoding": {
        "tooltip": [
         {
          "field": "age",
          "type": "quantitative"
         },
         {
          "field": "rating",
          "type": "quantitative"
         }
        ],
        "x": {
         "field": "age",
         "title": "Age",
         "type": "ordinal"
        },
        "y": {
         "field": "rating",
         "title": "Average Rating",
         "type": "quantitative"
        }
       },
       "height": 200,
       "mark": {
        "point": true,
        "type": "line"
       },
       "title": "Comedy",
       "width": 400
      },
      "text/plain": [
       "<VegaLite 5 object>\n",
       "\n",
       "If you see this message, it means the renderer has not been properly enabled\n",
       "for the frontend that you are using. For more information, see\n",
       "https://altair-viz.github.io/user_guide/display_frontends.html#troubleshooting\n"
      ]
     },
     "metadata": {},
     "output_type": "display_data"
    }
   ],
   "source": [
    "from IPython.display import display\n",
    "\n",
    "for genre in age_rating['genres'].unique()[:5]: # limited to 5 cause there a lof of them\n",
    "    selected_genre = age_rating[age_rating['genres'] == genre]\n",
    "    chart = (\n",
    "        alt.Chart(selected_genre)\n",
    "        .mark_line(point=True)\n",
    "        .encode(\n",
    "            x=alt.X(\"age:O\", title=\"Age\"),\n",
    "            y=alt.Y(\"rating:Q\", title=\"Average Rating\"),\n",
    "            tooltip=[\"age\", \"rating:Q\"]\n",
    "        )\n",
    "        .properties(\n",
    "            title=genre,\n",
    "            width=400,\n",
    "            height=200\n",
    "        )\n",
    "    )\n",
    "    \n",
    "    display(chart)\n"
   ]
  },
  {
   "cell_type": "markdown",
   "id": "0db06c21-bc25-4535-9a84-eef0946c3ed9",
   "metadata": {},
   "source": [
    "**Plot number of ratings vs mean rating per genre. Is there a correlation between the volume of ratings and mean rating?**"
   ]
  },
  {
   "cell_type": "code",
   "execution_count": 28,
   "id": "06cee56a-fe27-46e1-bc68-27a78e67c973",
   "metadata": {
    "tags": []
   },
   "outputs": [],
   "source": [
    "count_vs_mean = df.groupby('title').agg(\n",
    "     rating_count = (\"rating\",\"count\"),\n",
    "     rating_mean  = (\"rating\",\"mean\")\n",
    ").reset_index()\n",
    "count_vs_mean[\"rating_mean\"] = round(count_vs_mean[\"rating_mean\"],1)"
   ]
  },
  {
   "cell_type": "code",
   "execution_count": 29,
   "id": "9f494837-9588-4f4d-a779-c2f4091e712a",
   "metadata": {
    "tags": []
   },
   "outputs": [
    {
     "data": {
      "text/html": [
       "<div>\n",
       "<style scoped>\n",
       "    .dataframe tbody tr th:only-of-type {\n",
       "        vertical-align: middle;\n",
       "    }\n",
       "\n",
       "    .dataframe tbody tr th {\n",
       "        vertical-align: top;\n",
       "    }\n",
       "\n",
       "    .dataframe thead th {\n",
       "        text-align: right;\n",
       "    }\n",
       "</style>\n",
       "<table border=\"1\" class=\"dataframe\">\n",
       "  <thead>\n",
       "    <tr style=\"text-align: right;\">\n",
       "      <th></th>\n",
       "      <th>title</th>\n",
       "      <th>rating_count</th>\n",
       "      <th>rating_mean</th>\n",
       "    </tr>\n",
       "  </thead>\n",
       "  <tbody>\n",
       "    <tr>\n",
       "      <th>0</th>\n",
       "      <td>'Til There Was You (1997)</td>\n",
       "      <td>18</td>\n",
       "      <td>2.3</td>\n",
       "    </tr>\n",
       "    <tr>\n",
       "      <th>1</th>\n",
       "      <td>1-900 (1994)</td>\n",
       "      <td>5</td>\n",
       "      <td>2.6</td>\n",
       "    </tr>\n",
       "    <tr>\n",
       "      <th>2</th>\n",
       "      <td>101 Dalmatians (1996)</td>\n",
       "      <td>218</td>\n",
       "      <td>2.9</td>\n",
       "    </tr>\n",
       "    <tr>\n",
       "      <th>3</th>\n",
       "      <td>12 Angry Men (1957)</td>\n",
       "      <td>125</td>\n",
       "      <td>4.3</td>\n",
       "    </tr>\n",
       "    <tr>\n",
       "      <th>4</th>\n",
       "      <td>187 (1997)</td>\n",
       "      <td>41</td>\n",
       "      <td>3.0</td>\n",
       "    </tr>\n",
       "    <tr>\n",
       "      <th>...</th>\n",
       "      <td>...</td>\n",
       "      <td>...</td>\n",
       "      <td>...</td>\n",
       "    </tr>\n",
       "    <tr>\n",
       "      <th>1659</th>\n",
       "      <td>Young Guns II (1990)</td>\n",
       "      <td>132</td>\n",
       "      <td>2.8</td>\n",
       "    </tr>\n",
       "    <tr>\n",
       "      <th>1660</th>\n",
       "      <td>Young Poisoner's Handbook, The (1995)</td>\n",
       "      <td>41</td>\n",
       "      <td>3.3</td>\n",
       "    </tr>\n",
       "    <tr>\n",
       "      <th>1661</th>\n",
       "      <td>Zeus and Roxanne (1997)</td>\n",
       "      <td>6</td>\n",
       "      <td>2.2</td>\n",
       "    </tr>\n",
       "    <tr>\n",
       "      <th>1662</th>\n",
       "      <td>unknown</td>\n",
       "      <td>9</td>\n",
       "      <td>3.4</td>\n",
       "    </tr>\n",
       "    <tr>\n",
       "      <th>1663</th>\n",
       "      <td>Á köldum klaka (Cold Fever) (1994)</td>\n",
       "      <td>2</td>\n",
       "      <td>3.0</td>\n",
       "    </tr>\n",
       "  </tbody>\n",
       "</table>\n",
       "<p>1664 rows × 3 columns</p>\n",
       "</div>"
      ],
      "text/plain": [
       "                                      title  rating_count  rating_mean\n",
       "0                 'Til There Was You (1997)            18          2.3\n",
       "1                              1-900 (1994)             5          2.6\n",
       "2                     101 Dalmatians (1996)           218          2.9\n",
       "3                       12 Angry Men (1957)           125          4.3\n",
       "4                                187 (1997)            41          3.0\n",
       "...                                     ...           ...          ...\n",
       "1659                   Young Guns II (1990)           132          2.8\n",
       "1660  Young Poisoner's Handbook, The (1995)            41          3.3\n",
       "1661                Zeus and Roxanne (1997)             6          2.2\n",
       "1662                                unknown             9          3.4\n",
       "1663     Á köldum klaka (Cold Fever) (1994)             2          3.0\n",
       "\n",
       "[1664 rows x 3 columns]"
      ]
     },
     "execution_count": 29,
     "metadata": {},
     "output_type": "execute_result"
    }
   ],
   "source": [
    "count_vs_mean"
   ]
  },
  {
   "cell_type": "code",
   "execution_count": 30,
   "id": "c9aab939-ae28-4d66-94c7-d0a5b1f182a8",
   "metadata": {
    "tags": []
   },
   "outputs": [
    {
     "name": "stdout",
     "output_type": "stream",
     "text": [
      "              rating_count  rating_mean\n",
      "rating_count      1.000000     0.339318\n",
      "rating_mean       0.339318     1.000000\n"
     ]
    }
   ],
   "source": [
    "correlation = count_vs_mean[[\"rating_count\", \"rating_mean\"]].corr()\n",
    "print(correlation)"
   ]
  },
  {
   "cell_type": "markdown",
   "id": "0dbbf2c3-8a93-42ee-941f-52af436cdccc",
   "metadata": {},
   "source": [
    "positive correlation but not very high"
   ]
  },
  {
   "cell_type": "code",
   "execution_count": 31,
   "id": "04716cb1-cd94-4a8a-b6ed-221c2afb9918",
   "metadata": {
    "tags": []
   },
   "outputs": [],
   "source": [
    "dirty_df = pd.read_csv(\"../data/movie_ratings_EC.csv\")"
   ]
  },
  {
   "cell_type": "code",
   "execution_count": 32,
   "id": "522ef06d-5b11-4a33-859a-b0453d12a0e9",
   "metadata": {
    "tags": []
   },
   "outputs": [
    {
     "data": {
      "text/plain": [
       "0                                  Comedy\n",
       "1        Crime|Film-Noir|Mystery|Thriller\n",
       "2                         Children|Comedy\n",
       "3               Drama|Romance|War|Western\n",
       "4                             Crime|Drama\n",
       "                       ...               \n",
       "99995                              Comedy\n",
       "99996                       Comedy|Sci-Fi\n",
       "99997                            Thriller\n",
       "99998                     Children|Comedy\n",
       "99999                             Western\n",
       "Name: genres, Length: 100000, dtype: object"
      ]
     },
     "execution_count": 32,
     "metadata": {},
     "output_type": "execute_result"
    }
   ],
   "source": [
    "dirty_df['genres']"
   ]
  },
  {
   "cell_type": "code",
   "execution_count": 33,
   "id": "5b5daed5-c2e6-4f6a-a646-4d50ff511563",
   "metadata": {
    "tags": []
   },
   "outputs": [],
   "source": [
    "df_exploded = df.explode(\"genres\")\n",
    "#"
   ]
  },
  {
   "cell_type": "code",
   "execution_count": 34,
   "id": "48be68c4-cf96-441d-afd1-31524715962b",
   "metadata": {
    "tags": []
   },
   "outputs": [
    {
     "data": {
      "text/plain": [
       "array(['Comedy', 'Crime', 'Film-Noir', 'Mystery', 'Thriller', 'Children',\n",
       "       'Drama', 'Romance', 'War', 'Western', 'Sci-Fi', 'Action',\n",
       "       'Adventure', 'Musical', 'Documentary', 'Animation', 'Horror',\n",
       "       'Fantasy', 'unknown'], dtype=object)"
      ]
     },
     "execution_count": 34,
     "metadata": {},
     "output_type": "execute_result"
    }
   ],
   "source": [
    "df_exploded['genres'].unique()"
   ]
  },
  {
   "cell_type": "markdown",
   "id": "ed434250-4e91-49fb-ae4b-aa5b8e43ba0b",
   "metadata": {},
   "source": [
    "**WOW**"
   ]
  }
 ],
 "metadata": {
  "kernelspec": {
   "display_name": "Python 3 (ipykernel)",
   "language": "python",
   "name": "python3"
  },
  "language_info": {
   "codemirror_mode": {
    "name": "ipython",
    "version": 3
   },
   "file_extension": ".py",
   "mimetype": "text/x-python",
   "name": "python",
   "nbconvert_exporter": "python",
   "pygments_lexer": "ipython3",
   "version": "3.11.4"
  }
 },
 "nbformat": 4,
 "nbformat_minor": 5
}
