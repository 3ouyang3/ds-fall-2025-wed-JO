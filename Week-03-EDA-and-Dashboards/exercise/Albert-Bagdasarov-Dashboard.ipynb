{
 "cells": [
  {
   "cell_type": "code",
   "execution_count": 1,
   "id": "0885826d-bb17-4e56-909e-d1438f268652",
   "metadata": {
    "tags": []
   },
   "outputs": [
    {
     "data": {
      "text/plain": [
       "RendererRegistry.enable('default')"
      ]
     },
     "execution_count": 1,
     "metadata": {},
     "output_type": "execute_result"
    }
   ],
   "source": [
    "import pandas as pd\n",
    "import numpy as np\n",
    "import altair as alt\n",
    "alt.renderers.enable(\"default\")"
   ]
  },
  {
   "cell_type": "code",
   "execution_count": 2,
   "id": "b257a530-73c6-42fb-874a-c89b7238e536",
   "metadata": {},
   "outputs": [],
   "source": [
    "df = pd.read_csv('../data/movie_ratings.csv')"
   ]
  },
  {
   "cell_type": "code",
   "execution_count": 3,
   "id": "deaa0807-da77-4a08-a64d-97347b5a38b2",
   "metadata": {},
   "outputs": [
    {
     "data": {
      "text/html": [
       "<div>\n",
       "<style scoped>\n",
       "    .dataframe tbody tr th:only-of-type {\n",
       "        vertical-align: middle;\n",
       "    }\n",
       "\n",
       "    .dataframe tbody tr th {\n",
       "        vertical-align: top;\n",
       "    }\n",
       "\n",
       "    .dataframe thead th {\n",
       "        text-align: right;\n",
       "    }\n",
       "</style>\n",
       "<table border=\"1\" class=\"dataframe\">\n",
       "  <thead>\n",
       "    <tr style=\"text-align: right;\">\n",
       "      <th></th>\n",
       "      <th>user_id</th>\n",
       "      <th>movie_id</th>\n",
       "      <th>rating</th>\n",
       "      <th>timestamp</th>\n",
       "      <th>age</th>\n",
       "      <th>gender</th>\n",
       "      <th>occupation</th>\n",
       "      <th>zip_code</th>\n",
       "      <th>title</th>\n",
       "      <th>year</th>\n",
       "      <th>decade</th>\n",
       "      <th>genres</th>\n",
       "      <th>rating_year</th>\n",
       "    </tr>\n",
       "  </thead>\n",
       "  <tbody>\n",
       "    <tr>\n",
       "      <th>0</th>\n",
       "      <td>196</td>\n",
       "      <td>242</td>\n",
       "      <td>3</td>\n",
       "      <td>1997-12-04 15:55:49</td>\n",
       "      <td>49</td>\n",
       "      <td>M</td>\n",
       "      <td>writer</td>\n",
       "      <td>55105</td>\n",
       "      <td>Kolya (1996)</td>\n",
       "      <td>1996.0</td>\n",
       "      <td>1990.0</td>\n",
       "      <td>Comedy</td>\n",
       "      <td>1997</td>\n",
       "    </tr>\n",
       "    <tr>\n",
       "      <th>1</th>\n",
       "      <td>186</td>\n",
       "      <td>302</td>\n",
       "      <td>3</td>\n",
       "      <td>1998-04-04 19:22:22</td>\n",
       "      <td>39</td>\n",
       "      <td>F</td>\n",
       "      <td>executive</td>\n",
       "      <td>00000</td>\n",
       "      <td>L.A. Confidential (1997)</td>\n",
       "      <td>1997.0</td>\n",
       "      <td>1990.0</td>\n",
       "      <td>Crime</td>\n",
       "      <td>1998</td>\n",
       "    </tr>\n",
       "    <tr>\n",
       "      <th>2</th>\n",
       "      <td>186</td>\n",
       "      <td>302</td>\n",
       "      <td>3</td>\n",
       "      <td>1998-04-04 19:22:22</td>\n",
       "      <td>39</td>\n",
       "      <td>F</td>\n",
       "      <td>executive</td>\n",
       "      <td>00000</td>\n",
       "      <td>L.A. Confidential (1997)</td>\n",
       "      <td>1997.0</td>\n",
       "      <td>1990.0</td>\n",
       "      <td>Film-Noir</td>\n",
       "      <td>1998</td>\n",
       "    </tr>\n",
       "    <tr>\n",
       "      <th>3</th>\n",
       "      <td>186</td>\n",
       "      <td>302</td>\n",
       "      <td>3</td>\n",
       "      <td>1998-04-04 19:22:22</td>\n",
       "      <td>39</td>\n",
       "      <td>F</td>\n",
       "      <td>executive</td>\n",
       "      <td>00000</td>\n",
       "      <td>L.A. Confidential (1997)</td>\n",
       "      <td>1997.0</td>\n",
       "      <td>1990.0</td>\n",
       "      <td>Mystery</td>\n",
       "      <td>1998</td>\n",
       "    </tr>\n",
       "    <tr>\n",
       "      <th>4</th>\n",
       "      <td>186</td>\n",
       "      <td>302</td>\n",
       "      <td>3</td>\n",
       "      <td>1998-04-04 19:22:22</td>\n",
       "      <td>39</td>\n",
       "      <td>F</td>\n",
       "      <td>executive</td>\n",
       "      <td>00000</td>\n",
       "      <td>L.A. Confidential (1997)</td>\n",
       "      <td>1997.0</td>\n",
       "      <td>1990.0</td>\n",
       "      <td>Thriller</td>\n",
       "      <td>1998</td>\n",
       "    </tr>\n",
       "  </tbody>\n",
       "</table>\n",
       "</div>"
      ],
      "text/plain": [
       "   user_id  movie_id  rating            timestamp  age gender occupation  \\\n",
       "0      196       242       3  1997-12-04 15:55:49   49      M     writer   \n",
       "1      186       302       3  1998-04-04 19:22:22   39      F  executive   \n",
       "2      186       302       3  1998-04-04 19:22:22   39      F  executive   \n",
       "3      186       302       3  1998-04-04 19:22:22   39      F  executive   \n",
       "4      186       302       3  1998-04-04 19:22:22   39      F  executive   \n",
       "\n",
       "  zip_code                     title    year  decade     genres  rating_year  \n",
       "0    55105              Kolya (1996)  1996.0  1990.0     Comedy         1997  \n",
       "1    00000  L.A. Confidential (1997)  1997.0  1990.0      Crime         1998  \n",
       "2    00000  L.A. Confidential (1997)  1997.0  1990.0  Film-Noir         1998  \n",
       "3    00000  L.A. Confidential (1997)  1997.0  1990.0    Mystery         1998  \n",
       "4    00000  L.A. Confidential (1997)  1997.0  1990.0   Thriller         1998  "
      ]
     },
     "execution_count": 3,
     "metadata": {},
     "output_type": "execute_result"
    }
   ],
   "source": [
    "df.head()"
   ]
  },
  {
   "cell_type": "code",
   "execution_count": 4,
   "id": "13d8e856-52ad-48a7-b411-5de170f2e193",
   "metadata": {},
   "outputs": [
    {
     "name": "stdout",
     "output_type": "stream",
     "text": [
      "<class 'pandas.core.frame.DataFrame'>\n",
      "RangeIndex: 212595 entries, 0 to 212594\n",
      "Data columns (total 13 columns):\n",
      " #   Column       Non-Null Count   Dtype  \n",
      "---  ------       --------------   -----  \n",
      " 0   user_id      212595 non-null  int64  \n",
      " 1   movie_id     212595 non-null  int64  \n",
      " 2   rating       212595 non-null  int64  \n",
      " 3   timestamp    212595 non-null  object \n",
      " 4   age          212595 non-null  int64  \n",
      " 5   gender       212595 non-null  object \n",
      " 6   occupation   212595 non-null  object \n",
      " 7   zip_code     212595 non-null  object \n",
      " 8   title        212595 non-null  object \n",
      " 9   year         212559 non-null  float64\n",
      " 10  decade       212559 non-null  float64\n",
      " 11  genres       212595 non-null  object \n",
      " 12  rating_year  212595 non-null  int64  \n",
      "dtypes: float64(2), int64(5), object(6)\n",
      "memory usage: 21.1+ MB\n"
     ]
    }
   ],
   "source": [
    "df.info()"
   ]
  },
  {
   "cell_type": "markdown",
   "id": "ac37e2c2-b414-4a13-bf20-26a7288735e6",
   "metadata": {},
   "source": [
    "**Convert timestamp to datetime**"
   ]
  },
  {
   "cell_type": "code",
   "execution_count": 5,
   "id": "82f6b757-bdfc-4e32-92dd-fe70974eb1a8",
   "metadata": {
    "tags": []
   },
   "outputs": [],
   "source": [
    "df[\"timestamp\"] = pd.to_datetime(df[\"timestamp\"])"
   ]
  },
  {
   "cell_type": "code",
   "execution_count": 6,
   "id": "e15c74ad-bf04-4ada-9331-e78944fde81f",
   "metadata": {
    "tags": []
   },
   "outputs": [
    {
     "data": {
      "text/plain": [
       "user_id         0\n",
       "movie_id        0\n",
       "rating          0\n",
       "timestamp       0\n",
       "age             0\n",
       "gender          0\n",
       "occupation      0\n",
       "zip_code        0\n",
       "title           0\n",
       "year           36\n",
       "decade         36\n",
       "genres          0\n",
       "rating_year     0\n",
       "dtype: int64"
      ]
     },
     "execution_count": 6,
     "metadata": {},
     "output_type": "execute_result"
    }
   ],
   "source": [
    "df.isnull().sum()"
   ]
  },
  {
   "cell_type": "markdown",
   "id": "714cca5e-0ad3-4508-b392-46f5234b0d5e",
   "metadata": {},
   "source": [
    "**What's the breakdown of genres for the movies that were rated?**"
   ]
  },
  {
   "cell_type": "code",
   "execution_count": 7,
   "id": "d3a3aa0b-b2dd-41d2-9224-7bcac8bd51bf",
   "metadata": {
    "tags": []
   },
   "outputs": [],
   "source": [
    "genres_df = df['genres'].value_counts().reset_index().rename({'index':'genre','genres':'count'}, axis = 1)"
   ]
  },
  {
   "cell_type": "code",
   "execution_count": 8,
   "id": "25523ca4-17fa-49c5-a651-ea1d144d75c7",
   "metadata": {
    "tags": []
   },
   "outputs": [],
   "source": [
    "chart = alt.Chart(genres_df).mark_bar().encode(\n",
    "    y=alt.Y('genre:N', sort=None, title='Genre'),   \n",
    "    x=alt.X('count:Q', title='Count'),                  \n",
    "    color='genre:N',\n",
    "    tooltip=['genre', 'count']\n",
    ").properties(\n",
    "    title='Genres Distribution',\n",
    "    width=800,\n",
    "    height=400\n",
    ")"
   ]
  },
  {
   "cell_type": "code",
   "execution_count": 9,
   "id": "0812bbe4-323b-4bbc-b56a-27f2870dfbb0",
   "metadata": {
    "tags": []
   },
   "outputs": [
    {
     "data": {
      "text/html": [
       "\n",
       "<style>\n",
       "  #altair-viz-c7bb14accdef45e7afc4be0aecc068ed.vega-embed {\n",
       "    width: 100%;\n",
       "    display: flex;\n",
       "  }\n",
       "\n",
       "  #altair-viz-c7bb14accdef45e7afc4be0aecc068ed.vega-embed details,\n",
       "  #altair-viz-c7bb14accdef45e7afc4be0aecc068ed.vega-embed details summary {\n",
       "    position: relative;\n",
       "  }\n",
       "</style>\n",
       "<div id=\"altair-viz-c7bb14accdef45e7afc4be0aecc068ed\"></div>\n",
       "<script type=\"text/javascript\">\n",
       "  var VEGA_DEBUG = (typeof VEGA_DEBUG == \"undefined\") ? {} : VEGA_DEBUG;\n",
       "  (function(spec, embedOpt){\n",
       "    let outputDiv = document.currentScript.previousElementSibling;\n",
       "    if (outputDiv.id !== \"altair-viz-c7bb14accdef45e7afc4be0aecc068ed\") {\n",
       "      outputDiv = document.getElementById(\"altair-viz-c7bb14accdef45e7afc4be0aecc068ed\");\n",
       "    }\n",
       "\n",
       "    const paths = {\n",
       "      \"vega\": \"https://cdn.jsdelivr.net/npm/vega@5?noext\",\n",
       "      \"vega-lib\": \"https://cdn.jsdelivr.net/npm/vega-lib?noext\",\n",
       "      \"vega-lite\": \"https://cdn.jsdelivr.net/npm/vega-lite@5.20.1?noext\",\n",
       "      \"vega-embed\": \"https://cdn.jsdelivr.net/npm/vega-embed@6?noext\",\n",
       "    };\n",
       "\n",
       "    function maybeLoadScript(lib, version) {\n",
       "      var key = `${lib.replace(\"-\", \"\")}_version`;\n",
       "      return (VEGA_DEBUG[key] == version) ?\n",
       "        Promise.resolve(paths[lib]) :\n",
       "        new Promise(function(resolve, reject) {\n",
       "          var s = document.createElement('script');\n",
       "          document.getElementsByTagName(\"head\")[0].appendChild(s);\n",
       "          s.async = true;\n",
       "          s.onload = () => {\n",
       "            VEGA_DEBUG[key] = version;\n",
       "            return resolve(paths[lib]);\n",
       "          };\n",
       "          s.onerror = () => reject(`Error loading script: ${paths[lib]}`);\n",
       "          s.src = paths[lib];\n",
       "        });\n",
       "    }\n",
       "\n",
       "    function showError(err) {\n",
       "      outputDiv.innerHTML = `<div class=\"error\" style=\"color:red;\">${err}</div>`;\n",
       "      throw err;\n",
       "    }\n",
       "\n",
       "    function displayChart(vegaEmbed) {\n",
       "      vegaEmbed(outputDiv, spec, embedOpt)\n",
       "        .catch(err => showError(`Javascript Error: ${err.message}<br>This usually means there's a typo in your chart specification. See the javascript console for the full traceback.`));\n",
       "    }\n",
       "\n",
       "    if(typeof define === \"function\" && define.amd) {\n",
       "      requirejs.config({paths});\n",
       "      let deps = [\"vega-embed\"];\n",
       "      require(deps, displayChart, err => showError(`Error loading script: ${err.message}`));\n",
       "    } else {\n",
       "      maybeLoadScript(\"vega\", \"5\")\n",
       "        .then(() => maybeLoadScript(\"vega-lite\", \"5.20.1\"))\n",
       "        .then(() => maybeLoadScript(\"vega-embed\", \"6\"))\n",
       "        .catch(showError)\n",
       "        .then(() => displayChart(vegaEmbed));\n",
       "    }\n",
       "  })({\"config\": {\"view\": {\"continuousWidth\": 300, \"continuousHeight\": 300}}, \"data\": {\"name\": \"data-74581ef61ddbbcfd9d64e8019641fe22\"}, \"mark\": {\"type\": \"bar\"}, \"encoding\": {\"color\": {\"field\": \"genre\", \"type\": \"nominal\"}, \"tooltip\": [{\"field\": \"genre\", \"type\": \"nominal\"}, {\"field\": \"count\", \"type\": \"quantitative\"}], \"x\": {\"field\": \"count\", \"title\": \"Count\", \"type\": \"quantitative\"}, \"y\": {\"field\": \"genre\", \"sort\": null, \"title\": \"Genre\", \"type\": \"nominal\"}}, \"height\": 400, \"title\": \"Genres Distribution\", \"width\": 800, \"$schema\": \"https://vega.github.io/schema/vega-lite/v5.20.1.json\", \"datasets\": {\"data-74581ef61ddbbcfd9d64e8019641fe22\": [{\"genre\": \"Drama\", \"count\": 39895}, {\"genre\": \"Comedy\", \"count\": 29832}, {\"genre\": \"Action\", \"count\": 25589}, {\"genre\": \"Thriller\", \"count\": 21872}, {\"genre\": \"Romance\", \"count\": 19461}, {\"genre\": \"Adventure\", \"count\": 13753}, {\"genre\": \"Sci-Fi\", \"count\": 12730}, {\"genre\": \"War\", \"count\": 9398}, {\"genre\": \"Crime\", \"count\": 8055}, {\"genre\": \"Children\", \"count\": 7182}, {\"genre\": \"Horror\", \"count\": 5317}, {\"genre\": \"Mystery\", \"count\": 5245}, {\"genre\": \"Musical\", \"count\": 4954}, {\"genre\": \"Animation\", \"count\": 3605}, {\"genre\": \"Western\", \"count\": 1854}, {\"genre\": \"Film-Noir\", \"count\": 1733}, {\"genre\": \"Fantasy\", \"count\": 1352}, {\"genre\": \"Documentary\", \"count\": 758}, {\"genre\": \"unknown\", \"count\": 10}]}}, {\"mode\": \"vega-lite\"});\n",
       "</script>"
      ],
      "text/plain": [
       "alt.Chart(...)"
      ]
     },
     "execution_count": 9,
     "metadata": {},
     "output_type": "execute_result"
    }
   ],
   "source": [
    "chart"
   ]
  },
  {
   "cell_type": "markdown",
   "id": "d524a449-9e23-4ac5-80d3-52c60c90750a",
   "metadata": {
    "tags": []
   },
   "source": [
    "**Which genres have the highest viewer satisfaction (highest ratings)?**"
   ]
  },
  {
   "cell_type": "code",
   "execution_count": 10,
   "id": "0ffa9558-a02b-4d16-af22-f53a40798d23",
   "metadata": {
    "tags": []
   },
   "outputs": [
    {
     "data": {
      "text/plain": [
       "array([3, 1, 2, 4, 5], dtype=int64)"
      ]
     },
     "execution_count": 10,
     "metadata": {},
     "output_type": "execute_result"
    }
   ],
   "source": [
    "df['rating'].unique()"
   ]
  },
  {
   "cell_type": "markdown",
   "id": "54209320-7775-4935-8c24-27ad90c914c4",
   "metadata": {},
   "source": [
    "**Strategies** \\\n",
    "First Strategy is just caclulate average rating for each genre and find the one with the highest \\\n",
    "Second Strategy is choose genres with highest percentage of max rating = 5."
   ]
  },
  {
   "cell_type": "code",
   "execution_count": 11,
   "id": "d0bc6fbc-4468-422c-8ba6-d5a9bd3a0e2f",
   "metadata": {
    "tags": []
   },
   "outputs": [],
   "source": [
    "genres_avg_rating = df.groupby(['genres']).agg({'rating':'mean'}).reset_index().sort_values(by= 'rating', ascending=False)"
   ]
  },
  {
   "cell_type": "code",
   "execution_count": 12,
   "id": "ff76d420-d2ba-4ce6-bd6b-8b141bf50fee",
   "metadata": {
    "tags": []
   },
   "outputs": [
    {
     "data": {
      "text/html": [
       "\n",
       "<style>\n",
       "  #altair-viz-5cae322d72684839b82255a947148f9a.vega-embed {\n",
       "    width: 100%;\n",
       "    display: flex;\n",
       "  }\n",
       "\n",
       "  #altair-viz-5cae322d72684839b82255a947148f9a.vega-embed details,\n",
       "  #altair-viz-5cae322d72684839b82255a947148f9a.vega-embed details summary {\n",
       "    position: relative;\n",
       "  }\n",
       "</style>\n",
       "<div id=\"altair-viz-5cae322d72684839b82255a947148f9a\"></div>\n",
       "<script type=\"text/javascript\">\n",
       "  var VEGA_DEBUG = (typeof VEGA_DEBUG == \"undefined\") ? {} : VEGA_DEBUG;\n",
       "  (function(spec, embedOpt){\n",
       "    let outputDiv = document.currentScript.previousElementSibling;\n",
       "    if (outputDiv.id !== \"altair-viz-5cae322d72684839b82255a947148f9a\") {\n",
       "      outputDiv = document.getElementById(\"altair-viz-5cae322d72684839b82255a947148f9a\");\n",
       "    }\n",
       "\n",
       "    const paths = {\n",
       "      \"vega\": \"https://cdn.jsdelivr.net/npm/vega@5?noext\",\n",
       "      \"vega-lib\": \"https://cdn.jsdelivr.net/npm/vega-lib?noext\",\n",
       "      \"vega-lite\": \"https://cdn.jsdelivr.net/npm/vega-lite@5.20.1?noext\",\n",
       "      \"vega-embed\": \"https://cdn.jsdelivr.net/npm/vega-embed@6?noext\",\n",
       "    };\n",
       "\n",
       "    function maybeLoadScript(lib, version) {\n",
       "      var key = `${lib.replace(\"-\", \"\")}_version`;\n",
       "      return (VEGA_DEBUG[key] == version) ?\n",
       "        Promise.resolve(paths[lib]) :\n",
       "        new Promise(function(resolve, reject) {\n",
       "          var s = document.createElement('script');\n",
       "          document.getElementsByTagName(\"head\")[0].appendChild(s);\n",
       "          s.async = true;\n",
       "          s.onload = () => {\n",
       "            VEGA_DEBUG[key] = version;\n",
       "            return resolve(paths[lib]);\n",
       "          };\n",
       "          s.onerror = () => reject(`Error loading script: ${paths[lib]}`);\n",
       "          s.src = paths[lib];\n",
       "        });\n",
       "    }\n",
       "\n",
       "    function showError(err) {\n",
       "      outputDiv.innerHTML = `<div class=\"error\" style=\"color:red;\">${err}</div>`;\n",
       "      throw err;\n",
       "    }\n",
       "\n",
       "    function displayChart(vegaEmbed) {\n",
       "      vegaEmbed(outputDiv, spec, embedOpt)\n",
       "        .catch(err => showError(`Javascript Error: ${err.message}<br>This usually means there's a typo in your chart specification. See the javascript console for the full traceback.`));\n",
       "    }\n",
       "\n",
       "    if(typeof define === \"function\" && define.amd) {\n",
       "      requirejs.config({paths});\n",
       "      let deps = [\"vega-embed\"];\n",
       "      require(deps, displayChart, err => showError(`Error loading script: ${err.message}`));\n",
       "    } else {\n",
       "      maybeLoadScript(\"vega\", \"5\")\n",
       "        .then(() => maybeLoadScript(\"vega-lite\", \"5.20.1\"))\n",
       "        .then(() => maybeLoadScript(\"vega-embed\", \"6\"))\n",
       "        .catch(showError)\n",
       "        .then(() => displayChart(vegaEmbed));\n",
       "    }\n",
       "  })({\"config\": {\"view\": {\"continuousWidth\": 300, \"continuousHeight\": 300}}, \"data\": {\"name\": \"data-2e1e704b15fba2fa462a99e54bc233ce\"}, \"mark\": {\"type\": \"bar\"}, \"encoding\": {\"color\": {\"field\": \"genres\", \"legend\": null, \"type\": \"nominal\"}, \"tooltip\": [{\"field\": \"genres\", \"type\": \"nominal\"}, {\"field\": \"rating\", \"type\": \"quantitative\"}], \"x\": {\"field\": \"genres\", \"sort\": \"-y\", \"type\": \"nominal\"}, \"y\": {\"field\": \"rating\", \"type\": \"quantitative\"}}, \"height\": 200, \"title\": \"Best Genre based on average rating\", \"width\": 900, \"$schema\": \"https://vega.github.io/schema/vega-lite/v5.20.1.json\", \"datasets\": {\"data-2e1e704b15fba2fa462a99e54bc233ce\": [{\"genres\": \"Film-Noir\", \"rating\": 3.9215233698788228}, {\"genres\": \"War\", \"rating\": 3.815811874866993}, {\"genres\": \"Drama\", \"rating\": 3.6873793708484772}, {\"genres\": \"Documentary\", \"rating\": 3.6728232189973613}, {\"genres\": \"Mystery\", \"rating\": 3.63813155386082}, {\"genres\": \"Crime\", \"rating\": 3.6322780881440098}, {\"genres\": \"Romance\", \"rating\": 3.621704948358255}, {\"genres\": \"Western\", \"rating\": 3.6132686084142396}, {\"genres\": \"Animation\", \"rating\": 3.5766990291262135}, {\"genres\": \"Sci-Fi\", \"rating\": 3.5607227022780834}, {\"genres\": \"Musical\", \"rating\": 3.521396851029471}, {\"genres\": \"Thriller\", \"rating\": 3.5090069495245064}, {\"genres\": \"Adventure\", \"rating\": 3.503526503308369}, {\"genres\": \"Action\", \"rating\": 3.480245417953027}, {\"genres\": \"Comedy\", \"rating\": 3.3940734781442745}, {\"genres\": \"Children\", \"rating\": 3.3532442216652742}, {\"genres\": \"Horror\", \"rating\": 3.2903893172841827}, {\"genres\": \"Fantasy\", \"rating\": 3.2152366863905324}, {\"genres\": \"unknown\", \"rating\": 3.2}]}}, {\"mode\": \"vega-lite\"});\n",
       "</script>"
      ],
      "text/plain": [
       "alt.Chart(...)"
      ]
     },
     "metadata": {},
     "output_type": "display_data"
    }
   ],
   "source": [
    "chart = alt.Chart(genres_avg_rating).mark_bar().encode(\n",
    "    x=alt.X('genres:N', sort='-y'),   # sort bars by count\n",
    "    y=alt.Y('rating:Q'),\n",
    "    color=alt.Color('genres:N', legend=None),  # distinct colors per brand\n",
    "    tooltip=['genres', 'rating']\n",
    ").properties(\n",
    "    title=\"Best Genre based on average rating\",\n",
    "    width=900,\n",
    "    height=200\n",
    ")\n",
    "\n",
    "chart.show()"
   ]
  },
  {
   "cell_type": "markdown",
   "id": "00522e27-c330-485c-958e-a0b1c4559a04",
   "metadata": {},
   "source": [
    "**second approach**"
   ]
  },
  {
   "cell_type": "code",
   "execution_count": 13,
   "id": "bd813b7e-17ce-420b-9062-b1c22eb7636d",
   "metadata": {
    "tags": []
   },
   "outputs": [
    {
     "data": {
      "text/html": [
       "<div>\n",
       "<style scoped>\n",
       "    .dataframe tbody tr th:only-of-type {\n",
       "        vertical-align: middle;\n",
       "    }\n",
       "\n",
       "    .dataframe tbody tr th {\n",
       "        vertical-align: top;\n",
       "    }\n",
       "\n",
       "    .dataframe thead th {\n",
       "        text-align: right;\n",
       "    }\n",
       "</style>\n",
       "<table border=\"1\" class=\"dataframe\">\n",
       "  <thead>\n",
       "    <tr style=\"text-align: right;\">\n",
       "      <th></th>\n",
       "      <th>genres</th>\n",
       "      <th>total_ratings</th>\n",
       "      <th>five_star_count</th>\n",
       "      <th>percentage</th>\n",
       "    </tr>\n",
       "  </thead>\n",
       "  <tbody>\n",
       "    <tr>\n",
       "      <th>9</th>\n",
       "      <td>Film-Noir</td>\n",
       "      <td>1733</td>\n",
       "      <td>560</td>\n",
       "      <td>0.32</td>\n",
       "    </tr>\n",
       "    <tr>\n",
       "      <th>16</th>\n",
       "      <td>War</td>\n",
       "      <td>9398</td>\n",
       "      <td>2914</td>\n",
       "      <td>0.31</td>\n",
       "    </tr>\n",
       "    <tr>\n",
       "      <th>6</th>\n",
       "      <td>Documentary</td>\n",
       "      <td>758</td>\n",
       "      <td>209</td>\n",
       "      <td>0.28</td>\n",
       "    </tr>\n",
       "    <tr>\n",
       "      <th>7</th>\n",
       "      <td>Drama</td>\n",
       "      <td>39895</td>\n",
       "      <td>9997</td>\n",
       "      <td>0.25</td>\n",
       "    </tr>\n",
       "    <tr>\n",
       "      <th>5</th>\n",
       "      <td>Crime</td>\n",
       "      <td>8055</td>\n",
       "      <td>1963</td>\n",
       "      <td>0.24</td>\n",
       "    </tr>\n",
       "    <tr>\n",
       "      <th>13</th>\n",
       "      <td>Romance</td>\n",
       "      <td>19461</td>\n",
       "      <td>4559</td>\n",
       "      <td>0.23</td>\n",
       "    </tr>\n",
       "    <tr>\n",
       "      <th>14</th>\n",
       "      <td>Sci-Fi</td>\n",
       "      <td>12730</td>\n",
       "      <td>2914</td>\n",
       "      <td>0.23</td>\n",
       "    </tr>\n",
       "    <tr>\n",
       "      <th>12</th>\n",
       "      <td>Mystery</td>\n",
       "      <td>5245</td>\n",
       "      <td>1225</td>\n",
       "      <td>0.23</td>\n",
       "    </tr>\n",
       "    <tr>\n",
       "      <th>2</th>\n",
       "      <td>Animation</td>\n",
       "      <td>3605</td>\n",
       "      <td>796</td>\n",
       "      <td>0.22</td>\n",
       "    </tr>\n",
       "    <tr>\n",
       "      <th>17</th>\n",
       "      <td>Western</td>\n",
       "      <td>1854</td>\n",
       "      <td>394</td>\n",
       "      <td>0.21</td>\n",
       "    </tr>\n",
       "    <tr>\n",
       "      <th>1</th>\n",
       "      <td>Adventure</td>\n",
       "      <td>13753</td>\n",
       "      <td>2903</td>\n",
       "      <td>0.21</td>\n",
       "    </tr>\n",
       "    <tr>\n",
       "      <th>11</th>\n",
       "      <td>Musical</td>\n",
       "      <td>4954</td>\n",
       "      <td>1050</td>\n",
       "      <td>0.21</td>\n",
       "    </tr>\n",
       "    <tr>\n",
       "      <th>15</th>\n",
       "      <td>Thriller</td>\n",
       "      <td>21872</td>\n",
       "      <td>4312</td>\n",
       "      <td>0.20</td>\n",
       "    </tr>\n",
       "    <tr>\n",
       "      <th>0</th>\n",
       "      <td>Action</td>\n",
       "      <td>25589</td>\n",
       "      <td>5103</td>\n",
       "      <td>0.20</td>\n",
       "    </tr>\n",
       "    <tr>\n",
       "      <th>4</th>\n",
       "      <td>Comedy</td>\n",
       "      <td>29832</td>\n",
       "      <td>5224</td>\n",
       "      <td>0.18</td>\n",
       "    </tr>\n",
       "    <tr>\n",
       "      <th>3</th>\n",
       "      <td>Children</td>\n",
       "      <td>7182</td>\n",
       "      <td>1217</td>\n",
       "      <td>0.17</td>\n",
       "    </tr>\n",
       "    <tr>\n",
       "      <th>10</th>\n",
       "      <td>Horror</td>\n",
       "      <td>5317</td>\n",
       "      <td>877</td>\n",
       "      <td>0.16</td>\n",
       "    </tr>\n",
       "    <tr>\n",
       "      <th>8</th>\n",
       "      <td>Fantasy</td>\n",
       "      <td>1352</td>\n",
       "      <td>176</td>\n",
       "      <td>0.13</td>\n",
       "    </tr>\n",
       "    <tr>\n",
       "      <th>18</th>\n",
       "      <td>unknown</td>\n",
       "      <td>10</td>\n",
       "      <td>1</td>\n",
       "      <td>0.10</td>\n",
       "    </tr>\n",
       "  </tbody>\n",
       "</table>\n",
       "</div>"
      ],
      "text/plain": [
       "         genres  total_ratings  five_star_count  percentage\n",
       "9     Film-Noir           1733              560        0.32\n",
       "16          War           9398             2914        0.31\n",
       "6   Documentary            758              209        0.28\n",
       "7         Drama          39895             9997        0.25\n",
       "5         Crime           8055             1963        0.24\n",
       "13      Romance          19461             4559        0.23\n",
       "14       Sci-Fi          12730             2914        0.23\n",
       "12      Mystery           5245             1225        0.23\n",
       "2     Animation           3605              796        0.22\n",
       "17      Western           1854              394        0.21\n",
       "1     Adventure          13753             2903        0.21\n",
       "11      Musical           4954             1050        0.21\n",
       "15     Thriller          21872             4312        0.20\n",
       "0        Action          25589             5103        0.20\n",
       "4        Comedy          29832             5224        0.18\n",
       "3      Children           7182             1217        0.17\n",
       "10       Horror           5317              877        0.16\n",
       "8       Fantasy           1352              176        0.13\n",
       "18      unknown             10                1        0.10"
      ]
     },
     "execution_count": 13,
     "metadata": {},
     "output_type": "execute_result"
    }
   ],
   "source": [
    "# Step 1: count total ratings per genre\n",
    "total_counts = df.groupby(\"genres\")[\"rating\"].count()\n",
    "# Step 2: count only 5-star ratings per genre\n",
    "five_star_counts = df[df[\"rating\"] == 5].groupby(\"genres\")[\"rating\"].count()\n",
    "# Step 3: combine\n",
    "best_genres = pd.DataFrame({\n",
    "    \"total_ratings\": total_counts,\n",
    "    \"five_star_count\": five_star_counts\n",
    "}).fillna(0).reset_index()\n",
    "\n",
    "best_genres['percentage'] = round(best_genres['five_star_count'] / best_genres['total_ratings'],2)\n",
    "best_genres.sort_values(by = 'percentage', ascending = False)"
   ]
  },
  {
   "cell_type": "code",
   "execution_count": 14,
   "id": "2f277093-63c7-4d60-8f4b-7aec25ac87bc",
   "metadata": {
    "tags": []
   },
   "outputs": [
    {
     "data": {
      "text/html": [
       "\n",
       "<style>\n",
       "  #altair-viz-bce9cc473a974f7787ecb48c1175e70e.vega-embed {\n",
       "    width: 100%;\n",
       "    display: flex;\n",
       "  }\n",
       "\n",
       "  #altair-viz-bce9cc473a974f7787ecb48c1175e70e.vega-embed details,\n",
       "  #altair-viz-bce9cc473a974f7787ecb48c1175e70e.vega-embed details summary {\n",
       "    position: relative;\n",
       "  }\n",
       "</style>\n",
       "<div id=\"altair-viz-bce9cc473a974f7787ecb48c1175e70e\"></div>\n",
       "<script type=\"text/javascript\">\n",
       "  var VEGA_DEBUG = (typeof VEGA_DEBUG == \"undefined\") ? {} : VEGA_DEBUG;\n",
       "  (function(spec, embedOpt){\n",
       "    let outputDiv = document.currentScript.previousElementSibling;\n",
       "    if (outputDiv.id !== \"altair-viz-bce9cc473a974f7787ecb48c1175e70e\") {\n",
       "      outputDiv = document.getElementById(\"altair-viz-bce9cc473a974f7787ecb48c1175e70e\");\n",
       "    }\n",
       "\n",
       "    const paths = {\n",
       "      \"vega\": \"https://cdn.jsdelivr.net/npm/vega@5?noext\",\n",
       "      \"vega-lib\": \"https://cdn.jsdelivr.net/npm/vega-lib?noext\",\n",
       "      \"vega-lite\": \"https://cdn.jsdelivr.net/npm/vega-lite@5.20.1?noext\",\n",
       "      \"vega-embed\": \"https://cdn.jsdelivr.net/npm/vega-embed@6?noext\",\n",
       "    };\n",
       "\n",
       "    function maybeLoadScript(lib, version) {\n",
       "      var key = `${lib.replace(\"-\", \"\")}_version`;\n",
       "      return (VEGA_DEBUG[key] == version) ?\n",
       "        Promise.resolve(paths[lib]) :\n",
       "        new Promise(function(resolve, reject) {\n",
       "          var s = document.createElement('script');\n",
       "          document.getElementsByTagName(\"head\")[0].appendChild(s);\n",
       "          s.async = true;\n",
       "          s.onload = () => {\n",
       "            VEGA_DEBUG[key] = version;\n",
       "            return resolve(paths[lib]);\n",
       "          };\n",
       "          s.onerror = () => reject(`Error loading script: ${paths[lib]}`);\n",
       "          s.src = paths[lib];\n",
       "        });\n",
       "    }\n",
       "\n",
       "    function showError(err) {\n",
       "      outputDiv.innerHTML = `<div class=\"error\" style=\"color:red;\">${err}</div>`;\n",
       "      throw err;\n",
       "    }\n",
       "\n",
       "    function displayChart(vegaEmbed) {\n",
       "      vegaEmbed(outputDiv, spec, embedOpt)\n",
       "        .catch(err => showError(`Javascript Error: ${err.message}<br>This usually means there's a typo in your chart specification. See the javascript console for the full traceback.`));\n",
       "    }\n",
       "\n",
       "    if(typeof define === \"function\" && define.amd) {\n",
       "      requirejs.config({paths});\n",
       "      let deps = [\"vega-embed\"];\n",
       "      require(deps, displayChart, err => showError(`Error loading script: ${err.message}`));\n",
       "    } else {\n",
       "      maybeLoadScript(\"vega\", \"5\")\n",
       "        .then(() => maybeLoadScript(\"vega-lite\", \"5.20.1\"))\n",
       "        .then(() => maybeLoadScript(\"vega-embed\", \"6\"))\n",
       "        .catch(showError)\n",
       "        .then(() => displayChart(vegaEmbed));\n",
       "    }\n",
       "  })({\"config\": {\"view\": {\"continuousWidth\": 300, \"continuousHeight\": 300}}, \"data\": {\"name\": \"data-3eadc37a7b707cf425e27b096ff445e0\"}, \"mark\": {\"type\": \"bar\"}, \"encoding\": {\"color\": {\"field\": \"genres\", \"legend\": null, \"type\": \"nominal\"}, \"tooltip\": [{\"field\": \"genres\", \"type\": \"nominal\"}, {\"field\": \"percentage\", \"type\": \"quantitative\"}], \"x\": {\"field\": \"genres\", \"sort\": \"-y\", \"type\": \"nominal\"}, \"y\": {\"field\": \"percentage\", \"type\": \"quantitative\"}}, \"height\": 200, \"title\": \"Percentage of 5 star  ratings\", \"width\": 900, \"$schema\": \"https://vega.github.io/schema/vega-lite/v5.20.1.json\", \"datasets\": {\"data-3eadc37a7b707cf425e27b096ff445e0\": [{\"genres\": \"Action\", \"total_ratings\": 25589, \"five_star_count\": 5103, \"percentage\": 0.2}, {\"genres\": \"Adventure\", \"total_ratings\": 13753, \"five_star_count\": 2903, \"percentage\": 0.21}, {\"genres\": \"Animation\", \"total_ratings\": 3605, \"five_star_count\": 796, \"percentage\": 0.22}, {\"genres\": \"Children\", \"total_ratings\": 7182, \"five_star_count\": 1217, \"percentage\": 0.17}, {\"genres\": \"Comedy\", \"total_ratings\": 29832, \"five_star_count\": 5224, \"percentage\": 0.18}, {\"genres\": \"Crime\", \"total_ratings\": 8055, \"five_star_count\": 1963, \"percentage\": 0.24}, {\"genres\": \"Documentary\", \"total_ratings\": 758, \"five_star_count\": 209, \"percentage\": 0.28}, {\"genres\": \"Drama\", \"total_ratings\": 39895, \"five_star_count\": 9997, \"percentage\": 0.25}, {\"genres\": \"Fantasy\", \"total_ratings\": 1352, \"five_star_count\": 176, \"percentage\": 0.13}, {\"genres\": \"Film-Noir\", \"total_ratings\": 1733, \"five_star_count\": 560, \"percentage\": 0.32}, {\"genres\": \"Horror\", \"total_ratings\": 5317, \"five_star_count\": 877, \"percentage\": 0.16}, {\"genres\": \"Musical\", \"total_ratings\": 4954, \"five_star_count\": 1050, \"percentage\": 0.21}, {\"genres\": \"Mystery\", \"total_ratings\": 5245, \"five_star_count\": 1225, \"percentage\": 0.23}, {\"genres\": \"Romance\", \"total_ratings\": 19461, \"five_star_count\": 4559, \"percentage\": 0.23}, {\"genres\": \"Sci-Fi\", \"total_ratings\": 12730, \"five_star_count\": 2914, \"percentage\": 0.23}, {\"genres\": \"Thriller\", \"total_ratings\": 21872, \"five_star_count\": 4312, \"percentage\": 0.2}, {\"genres\": \"War\", \"total_ratings\": 9398, \"five_star_count\": 2914, \"percentage\": 0.31}, {\"genres\": \"Western\", \"total_ratings\": 1854, \"five_star_count\": 394, \"percentage\": 0.21}, {\"genres\": \"unknown\", \"total_ratings\": 10, \"five_star_count\": 1, \"percentage\": 0.1}]}}, {\"mode\": \"vega-lite\"});\n",
       "</script>"
      ],
      "text/plain": [
       "alt.Chart(...)"
      ]
     },
     "metadata": {},
     "output_type": "display_data"
    }
   ],
   "source": [
    "chart = alt.Chart(best_genres).mark_bar().encode(\n",
    "    x=alt.X('genres:N', sort='-y'),   # sort bars by count\n",
    "    y=alt.Y('percentage:Q'),\n",
    "    color=alt.Color('genres:N', legend=None),  # distinct colors per brand\n",
    "    tooltip=['genres', 'percentage']\n",
    ").properties(\n",
    "    title=\"Percentage of 5 star  ratings\",\n",
    "    width=900,\n",
    "    height=200\n",
    ")\n",
    "\n",
    "chart.show()"
   ]
  },
  {
   "cell_type": "markdown",
   "id": "05a1960e-ab69-4abb-8560-7a58a87c6903",
   "metadata": {},
   "source": [
    "**How does mean rating change across movie release years?**"
   ]
  },
  {
   "cell_type": "code",
   "execution_count": 15,
   "id": "15324284-a608-4b0b-bb79-a0290e31d1e0",
   "metadata": {
    "tags": []
   },
   "outputs": [],
   "source": [
    "df[\"year_month\"] = df[\"timestamp\"].dt.to_period(\"M\").astype(str)"
   ]
  },
  {
   "cell_type": "code",
   "execution_count": 16,
   "id": "3e4ee3c3-d5e4-4eac-9ab2-12809e3103b0",
   "metadata": {
    "tags": []
   },
   "outputs": [],
   "source": [
    "back_to_future = df[df['title'] == \"Back to the Future (1985)\"]"
   ]
  },
  {
   "cell_type": "code",
   "execution_count": 17,
   "id": "726cde5c-a4b5-4cc9-a69f-2b509ede5a68",
   "metadata": {
    "tags": []
   },
   "outputs": [],
   "source": [
    "time_rating = back_to_future.groupby('year_month').agg({'rating':'mean'}).reset_index().sort_values(by = 'year_month', ascending = True)"
   ]
  },
  {
   "cell_type": "code",
   "execution_count": 18,
   "id": "15d8cf8c-63fe-4c05-91b4-17b78fa3c331",
   "metadata": {
    "tags": []
   },
   "outputs": [
    {
     "data": {
      "text/html": [
       "\n",
       "<style>\n",
       "  #altair-viz-eb9ddda0e209434da14e6364a1e17420.vega-embed {\n",
       "    width: 100%;\n",
       "    display: flex;\n",
       "  }\n",
       "\n",
       "  #altair-viz-eb9ddda0e209434da14e6364a1e17420.vega-embed details,\n",
       "  #altair-viz-eb9ddda0e209434da14e6364a1e17420.vega-embed details summary {\n",
       "    position: relative;\n",
       "  }\n",
       "</style>\n",
       "<div id=\"altair-viz-eb9ddda0e209434da14e6364a1e17420\"></div>\n",
       "<script type=\"text/javascript\">\n",
       "  var VEGA_DEBUG = (typeof VEGA_DEBUG == \"undefined\") ? {} : VEGA_DEBUG;\n",
       "  (function(spec, embedOpt){\n",
       "    let outputDiv = document.currentScript.previousElementSibling;\n",
       "    if (outputDiv.id !== \"altair-viz-eb9ddda0e209434da14e6364a1e17420\") {\n",
       "      outputDiv = document.getElementById(\"altair-viz-eb9ddda0e209434da14e6364a1e17420\");\n",
       "    }\n",
       "\n",
       "    const paths = {\n",
       "      \"vega\": \"https://cdn.jsdelivr.net/npm/vega@5?noext\",\n",
       "      \"vega-lib\": \"https://cdn.jsdelivr.net/npm/vega-lib?noext\",\n",
       "      \"vega-lite\": \"https://cdn.jsdelivr.net/npm/vega-lite@5.20.1?noext\",\n",
       "      \"vega-embed\": \"https://cdn.jsdelivr.net/npm/vega-embed@6?noext\",\n",
       "    };\n",
       "\n",
       "    function maybeLoadScript(lib, version) {\n",
       "      var key = `${lib.replace(\"-\", \"\")}_version`;\n",
       "      return (VEGA_DEBUG[key] == version) ?\n",
       "        Promise.resolve(paths[lib]) :\n",
       "        new Promise(function(resolve, reject) {\n",
       "          var s = document.createElement('script');\n",
       "          document.getElementsByTagName(\"head\")[0].appendChild(s);\n",
       "          s.async = true;\n",
       "          s.onload = () => {\n",
       "            VEGA_DEBUG[key] = version;\n",
       "            return resolve(paths[lib]);\n",
       "          };\n",
       "          s.onerror = () => reject(`Error loading script: ${paths[lib]}`);\n",
       "          s.src = paths[lib];\n",
       "        });\n",
       "    }\n",
       "\n",
       "    function showError(err) {\n",
       "      outputDiv.innerHTML = `<div class=\"error\" style=\"color:red;\">${err}</div>`;\n",
       "      throw err;\n",
       "    }\n",
       "\n",
       "    function displayChart(vegaEmbed) {\n",
       "      vegaEmbed(outputDiv, spec, embedOpt)\n",
       "        .catch(err => showError(`Javascript Error: ${err.message}<br>This usually means there's a typo in your chart specification. See the javascript console for the full traceback.`));\n",
       "    }\n",
       "\n",
       "    if(typeof define === \"function\" && define.amd) {\n",
       "      requirejs.config({paths});\n",
       "      let deps = [\"vega-embed\"];\n",
       "      require(deps, displayChart, err => showError(`Error loading script: ${err.message}`));\n",
       "    } else {\n",
       "      maybeLoadScript(\"vega\", \"5\")\n",
       "        .then(() => maybeLoadScript(\"vega-lite\", \"5.20.1\"))\n",
       "        .then(() => maybeLoadScript(\"vega-embed\", \"6\"))\n",
       "        .catch(showError)\n",
       "        .then(() => displayChart(vegaEmbed));\n",
       "    }\n",
       "  })({\"config\": {\"view\": {\"continuousWidth\": 300, \"continuousHeight\": 300}}, \"data\": {\"name\": \"data-0515e003fcc84941fd52589885efdb1a\"}, \"mark\": {\"type\": \"line\", \"point\": true}, \"encoding\": {\"tooltip\": [{\"field\": \"year_month\", \"type\": \"nominal\"}, {\"field\": \"rating\", \"type\": \"quantitative\"}], \"x\": {\"field\": \"year_month\", \"title\": \"Year-Month\", \"type\": \"ordinal\"}, \"y\": {\"field\": \"rating\", \"title\": \"Average Rating\", \"type\": \"quantitative\"}}, \"height\": 400, \"title\": \"Average Movie Ratings Over Time\", \"width\": 600, \"$schema\": \"https://vega.github.io/schema/vega-lite/v5.20.1.json\", \"datasets\": {\"data-0515e003fcc84941fd52589885efdb1a\": [{\"year_month\": \"1997-09\", \"rating\": 3.8846153846153846}, {\"year_month\": \"1997-10\", \"rating\": 3.948717948717949}, {\"year_month\": \"1997-11\", \"rating\": 3.882978723404255}, {\"year_month\": \"1997-12\", \"rating\": 3.875}, {\"year_month\": \"1998-01\", \"rating\": 3.96}, {\"year_month\": \"1998-02\", \"rating\": 3.5142857142857142}, {\"year_month\": \"1998-03\", \"rating\": 3.8292682926829267}, {\"year_month\": \"1998-04\", \"rating\": 3.56}]}}, {\"mode\": \"vega-lite\"});\n",
       "</script>"
      ],
      "text/plain": [
       "alt.Chart(...)"
      ]
     },
     "execution_count": 18,
     "metadata": {},
     "output_type": "execute_result"
    }
   ],
   "source": [
    "chart = (\n",
    "    alt.Chart(time_rating)\n",
    "    .mark_line(point=True)\n",
    "    .encode(\n",
    "        x=alt.X(\"year_month:O\", title=\"Year-Month\"),  # use Ordinal (O) instead of Temporal (T)\n",
    "        y=alt.Y(\"rating:Q\", title=\"Average Rating\"),\n",
    "        tooltip=[\"year_month\", \"rating:Q\"]\n",
    "    )\n",
    "    .properties(\n",
    "        title=\"Average Movie Ratings Over Time\",\n",
    "        width=600,\n",
    "        height=400\n",
    "    )\n",
    ")\n",
    "\n",
    "chart\n"
   ]
  },
  {
   "cell_type": "markdown",
   "id": "41e6b5c1-57e1-4bf4-bfac-57afd152ecc8",
   "metadata": {},
   "source": [
    "**What are the 5 best-rated movies that have at least 50 ratings? At least 150 ratings?**"
   ]
  },
  {
   "cell_type": "code",
   "execution_count": 19,
   "id": "c0170da9-27f4-4baa-a184-b50fc28f5ddd",
   "metadata": {
    "tags": []
   },
   "outputs": [],
   "source": [
    "best_rated_movs = (\n",
    "    df.groupby(\"title\")\n",
    "    .filter(lambda x: len(x) >= 50)\n",
    "    .groupby(\"title\")[\"rating\"]\n",
    "    .mean()\n",
    "    .sort_values( ascending=False)\n",
    ").reset_index()\n"
   ]
  },
  {
   "cell_type": "code",
   "execution_count": 20,
   "id": "75ed69e6-14b0-4e3e-91ed-0be09b78b596",
   "metadata": {
    "tags": []
   },
   "outputs": [
    {
     "data": {
      "text/html": [
       "<div>\n",
       "<style scoped>\n",
       "    .dataframe tbody tr th:only-of-type {\n",
       "        vertical-align: middle;\n",
       "    }\n",
       "\n",
       "    .dataframe tbody tr th {\n",
       "        vertical-align: top;\n",
       "    }\n",
       "\n",
       "    .dataframe thead th {\n",
       "        text-align: right;\n",
       "    }\n",
       "</style>\n",
       "<table border=\"1\" class=\"dataframe\">\n",
       "  <thead>\n",
       "    <tr style=\"text-align: right;\">\n",
       "      <th></th>\n",
       "      <th>title</th>\n",
       "      <th>rating</th>\n",
       "    </tr>\n",
       "  </thead>\n",
       "  <tbody>\n",
       "    <tr>\n",
       "      <th>0</th>\n",
       "      <td>Close Shave, A (1995)</td>\n",
       "      <td>4.491071</td>\n",
       "    </tr>\n",
       "    <tr>\n",
       "      <th>1</th>\n",
       "      <td>Schindler's List (1993)</td>\n",
       "      <td>4.466443</td>\n",
       "    </tr>\n",
       "    <tr>\n",
       "      <th>2</th>\n",
       "      <td>Wrong Trousers, The (1993)</td>\n",
       "      <td>4.466102</td>\n",
       "    </tr>\n",
       "    <tr>\n",
       "      <th>3</th>\n",
       "      <td>Casablanca (1942)</td>\n",
       "      <td>4.456790</td>\n",
       "    </tr>\n",
       "    <tr>\n",
       "      <th>4</th>\n",
       "      <td>Wallace &amp; Gromit: The Best of Aardman Animatio...</td>\n",
       "      <td>4.447761</td>\n",
       "    </tr>\n",
       "  </tbody>\n",
       "</table>\n",
       "</div>"
      ],
      "text/plain": [
       "                                               title    rating\n",
       "0                              Close Shave, A (1995)  4.491071\n",
       "1                            Schindler's List (1993)  4.466443\n",
       "2                         Wrong Trousers, The (1993)  4.466102\n",
       "3                                  Casablanca (1942)  4.456790\n",
       "4  Wallace & Gromit: The Best of Aardman Animatio...  4.447761"
      ]
     },
     "execution_count": 20,
     "metadata": {},
     "output_type": "execute_result"
    }
   ],
   "source": [
    "best_rated_movs[:5]"
   ]
  },
  {
   "cell_type": "code",
   "execution_count": 21,
   "id": "9b5016a5-2b9b-495a-948c-18cfdc52f6bf",
   "metadata": {
    "tags": []
   },
   "outputs": [],
   "source": [
    "best_rated_movs = (\n",
    "    df.groupby(\"title\")\n",
    "    .filter(lambda x: len(x) >= 150)\n",
    "    .groupby(\"title\")[\"rating\"]\n",
    "    .mean()\n",
    "    .sort_values( ascending=False)\n",
    ").reset_index()\n"
   ]
  },
  {
   "cell_type": "code",
   "execution_count": 22,
   "id": "332703ce-636e-4ec2-aaa8-32293aee0a8a",
   "metadata": {
    "tags": []
   },
   "outputs": [
    {
     "data": {
      "text/html": [
       "<div>\n",
       "<style scoped>\n",
       "    .dataframe tbody tr th:only-of-type {\n",
       "        vertical-align: middle;\n",
       "    }\n",
       "\n",
       "    .dataframe tbody tr th {\n",
       "        vertical-align: top;\n",
       "    }\n",
       "\n",
       "    .dataframe thead th {\n",
       "        text-align: right;\n",
       "    }\n",
       "</style>\n",
       "<table border=\"1\" class=\"dataframe\">\n",
       "  <thead>\n",
       "    <tr style=\"text-align: right;\">\n",
       "      <th></th>\n",
       "      <th>title</th>\n",
       "      <th>rating</th>\n",
       "    </tr>\n",
       "  </thead>\n",
       "  <tbody>\n",
       "    <tr>\n",
       "      <th>0</th>\n",
       "      <td>Close Shave, A (1995)</td>\n",
       "      <td>4.491071</td>\n",
       "    </tr>\n",
       "    <tr>\n",
       "      <th>1</th>\n",
       "      <td>Schindler's List (1993)</td>\n",
       "      <td>4.466443</td>\n",
       "    </tr>\n",
       "    <tr>\n",
       "      <th>2</th>\n",
       "      <td>Wrong Trousers, The (1993)</td>\n",
       "      <td>4.466102</td>\n",
       "    </tr>\n",
       "    <tr>\n",
       "      <th>3</th>\n",
       "      <td>Casablanca (1942)</td>\n",
       "      <td>4.456790</td>\n",
       "    </tr>\n",
       "    <tr>\n",
       "      <th>4</th>\n",
       "      <td>Shawshank Redemption, The (1994)</td>\n",
       "      <td>4.445230</td>\n",
       "    </tr>\n",
       "  </tbody>\n",
       "</table>\n",
       "</div>"
      ],
      "text/plain": [
       "                              title    rating\n",
       "0             Close Shave, A (1995)  4.491071\n",
       "1           Schindler's List (1993)  4.466443\n",
       "2        Wrong Trousers, The (1993)  4.466102\n",
       "3                 Casablanca (1942)  4.456790\n",
       "4  Shawshank Redemption, The (1994)  4.445230"
      ]
     },
     "execution_count": 22,
     "metadata": {},
     "output_type": "execute_result"
    }
   ],
   "source": [
    "best_rated_movs[:5]"
   ]
  },
  {
   "cell_type": "markdown",
   "id": "87c14e7f-b046-4569-a430-c6dedf4f2420",
   "metadata": {},
   "source": [
    "**For each genre, how does the rating change as viewer age increases?**"
   ]
  },
  {
   "cell_type": "code",
   "execution_count": 23,
   "id": "f16b5791-1bc9-42a4-8f2b-149e078baddc",
   "metadata": {
    "tags": []
   },
   "outputs": [],
   "source": [
    "age_rating = df.groupby(['genres','age']).agg({'rating':'mean'}).reset_index()"
   ]
  },
  {
   "cell_type": "code",
   "execution_count": 24,
   "id": "76e46b3b-aa3d-4e6e-8138-625b74315753",
   "metadata": {
    "tags": []
   },
   "outputs": [
    {
     "data": {
      "text/html": [
       "<div>\n",
       "<style scoped>\n",
       "    .dataframe tbody tr th:only-of-type {\n",
       "        vertical-align: middle;\n",
       "    }\n",
       "\n",
       "    .dataframe tbody tr th {\n",
       "        vertical-align: top;\n",
       "    }\n",
       "\n",
       "    .dataframe thead th {\n",
       "        text-align: right;\n",
       "    }\n",
       "</style>\n",
       "<table border=\"1\" class=\"dataframe\">\n",
       "  <thead>\n",
       "    <tr style=\"text-align: right;\">\n",
       "      <th></th>\n",
       "      <th>genres</th>\n",
       "      <th>age</th>\n",
       "      <th>rating</th>\n",
       "    </tr>\n",
       "  </thead>\n",
       "  <tbody>\n",
       "    <tr>\n",
       "      <th>0</th>\n",
       "      <td>Action</td>\n",
       "      <td>7</td>\n",
       "      <td>3.611111</td>\n",
       "    </tr>\n",
       "    <tr>\n",
       "      <th>1</th>\n",
       "      <td>Action</td>\n",
       "      <td>10</td>\n",
       "      <td>4.000000</td>\n",
       "    </tr>\n",
       "    <tr>\n",
       "      <th>2</th>\n",
       "      <td>Action</td>\n",
       "      <td>11</td>\n",
       "      <td>3.076923</td>\n",
       "    </tr>\n",
       "    <tr>\n",
       "      <th>3</th>\n",
       "      <td>Action</td>\n",
       "      <td>13</td>\n",
       "      <td>3.493421</td>\n",
       "    </tr>\n",
       "    <tr>\n",
       "      <th>4</th>\n",
       "      <td>Action</td>\n",
       "      <td>14</td>\n",
       "      <td>3.593220</td>\n",
       "    </tr>\n",
       "    <tr>\n",
       "      <th>...</th>\n",
       "      <td>...</td>\n",
       "      <td>...</td>\n",
       "      <td>...</td>\n",
       "    </tr>\n",
       "    <tr>\n",
       "      <th>1057</th>\n",
       "      <td>unknown</td>\n",
       "      <td>26</td>\n",
       "      <td>2.500000</td>\n",
       "    </tr>\n",
       "    <tr>\n",
       "      <th>1058</th>\n",
       "      <td>unknown</td>\n",
       "      <td>29</td>\n",
       "      <td>3.000000</td>\n",
       "    </tr>\n",
       "    <tr>\n",
       "      <th>1059</th>\n",
       "      <td>unknown</td>\n",
       "      <td>33</td>\n",
       "      <td>4.000000</td>\n",
       "    </tr>\n",
       "    <tr>\n",
       "      <th>1060</th>\n",
       "      <td>unknown</td>\n",
       "      <td>34</td>\n",
       "      <td>1.000000</td>\n",
       "    </tr>\n",
       "    <tr>\n",
       "      <th>1061</th>\n",
       "      <td>unknown</td>\n",
       "      <td>38</td>\n",
       "      <td>4.000000</td>\n",
       "    </tr>\n",
       "  </tbody>\n",
       "</table>\n",
       "<p>1062 rows × 3 columns</p>\n",
       "</div>"
      ],
      "text/plain": [
       "       genres  age    rating\n",
       "0      Action    7  3.611111\n",
       "1      Action   10  4.000000\n",
       "2      Action   11  3.076923\n",
       "3      Action   13  3.493421\n",
       "4      Action   14  3.593220\n",
       "...       ...  ...       ...\n",
       "1057  unknown   26  2.500000\n",
       "1058  unknown   29  3.000000\n",
       "1059  unknown   33  4.000000\n",
       "1060  unknown   34  1.000000\n",
       "1061  unknown   38  4.000000\n",
       "\n",
       "[1062 rows x 3 columns]"
      ]
     },
     "execution_count": 24,
     "metadata": {},
     "output_type": "execute_result"
    }
   ],
   "source": [
    "age_rating"
   ]
  },
  {
   "cell_type": "code",
   "execution_count": 25,
   "id": "94c03e19-0eee-4f0b-b803-b321c5fa5265",
   "metadata": {
    "tags": []
   },
   "outputs": [],
   "source": [
    "action_genre = age_rating[age_rating['genres'] == 'Action']"
   ]
  },
  {
   "cell_type": "code",
   "execution_count": 26,
   "id": "9ad03d6e-a6ec-48b5-b746-cc9d17167f0b",
   "metadata": {
    "tags": []
   },
   "outputs": [
    {
     "data": {
      "text/html": [
       "<div>\n",
       "<style scoped>\n",
       "    .dataframe tbody tr th:only-of-type {\n",
       "        vertical-align: middle;\n",
       "    }\n",
       "\n",
       "    .dataframe tbody tr th {\n",
       "        vertical-align: top;\n",
       "    }\n",
       "\n",
       "    .dataframe thead th {\n",
       "        text-align: right;\n",
       "    }\n",
       "</style>\n",
       "<table border=\"1\" class=\"dataframe\">\n",
       "  <thead>\n",
       "    <tr style=\"text-align: right;\">\n",
       "      <th></th>\n",
       "      <th>genres</th>\n",
       "      <th>age</th>\n",
       "      <th>rating</th>\n",
       "    </tr>\n",
       "  </thead>\n",
       "  <tbody>\n",
       "    <tr>\n",
       "      <th>0</th>\n",
       "      <td>Action</td>\n",
       "      <td>7</td>\n",
       "      <td>3.611111</td>\n",
       "    </tr>\n",
       "    <tr>\n",
       "      <th>1</th>\n",
       "      <td>Action</td>\n",
       "      <td>10</td>\n",
       "      <td>4.000000</td>\n",
       "    </tr>\n",
       "    <tr>\n",
       "      <th>2</th>\n",
       "      <td>Action</td>\n",
       "      <td>11</td>\n",
       "      <td>3.076923</td>\n",
       "    </tr>\n",
       "    <tr>\n",
       "      <th>3</th>\n",
       "      <td>Action</td>\n",
       "      <td>13</td>\n",
       "      <td>3.493421</td>\n",
       "    </tr>\n",
       "    <tr>\n",
       "      <th>4</th>\n",
       "      <td>Action</td>\n",
       "      <td>14</td>\n",
       "      <td>3.593220</td>\n",
       "    </tr>\n",
       "    <tr>\n",
       "      <th>...</th>\n",
       "      <td>...</td>\n",
       "      <td>...</td>\n",
       "      <td>...</td>\n",
       "    </tr>\n",
       "    <tr>\n",
       "      <th>56</th>\n",
       "      <td>Action</td>\n",
       "      <td>66</td>\n",
       "      <td>3.000000</td>\n",
       "    </tr>\n",
       "    <tr>\n",
       "      <th>57</th>\n",
       "      <td>Action</td>\n",
       "      <td>68</td>\n",
       "      <td>3.166667</td>\n",
       "    </tr>\n",
       "    <tr>\n",
       "      <th>58</th>\n",
       "      <td>Action</td>\n",
       "      <td>69</td>\n",
       "      <td>3.730769</td>\n",
       "    </tr>\n",
       "    <tr>\n",
       "      <th>59</th>\n",
       "      <td>Action</td>\n",
       "      <td>70</td>\n",
       "      <td>3.565217</td>\n",
       "    </tr>\n",
       "    <tr>\n",
       "      <th>60</th>\n",
       "      <td>Action</td>\n",
       "      <td>73</td>\n",
       "      <td>4.000000</td>\n",
       "    </tr>\n",
       "  </tbody>\n",
       "</table>\n",
       "<p>61 rows × 3 columns</p>\n",
       "</div>"
      ],
      "text/plain": [
       "    genres  age    rating\n",
       "0   Action    7  3.611111\n",
       "1   Action   10  4.000000\n",
       "2   Action   11  3.076923\n",
       "3   Action   13  3.493421\n",
       "4   Action   14  3.593220\n",
       "..     ...  ...       ...\n",
       "56  Action   66  3.000000\n",
       "57  Action   68  3.166667\n",
       "58  Action   69  3.730769\n",
       "59  Action   70  3.565217\n",
       "60  Action   73  4.000000\n",
       "\n",
       "[61 rows x 3 columns]"
      ]
     },
     "execution_count": 26,
     "metadata": {},
     "output_type": "execute_result"
    }
   ],
   "source": [
    "action_genre"
   ]
  },
  {
   "cell_type": "code",
   "execution_count": 27,
   "id": "990a033a-dab0-4be8-8d2a-cb7f4fedac24",
   "metadata": {
    "tags": []
   },
   "outputs": [
    {
     "data": {
      "text/html": [
       "\n",
       "<style>\n",
       "  #altair-viz-7b5865e376854919a562466034daf8fc.vega-embed {\n",
       "    width: 100%;\n",
       "    display: flex;\n",
       "  }\n",
       "\n",
       "  #altair-viz-7b5865e376854919a562466034daf8fc.vega-embed details,\n",
       "  #altair-viz-7b5865e376854919a562466034daf8fc.vega-embed details summary {\n",
       "    position: relative;\n",
       "  }\n",
       "</style>\n",
       "<div id=\"altair-viz-7b5865e376854919a562466034daf8fc\"></div>\n",
       "<script type=\"text/javascript\">\n",
       "  var VEGA_DEBUG = (typeof VEGA_DEBUG == \"undefined\") ? {} : VEGA_DEBUG;\n",
       "  (function(spec, embedOpt){\n",
       "    let outputDiv = document.currentScript.previousElementSibling;\n",
       "    if (outputDiv.id !== \"altair-viz-7b5865e376854919a562466034daf8fc\") {\n",
       "      outputDiv = document.getElementById(\"altair-viz-7b5865e376854919a562466034daf8fc\");\n",
       "    }\n",
       "\n",
       "    const paths = {\n",
       "      \"vega\": \"https://cdn.jsdelivr.net/npm/vega@5?noext\",\n",
       "      \"vega-lib\": \"https://cdn.jsdelivr.net/npm/vega-lib?noext\",\n",
       "      \"vega-lite\": \"https://cdn.jsdelivr.net/npm/vega-lite@5.20.1?noext\",\n",
       "      \"vega-embed\": \"https://cdn.jsdelivr.net/npm/vega-embed@6?noext\",\n",
       "    };\n",
       "\n",
       "    function maybeLoadScript(lib, version) {\n",
       "      var key = `${lib.replace(\"-\", \"\")}_version`;\n",
       "      return (VEGA_DEBUG[key] == version) ?\n",
       "        Promise.resolve(paths[lib]) :\n",
       "        new Promise(function(resolve, reject) {\n",
       "          var s = document.createElement('script');\n",
       "          document.getElementsByTagName(\"head\")[0].appendChild(s);\n",
       "          s.async = true;\n",
       "          s.onload = () => {\n",
       "            VEGA_DEBUG[key] = version;\n",
       "            return resolve(paths[lib]);\n",
       "          };\n",
       "          s.onerror = () => reject(`Error loading script: ${paths[lib]}`);\n",
       "          s.src = paths[lib];\n",
       "        });\n",
       "    }\n",
       "\n",
       "    function showError(err) {\n",
       "      outputDiv.innerHTML = `<div class=\"error\" style=\"color:red;\">${err}</div>`;\n",
       "      throw err;\n",
       "    }\n",
       "\n",
       "    function displayChart(vegaEmbed) {\n",
       "      vegaEmbed(outputDiv, spec, embedOpt)\n",
       "        .catch(err => showError(`Javascript Error: ${err.message}<br>This usually means there's a typo in your chart specification. See the javascript console for the full traceback.`));\n",
       "    }\n",
       "\n",
       "    if(typeof define === \"function\" && define.amd) {\n",
       "      requirejs.config({paths});\n",
       "      let deps = [\"vega-embed\"];\n",
       "      require(deps, displayChart, err => showError(`Error loading script: ${err.message}`));\n",
       "    } else {\n",
       "      maybeLoadScript(\"vega\", \"5\")\n",
       "        .then(() => maybeLoadScript(\"vega-lite\", \"5.20.1\"))\n",
       "        .then(() => maybeLoadScript(\"vega-embed\", \"6\"))\n",
       "        .catch(showError)\n",
       "        .then(() => displayChart(vegaEmbed));\n",
       "    }\n",
       "  })({\"config\": {\"view\": {\"continuousWidth\": 300, \"continuousHeight\": 300}}, \"data\": {\"name\": \"data-3a0d7042dad6db500af1757f4aadde23\"}, \"mark\": {\"type\": \"line\", \"point\": true}, \"encoding\": {\"tooltip\": [{\"field\": \"age\", \"type\": \"quantitative\"}, {\"field\": \"rating\", \"type\": \"quantitative\"}], \"x\": {\"field\": \"age\", \"title\": \"Age\", \"type\": \"ordinal\"}, \"y\": {\"field\": \"rating\", \"title\": \"Average Rating\", \"type\": \"quantitative\"}}, \"height\": 200, \"title\": \"Action\", \"width\": 400, \"$schema\": \"https://vega.github.io/schema/vega-lite/v5.20.1.json\", \"datasets\": {\"data-3a0d7042dad6db500af1757f4aadde23\": [{\"genres\": \"Action\", \"age\": 7, \"rating\": 3.611111111111111}, {\"genres\": \"Action\", \"age\": 10, \"rating\": 4.0}, {\"genres\": \"Action\", \"age\": 11, \"rating\": 3.076923076923077}, {\"genres\": \"Action\", \"age\": 13, \"rating\": 3.4934210526315788}, {\"genres\": \"Action\", \"age\": 14, \"rating\": 3.593220338983051}, {\"genres\": \"Action\", \"age\": 15, \"rating\": 3.5}, {\"genres\": \"Action\", \"age\": 16, \"rating\": 3.5217391304347827}, {\"genres\": \"Action\", \"age\": 17, \"rating\": 3.651006711409396}, {\"genres\": \"Action\", \"age\": 18, \"rating\": 3.7417677642980935}, {\"genres\": \"Action\", \"age\": 19, \"rating\": 3.307101727447217}, {\"genres\": \"Action\", \"age\": 20, \"rating\": 3.696747967479675}, {\"genres\": \"Action\", \"age\": 21, \"rating\": 3.4532760472610096}, {\"genres\": \"Action\", \"age\": 22, \"rating\": 3.2726432532347505}, {\"genres\": \"Action\", \"age\": 23, \"rating\": 3.193243243243243}, {\"genres\": \"Action\", \"age\": 24, \"rating\": 3.4625199362041466}, {\"genres\": \"Action\", \"age\": 25, \"rating\": 3.5377952755905513}, {\"genres\": \"Action\", \"age\": 26, \"rating\": 3.243414120126449}, {\"genres\": \"Action\", \"age\": 27, \"rating\": 3.4154676258992804}, {\"genres\": \"Action\", \"age\": 28, \"rating\": 3.4402907580477673}, {\"genres\": \"Action\", \"age\": 29, \"rating\": 3.422773393461105}, {\"genres\": \"Action\", \"age\": 30, \"rating\": 3.348643006263048}, {\"genres\": \"Action\", \"age\": 31, \"rating\": 3.4118518518518517}, {\"genres\": \"Action\", \"age\": 32, \"rating\": 3.5419058553386913}, {\"genres\": \"Action\", \"age\": 33, \"rating\": 3.5898123324396782}, {\"genres\": \"Action\", \"age\": 34, \"rating\": 3.43348623853211}, {\"genres\": \"Action\", \"age\": 35, \"rating\": 3.6348039215686274}, {\"genres\": \"Action\", \"age\": 36, \"rating\": 3.4777397260273974}, {\"genres\": \"Action\", \"age\": 37, \"rating\": 3.5217391304347827}, {\"genres\": \"Action\", \"age\": 38, \"rating\": 3.3326446280991737}, {\"genres\": \"Action\", \"age\": 39, \"rating\": 3.538062283737024}, {\"genres\": \"Action\", \"age\": 40, \"rating\": 3.6895787139689578}, {\"genres\": \"Action\", \"age\": 41, \"rating\": 3.6272401433691757}, {\"genres\": \"Action\", \"age\": 42, \"rating\": 3.282442748091603}, {\"genres\": \"Action\", \"age\": 43, \"rating\": 3.602094240837696}, {\"genres\": \"Action\", \"age\": 44, \"rating\": 3.5636363636363635}, {\"genres\": \"Action\", \"age\": 45, \"rating\": 3.5355450236966823}, {\"genres\": \"Action\", \"age\": 46, \"rating\": 3.7204301075268815}, {\"genres\": \"Action\", \"age\": 47, \"rating\": 3.49009900990099}, {\"genres\": \"Action\", \"age\": 48, \"rating\": 3.3880208333333335}, {\"genres\": \"Action\", \"age\": 49, \"rating\": 3.642172523961661}, {\"genres\": \"Action\", \"age\": 50, \"rating\": 3.5098522167487687}, {\"genres\": \"Action\", \"age\": 51, \"rating\": 3.651252408477842}, {\"genres\": \"Action\", \"age\": 52, \"rating\": 3.6106194690265485}, {\"genres\": \"Action\", \"age\": 53, \"rating\": 3.736}, {\"genres\": \"Action\", \"age\": 54, \"rating\": 3.288135593220339}, {\"genres\": \"Action\", \"age\": 55, \"rating\": 3.7435897435897436}, {\"genres\": \"Action\", \"age\": 56, \"rating\": 3.326530612244898}, {\"genres\": \"Action\", \"age\": 57, \"rating\": 3.6547085201793723}, {\"genres\": \"Action\", \"age\": 58, \"rating\": 3.4923076923076923}, {\"genres\": \"Action\", \"age\": 59, \"rating\": 3.8461538461538463}, {\"genres\": \"Action\", \"age\": 60, \"rating\": 3.5478927203065136}, {\"genres\": \"Action\", \"age\": 61, \"rating\": 3.8225806451612905}, {\"genres\": \"Action\", \"age\": 62, \"rating\": 3.0}, {\"genres\": \"Action\", \"age\": 63, \"rating\": 3.7}, {\"genres\": \"Action\", \"age\": 64, \"rating\": 2.9411764705882355}, {\"genres\": \"Action\", \"age\": 65, \"rating\": 3.5106382978723403}, {\"genres\": \"Action\", \"age\": 66, \"rating\": 3.0}, {\"genres\": \"Action\", \"age\": 68, \"rating\": 3.1666666666666665}, {\"genres\": \"Action\", \"age\": 69, \"rating\": 3.730769230769231}, {\"genres\": \"Action\", \"age\": 70, \"rating\": 3.5652173913043477}, {\"genres\": \"Action\", \"age\": 73, \"rating\": 4.0}]}}, {\"mode\": \"vega-lite\"});\n",
       "</script>"
      ],
      "text/plain": [
       "alt.Chart(...)"
      ]
     },
     "metadata": {},
     "output_type": "display_data"
    },
    {
     "data": {
      "text/html": [
       "\n",
       "<style>\n",
       "  #altair-viz-e191caca8b034d5fafa10b360bb64e89.vega-embed {\n",
       "    width: 100%;\n",
       "    display: flex;\n",
       "  }\n",
       "\n",
       "  #altair-viz-e191caca8b034d5fafa10b360bb64e89.vega-embed details,\n",
       "  #altair-viz-e191caca8b034d5fafa10b360bb64e89.vega-embed details summary {\n",
       "    position: relative;\n",
       "  }\n",
       "</style>\n",
       "<div id=\"altair-viz-e191caca8b034d5fafa10b360bb64e89\"></div>\n",
       "<script type=\"text/javascript\">\n",
       "  var VEGA_DEBUG = (typeof VEGA_DEBUG == \"undefined\") ? {} : VEGA_DEBUG;\n",
       "  (function(spec, embedOpt){\n",
       "    let outputDiv = document.currentScript.previousElementSibling;\n",
       "    if (outputDiv.id !== \"altair-viz-e191caca8b034d5fafa10b360bb64e89\") {\n",
       "      outputDiv = document.getElementById(\"altair-viz-e191caca8b034d5fafa10b360bb64e89\");\n",
       "    }\n",
       "\n",
       "    const paths = {\n",
       "      \"vega\": \"https://cdn.jsdelivr.net/npm/vega@5?noext\",\n",
       "      \"vega-lib\": \"https://cdn.jsdelivr.net/npm/vega-lib?noext\",\n",
       "      \"vega-lite\": \"https://cdn.jsdelivr.net/npm/vega-lite@5.20.1?noext\",\n",
       "      \"vega-embed\": \"https://cdn.jsdelivr.net/npm/vega-embed@6?noext\",\n",
       "    };\n",
       "\n",
       "    function maybeLoadScript(lib, version) {\n",
       "      var key = `${lib.replace(\"-\", \"\")}_version`;\n",
       "      return (VEGA_DEBUG[key] == version) ?\n",
       "        Promise.resolve(paths[lib]) :\n",
       "        new Promise(function(resolve, reject) {\n",
       "          var s = document.createElement('script');\n",
       "          document.getElementsByTagName(\"head\")[0].appendChild(s);\n",
       "          s.async = true;\n",
       "          s.onload = () => {\n",
       "            VEGA_DEBUG[key] = version;\n",
       "            return resolve(paths[lib]);\n",
       "          };\n",
       "          s.onerror = () => reject(`Error loading script: ${paths[lib]}`);\n",
       "          s.src = paths[lib];\n",
       "        });\n",
       "    }\n",
       "\n",
       "    function showError(err) {\n",
       "      outputDiv.innerHTML = `<div class=\"error\" style=\"color:red;\">${err}</div>`;\n",
       "      throw err;\n",
       "    }\n",
       "\n",
       "    function displayChart(vegaEmbed) {\n",
       "      vegaEmbed(outputDiv, spec, embedOpt)\n",
       "        .catch(err => showError(`Javascript Error: ${err.message}<br>This usually means there's a typo in your chart specification. See the javascript console for the full traceback.`));\n",
       "    }\n",
       "\n",
       "    if(typeof define === \"function\" && define.amd) {\n",
       "      requirejs.config({paths});\n",
       "      let deps = [\"vega-embed\"];\n",
       "      require(deps, displayChart, err => showError(`Error loading script: ${err.message}`));\n",
       "    } else {\n",
       "      maybeLoadScript(\"vega\", \"5\")\n",
       "        .then(() => maybeLoadScript(\"vega-lite\", \"5.20.1\"))\n",
       "        .then(() => maybeLoadScript(\"vega-embed\", \"6\"))\n",
       "        .catch(showError)\n",
       "        .then(() => displayChart(vegaEmbed));\n",
       "    }\n",
       "  })({\"config\": {\"view\": {\"continuousWidth\": 300, \"continuousHeight\": 300}}, \"data\": {\"name\": \"data-7b98729339db87001007a7746a83f289\"}, \"mark\": {\"type\": \"line\", \"point\": true}, \"encoding\": {\"tooltip\": [{\"field\": \"age\", \"type\": \"quantitative\"}, {\"field\": \"rating\", \"type\": \"quantitative\"}], \"x\": {\"field\": \"age\", \"title\": \"Age\", \"type\": \"ordinal\"}, \"y\": {\"field\": \"rating\", \"title\": \"Average Rating\", \"type\": \"quantitative\"}}, \"height\": 200, \"title\": \"Adventure\", \"width\": 400, \"$schema\": \"https://vega.github.io/schema/vega-lite/v5.20.1.json\", \"datasets\": {\"data-7b98729339db87001007a7746a83f289\": [{\"genres\": \"Adventure\", \"age\": 7, \"rating\": 3.4285714285714284}, {\"genres\": \"Adventure\", \"age\": 10, \"rating\": 3.857142857142857}, {\"genres\": \"Adventure\", \"age\": 11, \"rating\": 2.625}, {\"genres\": \"Adventure\", \"age\": 13, \"rating\": 3.2714285714285714}, {\"genres\": \"Adventure\", \"age\": 14, \"rating\": 3.8297872340425534}, {\"genres\": \"Adventure\", \"age\": 15, \"rating\": 3.526315789473684}, {\"genres\": \"Adventure\", \"age\": 16, \"rating\": 3.5}, {\"genres\": \"Adventure\", \"age\": 17, \"rating\": 3.68}, {\"genres\": \"Adventure\", \"age\": 18, \"rating\": 3.667682926829268}, {\"genres\": \"Adventure\", \"age\": 19, \"rating\": 3.3128598848368522}, {\"genres\": \"Adventure\", \"age\": 20, \"rating\": 3.733118971061093}, {\"genres\": \"Adventure\", \"age\": 21, \"rating\": 3.44136460554371}, {\"genres\": \"Adventure\", \"age\": 22, \"rating\": 3.259962049335863}, {\"genres\": \"Adventure\", \"age\": 23, \"rating\": 3.261764705882353}, {\"genres\": \"Adventure\", \"age\": 24, \"rating\": 3.4714946070878274}, {\"genres\": \"Adventure\", \"age\": 25, \"rating\": 3.5104477611940297}, {\"genres\": \"Adventure\", \"age\": 26, \"rating\": 3.291404612159329}, {\"genres\": \"Adventure\", \"age\": 27, \"rating\": 3.4358974358974357}, {\"genres\": \"Adventure\", \"age\": 28, \"rating\": 3.530241935483871}, {\"genres\": \"Adventure\", \"age\": 29, \"rating\": 3.511904761904762}, {\"genres\": \"Adventure\", \"age\": 30, \"rating\": 3.379506641366224}, {\"genres\": \"Adventure\", \"age\": 31, \"rating\": 3.398860398860399}, {\"genres\": \"Adventure\", \"age\": 32, \"rating\": 3.5642570281124497}, {\"genres\": \"Adventure\", \"age\": 33, \"rating\": 3.6482758620689655}, {\"genres\": \"Adventure\", \"age\": 34, \"rating\": 3.4}, {\"genres\": \"Adventure\", \"age\": 35, \"rating\": 3.6318082788671022}, {\"genres\": \"Adventure\", \"age\": 36, \"rating\": 3.4910714285714284}, {\"genres\": \"Adventure\", \"age\": 37, \"rating\": 3.658959537572254}, {\"genres\": \"Adventure\", \"age\": 38, \"rating\": 3.3732876712328768}, {\"genres\": \"Adventure\", \"age\": 39, \"rating\": 3.526153846153846}, {\"genres\": \"Adventure\", \"age\": 40, \"rating\": 3.6338983050847458}, {\"genres\": \"Adventure\", \"age\": 41, \"rating\": 3.739884393063584}, {\"genres\": \"Adventure\", \"age\": 42, \"rating\": 3.3448275862068964}, {\"genres\": \"Adventure\", \"age\": 43, \"rating\": 3.645933014354067}, {\"genres\": \"Adventure\", \"age\": 44, \"rating\": 3.5280898876404496}, {\"genres\": \"Adventure\", \"age\": 45, \"rating\": 3.634782608695652}, {\"genres\": \"Adventure\", \"age\": 46, \"rating\": 3.8072289156626504}, {\"genres\": \"Adventure\", \"age\": 47, \"rating\": 3.536723163841808}, {\"genres\": \"Adventure\", \"age\": 48, \"rating\": 3.447004608294931}, {\"genres\": \"Adventure\", \"age\": 49, \"rating\": 3.645348837209302}, {\"genres\": \"Adventure\", \"age\": 50, \"rating\": 3.4585365853658536}, {\"genres\": \"Adventure\", \"age\": 51, \"rating\": 3.6319702602230484}, {\"genres\": \"Adventure\", \"age\": 52, \"rating\": 3.735294117647059}, {\"genres\": \"Adventure\", \"age\": 53, \"rating\": 3.8846153846153846}, {\"genres\": \"Adventure\", \"age\": 54, \"rating\": 3.28125}, {\"genres\": \"Adventure\", \"age\": 55, \"rating\": 3.781609195402299}, {\"genres\": \"Adventure\", \"age\": 56, \"rating\": 3.0344827586206895}, {\"genres\": \"Adventure\", \"age\": 57, \"rating\": 3.672268907563025}, {\"genres\": \"Adventure\", \"age\": 58, \"rating\": 3.6923076923076925}, {\"genres\": \"Adventure\", \"age\": 59, \"rating\": 3.2}, {\"genres\": \"Adventure\", \"age\": 60, \"rating\": 3.608974358974359}, {\"genres\": \"Adventure\", \"age\": 61, \"rating\": 3.8285714285714287}, {\"genres\": \"Adventure\", \"age\": 62, \"rating\": 2.0}, {\"genres\": \"Adventure\", \"age\": 63, \"rating\": 3.3333333333333335}, {\"genres\": \"Adventure\", \"age\": 64, \"rating\": 3.2}, {\"genres\": \"Adventure\", \"age\": 65, \"rating\": 3.3703703703703702}, {\"genres\": \"Adventure\", \"age\": 66, \"rating\": 3.3}, {\"genres\": \"Adventure\", \"age\": 68, \"rating\": 3.2}, {\"genres\": \"Adventure\", \"age\": 69, \"rating\": 3.8181818181818183}, {\"genres\": \"Adventure\", \"age\": 70, \"rating\": 3.5}, {\"genres\": \"Adventure\", \"age\": 73, \"rating\": 4.285714285714286}]}}, {\"mode\": \"vega-lite\"});\n",
       "</script>"
      ],
      "text/plain": [
       "alt.Chart(...)"
      ]
     },
     "metadata": {},
     "output_type": "display_data"
    },
    {
     "data": {
      "text/html": [
       "\n",
       "<style>\n",
       "  #altair-viz-7a90915153de45c99d20375a00a62f61.vega-embed {\n",
       "    width: 100%;\n",
       "    display: flex;\n",
       "  }\n",
       "\n",
       "  #altair-viz-7a90915153de45c99d20375a00a62f61.vega-embed details,\n",
       "  #altair-viz-7a90915153de45c99d20375a00a62f61.vega-embed details summary {\n",
       "    position: relative;\n",
       "  }\n",
       "</style>\n",
       "<div id=\"altair-viz-7a90915153de45c99d20375a00a62f61\"></div>\n",
       "<script type=\"text/javascript\">\n",
       "  var VEGA_DEBUG = (typeof VEGA_DEBUG == \"undefined\") ? {} : VEGA_DEBUG;\n",
       "  (function(spec, embedOpt){\n",
       "    let outputDiv = document.currentScript.previousElementSibling;\n",
       "    if (outputDiv.id !== \"altair-viz-7a90915153de45c99d20375a00a62f61\") {\n",
       "      outputDiv = document.getElementById(\"altair-viz-7a90915153de45c99d20375a00a62f61\");\n",
       "    }\n",
       "\n",
       "    const paths = {\n",
       "      \"vega\": \"https://cdn.jsdelivr.net/npm/vega@5?noext\",\n",
       "      \"vega-lib\": \"https://cdn.jsdelivr.net/npm/vega-lib?noext\",\n",
       "      \"vega-lite\": \"https://cdn.jsdelivr.net/npm/vega-lite@5.20.1?noext\",\n",
       "      \"vega-embed\": \"https://cdn.jsdelivr.net/npm/vega-embed@6?noext\",\n",
       "    };\n",
       "\n",
       "    function maybeLoadScript(lib, version) {\n",
       "      var key = `${lib.replace(\"-\", \"\")}_version`;\n",
       "      return (VEGA_DEBUG[key] == version) ?\n",
       "        Promise.resolve(paths[lib]) :\n",
       "        new Promise(function(resolve, reject) {\n",
       "          var s = document.createElement('script');\n",
       "          document.getElementsByTagName(\"head\")[0].appendChild(s);\n",
       "          s.async = true;\n",
       "          s.onload = () => {\n",
       "            VEGA_DEBUG[key] = version;\n",
       "            return resolve(paths[lib]);\n",
       "          };\n",
       "          s.onerror = () => reject(`Error loading script: ${paths[lib]}`);\n",
       "          s.src = paths[lib];\n",
       "        });\n",
       "    }\n",
       "\n",
       "    function showError(err) {\n",
       "      outputDiv.innerHTML = `<div class=\"error\" style=\"color:red;\">${err}</div>`;\n",
       "      throw err;\n",
       "    }\n",
       "\n",
       "    function displayChart(vegaEmbed) {\n",
       "      vegaEmbed(outputDiv, spec, embedOpt)\n",
       "        .catch(err => showError(`Javascript Error: ${err.message}<br>This usually means there's a typo in your chart specification. See the javascript console for the full traceback.`));\n",
       "    }\n",
       "\n",
       "    if(typeof define === \"function\" && define.amd) {\n",
       "      requirejs.config({paths});\n",
       "      let deps = [\"vega-embed\"];\n",
       "      require(deps, displayChart, err => showError(`Error loading script: ${err.message}`));\n",
       "    } else {\n",
       "      maybeLoadScript(\"vega\", \"5\")\n",
       "        .then(() => maybeLoadScript(\"vega-lite\", \"5.20.1\"))\n",
       "        .then(() => maybeLoadScript(\"vega-embed\", \"6\"))\n",
       "        .catch(showError)\n",
       "        .then(() => displayChart(vegaEmbed));\n",
       "    }\n",
       "  })({\"config\": {\"view\": {\"continuousWidth\": 300, \"continuousHeight\": 300}}, \"data\": {\"name\": \"data-6aebda1831b3539557e1438147143f58\"}, \"mark\": {\"type\": \"line\", \"point\": true}, \"encoding\": {\"tooltip\": [{\"field\": \"age\", \"type\": \"quantitative\"}, {\"field\": \"rating\", \"type\": \"quantitative\"}], \"x\": {\"field\": \"age\", \"title\": \"Age\", \"type\": \"ordinal\"}, \"y\": {\"field\": \"rating\", \"title\": \"Average Rating\", \"type\": \"quantitative\"}}, \"height\": 200, \"title\": \"Animation\", \"width\": 400, \"$schema\": \"https://vega.github.io/schema/vega-lite/v5.20.1.json\", \"datasets\": {\"data-6aebda1831b3539557e1438147143f58\": [{\"genres\": \"Animation\", \"age\": 7, \"rating\": 4.0}, {\"genres\": \"Animation\", \"age\": 10, \"rating\": 2.6875}, {\"genres\": \"Animation\", \"age\": 11, \"rating\": 2.0}, {\"genres\": \"Animation\", \"age\": 13, \"rating\": 3.5294117647058822}, {\"genres\": \"Animation\", \"age\": 14, \"rating\": 4.5}, {\"genres\": \"Animation\", \"age\": 15, \"rating\": 3.6818181818181817}, {\"genres\": \"Animation\", \"age\": 16, \"rating\": 3.25}, {\"genres\": \"Animation\", \"age\": 17, \"rating\": 3.2}, {\"genres\": \"Animation\", \"age\": 18, \"rating\": 3.7264150943396226}, {\"genres\": \"Animation\", \"age\": 19, \"rating\": 3.5454545454545454}, {\"genres\": \"Animation\", \"age\": 20, \"rating\": 3.8980891719745223}, {\"genres\": \"Animation\", \"age\": 21, \"rating\": 3.809090909090909}, {\"genres\": \"Animation\", \"age\": 22, \"rating\": 3.2153846153846155}, {\"genres\": \"Animation\", \"age\": 23, \"rating\": 3.348314606741573}, {\"genres\": \"Animation\", \"age\": 24, \"rating\": 3.5344827586206895}, {\"genres\": \"Animation\", \"age\": 25, \"rating\": 3.566473988439306}, {\"genres\": \"Animation\", \"age\": 26, \"rating\": 3.387596899224806}, {\"genres\": \"Animation\", \"age\": 27, \"rating\": 3.520979020979021}, {\"genres\": \"Animation\", \"age\": 28, \"rating\": 3.8157894736842106}, {\"genres\": \"Animation\", \"age\": 29, \"rating\": 3.455056179775281}, {\"genres\": \"Animation\", \"age\": 30, \"rating\": 3.735483870967742}, {\"genres\": \"Animation\", \"age\": 31, \"rating\": 3.3225806451612905}, {\"genres\": \"Animation\", \"age\": 32, \"rating\": 3.53125}, {\"genres\": \"Animation\", \"age\": 33, \"rating\": 3.811023622047244}, {\"genres\": \"Animation\", \"age\": 34, \"rating\": 4.0}, {\"genres\": \"Animation\", \"age\": 35, \"rating\": 3.7611940298507465}, {\"genres\": \"Animation\", \"age\": 36, \"rating\": 3.413793103448276}, {\"genres\": \"Animation\", \"age\": 37, \"rating\": 3.625}, {\"genres\": \"Animation\", \"age\": 38, \"rating\": 3.4}, {\"genres\": \"Animation\", \"age\": 39, \"rating\": 3.6344086021505375}, {\"genres\": \"Animation\", \"age\": 40, \"rating\": 3.5584415584415585}, {\"genres\": \"Animation\", \"age\": 41, \"rating\": 3.523076923076923}, {\"genres\": \"Animation\", \"age\": 42, \"rating\": 3.260869565217391}, {\"genres\": \"Animation\", \"age\": 43, \"rating\": 3.4634146341463414}, {\"genres\": \"Animation\", \"age\": 44, \"rating\": 3.338235294117647}, {\"genres\": \"Animation\", \"age\": 45, \"rating\": 3.6315789473684212}, {\"genres\": \"Animation\", \"age\": 46, \"rating\": 3.5555555555555554}, {\"genres\": \"Animation\", \"age\": 47, \"rating\": 3.935483870967742}, {\"genres\": \"Animation\", \"age\": 48, \"rating\": 3.759259259259259}, {\"genres\": \"Animation\", \"age\": 49, \"rating\": 2.967741935483871}, {\"genres\": \"Animation\", \"age\": 50, \"rating\": 3.627906976744186}, {\"genres\": \"Animation\", \"age\": 51, \"rating\": 3.5714285714285716}, {\"genres\": \"Animation\", \"age\": 52, \"rating\": 3.8333333333333335}, {\"genres\": \"Animation\", \"age\": 53, \"rating\": 4.071428571428571}, {\"genres\": \"Animation\", \"age\": 54, \"rating\": 3.857142857142857}, {\"genres\": \"Animation\", \"age\": 55, \"rating\": 2.9}, {\"genres\": \"Animation\", \"age\": 56, \"rating\": 2.75}, {\"genres\": \"Animation\", \"age\": 57, \"rating\": 3.9615384615384617}, {\"genres\": \"Animation\", \"age\": 58, \"rating\": 4.222222222222222}, {\"genres\": \"Animation\", \"age\": 59, \"rating\": 4.0}, {\"genres\": \"Animation\", \"age\": 60, \"rating\": 3.6774193548387095}, {\"genres\": \"Animation\", \"age\": 61, \"rating\": 3.7777777777777777}, {\"genres\": \"Animation\", \"age\": 62, \"rating\": 1.0}, {\"genres\": \"Animation\", \"age\": 63, \"rating\": 4.0}, {\"genres\": \"Animation\", \"age\": 65, \"rating\": 3.5}, {\"genres\": \"Animation\", \"age\": 66, \"rating\": 3.0}, {\"genres\": \"Animation\", \"age\": 68, \"rating\": 2.0}, {\"genres\": \"Animation\", \"age\": 70, \"rating\": 4.666666666666667}, {\"genres\": \"Animation\", \"age\": 73, \"rating\": 4.0}]}}, {\"mode\": \"vega-lite\"});\n",
       "</script>"
      ],
      "text/plain": [
       "alt.Chart(...)"
      ]
     },
     "metadata": {},
     "output_type": "display_data"
    },
    {
     "data": {
      "text/html": [
       "\n",
       "<style>\n",
       "  #altair-viz-88a134e2dd934b35a6c6d7365e0f45fc.vega-embed {\n",
       "    width: 100%;\n",
       "    display: flex;\n",
       "  }\n",
       "\n",
       "  #altair-viz-88a134e2dd934b35a6c6d7365e0f45fc.vega-embed details,\n",
       "  #altair-viz-88a134e2dd934b35a6c6d7365e0f45fc.vega-embed details summary {\n",
       "    position: relative;\n",
       "  }\n",
       "</style>\n",
       "<div id=\"altair-viz-88a134e2dd934b35a6c6d7365e0f45fc\"></div>\n",
       "<script type=\"text/javascript\">\n",
       "  var VEGA_DEBUG = (typeof VEGA_DEBUG == \"undefined\") ? {} : VEGA_DEBUG;\n",
       "  (function(spec, embedOpt){\n",
       "    let outputDiv = document.currentScript.previousElementSibling;\n",
       "    if (outputDiv.id !== \"altair-viz-88a134e2dd934b35a6c6d7365e0f45fc\") {\n",
       "      outputDiv = document.getElementById(\"altair-viz-88a134e2dd934b35a6c6d7365e0f45fc\");\n",
       "    }\n",
       "\n",
       "    const paths = {\n",
       "      \"vega\": \"https://cdn.jsdelivr.net/npm/vega@5?noext\",\n",
       "      \"vega-lib\": \"https://cdn.jsdelivr.net/npm/vega-lib?noext\",\n",
       "      \"vega-lite\": \"https://cdn.jsdelivr.net/npm/vega-lite@5.20.1?noext\",\n",
       "      \"vega-embed\": \"https://cdn.jsdelivr.net/npm/vega-embed@6?noext\",\n",
       "    };\n",
       "\n",
       "    function maybeLoadScript(lib, version) {\n",
       "      var key = `${lib.replace(\"-\", \"\")}_version`;\n",
       "      return (VEGA_DEBUG[key] == version) ?\n",
       "        Promise.resolve(paths[lib]) :\n",
       "        new Promise(function(resolve, reject) {\n",
       "          var s = document.createElement('script');\n",
       "          document.getElementsByTagName(\"head\")[0].appendChild(s);\n",
       "          s.async = true;\n",
       "          s.onload = () => {\n",
       "            VEGA_DEBUG[key] = version;\n",
       "            return resolve(paths[lib]);\n",
       "          };\n",
       "          s.onerror = () => reject(`Error loading script: ${paths[lib]}`);\n",
       "          s.src = paths[lib];\n",
       "        });\n",
       "    }\n",
       "\n",
       "    function showError(err) {\n",
       "      outputDiv.innerHTML = `<div class=\"error\" style=\"color:red;\">${err}</div>`;\n",
       "      throw err;\n",
       "    }\n",
       "\n",
       "    function displayChart(vegaEmbed) {\n",
       "      vegaEmbed(outputDiv, spec, embedOpt)\n",
       "        .catch(err => showError(`Javascript Error: ${err.message}<br>This usually means there's a typo in your chart specification. See the javascript console for the full traceback.`));\n",
       "    }\n",
       "\n",
       "    if(typeof define === \"function\" && define.amd) {\n",
       "      requirejs.config({paths});\n",
       "      let deps = [\"vega-embed\"];\n",
       "      require(deps, displayChart, err => showError(`Error loading script: ${err.message}`));\n",
       "    } else {\n",
       "      maybeLoadScript(\"vega\", \"5\")\n",
       "        .then(() => maybeLoadScript(\"vega-lite\", \"5.20.1\"))\n",
       "        .then(() => maybeLoadScript(\"vega-embed\", \"6\"))\n",
       "        .catch(showError)\n",
       "        .then(() => displayChart(vegaEmbed));\n",
       "    }\n",
       "  })({\"config\": {\"view\": {\"continuousWidth\": 300, \"continuousHeight\": 300}}, \"data\": {\"name\": \"data-b855ea5d8ad047f0ac2e41c329b70a81\"}, \"mark\": {\"type\": \"line\", \"point\": true}, \"encoding\": {\"tooltip\": [{\"field\": \"age\", \"type\": \"quantitative\"}, {\"field\": \"rating\", \"type\": \"quantitative\"}], \"x\": {\"field\": \"age\", \"title\": \"Age\", \"type\": \"ordinal\"}, \"y\": {\"field\": \"rating\", \"title\": \"Average Rating\", \"type\": \"quantitative\"}}, \"height\": 200, \"title\": \"Children\", \"width\": 400, \"$schema\": \"https://vega.github.io/schema/vega-lite/v5.20.1.json\", \"datasets\": {\"data-b855ea5d8ad047f0ac2e41c329b70a81\": [{\"genres\": \"Children\", \"age\": 7, \"rating\": 3.8}, {\"genres\": \"Children\", \"age\": 10, \"rating\": 3.3461538461538463}, {\"genres\": \"Children\", \"age\": 11, \"rating\": 2.0}, {\"genres\": \"Children\", \"age\": 13, \"rating\": 2.7954545454545454}, {\"genres\": \"Children\", \"age\": 14, \"rating\": 3.36}, {\"genres\": \"Children\", \"age\": 15, \"rating\": 3.4390243902439024}, {\"genres\": \"Children\", \"age\": 16, \"rating\": 3.142857142857143}, {\"genres\": \"Children\", \"age\": 17, \"rating\": 2.7419354838709675}, {\"genres\": \"Children\", \"age\": 18, \"rating\": 3.527659574468085}, {\"genres\": \"Children\", \"age\": 19, \"rating\": 3.38125}, {\"genres\": \"Children\", \"age\": 20, \"rating\": 3.5714285714285716}, {\"genres\": \"Children\", \"age\": 21, \"rating\": 3.34}, {\"genres\": \"Children\", \"age\": 22, \"rating\": 3.044280442804428}, {\"genres\": \"Children\", \"age\": 23, \"rating\": 3.0}, {\"genres\": \"Children\", \"age\": 24, \"rating\": 3.1827242524916945}, {\"genres\": \"Children\", \"age\": 25, \"rating\": 3.358695652173913}, {\"genres\": \"Children\", \"age\": 26, \"rating\": 3.1074380165289255}, {\"genres\": \"Children\", \"age\": 27, \"rating\": 3.37160751565762}, {\"genres\": \"Children\", \"age\": 28, \"rating\": 3.7325581395348837}, {\"genres\": \"Children\", \"age\": 29, \"rating\": 3.2288732394366195}, {\"genres\": \"Children\", \"age\": 30, \"rating\": 3.34983498349835}, {\"genres\": \"Children\", \"age\": 31, \"rating\": 3.1085714285714285}, {\"genres\": \"Children\", \"age\": 32, \"rating\": 3.507936507936508}, {\"genres\": \"Children\", \"age\": 33, \"rating\": 3.405286343612335}, {\"genres\": \"Children\", \"age\": 34, \"rating\": 3.1272727272727274}, {\"genres\": \"Children\", \"age\": 35, \"rating\": 3.598566308243728}, {\"genres\": \"Children\", \"age\": 36, \"rating\": 3.251366120218579}, {\"genres\": \"Children\", \"age\": 37, \"rating\": 3.887323943661972}, {\"genres\": \"Children\", \"age\": 38, \"rating\": 3.2598870056497176}, {\"genres\": \"Children\", \"age\": 39, \"rating\": 3.3202247191011236}, {\"genres\": \"Children\", \"age\": 40, \"rating\": 3.484978540772532}, {\"genres\": \"Children\", \"age\": 41, \"rating\": 3.5076923076923077}, {\"genres\": \"Children\", \"age\": 42, \"rating\": 3.212962962962963}, {\"genres\": \"Children\", \"age\": 43, \"rating\": 3.3424657534246576}, {\"genres\": \"Children\", \"age\": 44, \"rating\": 3.3174603174603177}, {\"genres\": \"Children\", \"age\": 45, \"rating\": 3.8181818181818183}, {\"genres\": \"Children\", \"age\": 46, \"rating\": 3.550561797752809}, {\"genres\": \"Children\", \"age\": 47, \"rating\": 3.197674418604651}, {\"genres\": \"Children\", \"age\": 48, \"rating\": 3.2547169811320753}, {\"genres\": \"Children\", \"age\": 49, \"rating\": 3.12}, {\"genres\": \"Children\", \"age\": 50, \"rating\": 3.2708333333333335}, {\"genres\": \"Children\", \"age\": 51, \"rating\": 3.5}, {\"genres\": \"Children\", \"age\": 52, \"rating\": 3.7333333333333334}, {\"genres\": \"Children\", \"age\": 53, \"rating\": 3.65625}, {\"genres\": \"Children\", \"age\": 54, \"rating\": 4.090909090909091}, {\"genres\": \"Children\", \"age\": 55, \"rating\": 3.1724137931034484}, {\"genres\": \"Children\", \"age\": 56, \"rating\": 2.875}, {\"genres\": \"Children\", \"age\": 57, \"rating\": 3.7666666666666666}, {\"genres\": \"Children\", \"age\": 58, \"rating\": 3.25}, {\"genres\": \"Children\", \"age\": 59, \"rating\": 3.2}, {\"genres\": \"Children\", \"age\": 60, \"rating\": 3.375}, {\"genres\": \"Children\", \"age\": 61, \"rating\": 3.5454545454545454}, {\"genres\": \"Children\", \"age\": 63, \"rating\": 3.0}, {\"genres\": \"Children\", \"age\": 64, \"rating\": 4.0}, {\"genres\": \"Children\", \"age\": 65, \"rating\": 3.4705882352941178}, {\"genres\": \"Children\", \"age\": 66, \"rating\": 4.0}, {\"genres\": \"Children\", \"age\": 68, \"rating\": 2.5}, {\"genres\": \"Children\", \"age\": 69, \"rating\": 3.0}, {\"genres\": \"Children\", \"age\": 70, \"rating\": 3.0}, {\"genres\": \"Children\", \"age\": 73, \"rating\": 3.6666666666666665}]}}, {\"mode\": \"vega-lite\"});\n",
       "</script>"
      ],
      "text/plain": [
       "alt.Chart(...)"
      ]
     },
     "metadata": {},
     "output_type": "display_data"
    },
    {
     "data": {
      "text/html": [
       "\n",
       "<style>\n",
       "  #altair-viz-144e90f485d14466b6fd0ce6363a2444.vega-embed {\n",
       "    width: 100%;\n",
       "    display: flex;\n",
       "  }\n",
       "\n",
       "  #altair-viz-144e90f485d14466b6fd0ce6363a2444.vega-embed details,\n",
       "  #altair-viz-144e90f485d14466b6fd0ce6363a2444.vega-embed details summary {\n",
       "    position: relative;\n",
       "  }\n",
       "</style>\n",
       "<div id=\"altair-viz-144e90f485d14466b6fd0ce6363a2444\"></div>\n",
       "<script type=\"text/javascript\">\n",
       "  var VEGA_DEBUG = (typeof VEGA_DEBUG == \"undefined\") ? {} : VEGA_DEBUG;\n",
       "  (function(spec, embedOpt){\n",
       "    let outputDiv = document.currentScript.previousElementSibling;\n",
       "    if (outputDiv.id !== \"altair-viz-144e90f485d14466b6fd0ce6363a2444\") {\n",
       "      outputDiv = document.getElementById(\"altair-viz-144e90f485d14466b6fd0ce6363a2444\");\n",
       "    }\n",
       "\n",
       "    const paths = {\n",
       "      \"vega\": \"https://cdn.jsdelivr.net/npm/vega@5?noext\",\n",
       "      \"vega-lib\": \"https://cdn.jsdelivr.net/npm/vega-lib?noext\",\n",
       "      \"vega-lite\": \"https://cdn.jsdelivr.net/npm/vega-lite@5.20.1?noext\",\n",
       "      \"vega-embed\": \"https://cdn.jsdelivr.net/npm/vega-embed@6?noext\",\n",
       "    };\n",
       "\n",
       "    function maybeLoadScript(lib, version) {\n",
       "      var key = `${lib.replace(\"-\", \"\")}_version`;\n",
       "      return (VEGA_DEBUG[key] == version) ?\n",
       "        Promise.resolve(paths[lib]) :\n",
       "        new Promise(function(resolve, reject) {\n",
       "          var s = document.createElement('script');\n",
       "          document.getElementsByTagName(\"head\")[0].appendChild(s);\n",
       "          s.async = true;\n",
       "          s.onload = () => {\n",
       "            VEGA_DEBUG[key] = version;\n",
       "            return resolve(paths[lib]);\n",
       "          };\n",
       "          s.onerror = () => reject(`Error loading script: ${paths[lib]}`);\n",
       "          s.src = paths[lib];\n",
       "        });\n",
       "    }\n",
       "\n",
       "    function showError(err) {\n",
       "      outputDiv.innerHTML = `<div class=\"error\" style=\"color:red;\">${err}</div>`;\n",
       "      throw err;\n",
       "    }\n",
       "\n",
       "    function displayChart(vegaEmbed) {\n",
       "      vegaEmbed(outputDiv, spec, embedOpt)\n",
       "        .catch(err => showError(`Javascript Error: ${err.message}<br>This usually means there's a typo in your chart specification. See the javascript console for the full traceback.`));\n",
       "    }\n",
       "\n",
       "    if(typeof define === \"function\" && define.amd) {\n",
       "      requirejs.config({paths});\n",
       "      let deps = [\"vega-embed\"];\n",
       "      require(deps, displayChart, err => showError(`Error loading script: ${err.message}`));\n",
       "    } else {\n",
       "      maybeLoadScript(\"vega\", \"5\")\n",
       "        .then(() => maybeLoadScript(\"vega-lite\", \"5.20.1\"))\n",
       "        .then(() => maybeLoadScript(\"vega-embed\", \"6\"))\n",
       "        .catch(showError)\n",
       "        .then(() => displayChart(vegaEmbed));\n",
       "    }\n",
       "  })({\"config\": {\"view\": {\"continuousWidth\": 300, \"continuousHeight\": 300}}, \"data\": {\"name\": \"data-20ad42cc715f9a7aecc174a39ed60e0d\"}, \"mark\": {\"type\": \"line\", \"point\": true}, \"encoding\": {\"tooltip\": [{\"field\": \"age\", \"type\": \"quantitative\"}, {\"field\": \"rating\", \"type\": \"quantitative\"}], \"x\": {\"field\": \"age\", \"title\": \"Age\", \"type\": \"ordinal\"}, \"y\": {\"field\": \"rating\", \"title\": \"Average Rating\", \"type\": \"quantitative\"}}, \"height\": 200, \"title\": \"Comedy\", \"width\": 400, \"$schema\": \"https://vega.github.io/schema/vega-lite/v5.20.1.json\", \"datasets\": {\"data-20ad42cc715f9a7aecc174a39ed60e0d\": [{\"genres\": \"Comedy\", \"age\": 7, \"rating\": 3.736842105263158}, {\"genres\": \"Comedy\", \"age\": 10, \"rating\": 4.416666666666667}, {\"genres\": \"Comedy\", \"age\": 11, \"rating\": 2.2857142857142856}, {\"genres\": \"Comedy\", \"age\": 13, \"rating\": 3.1813725490196076}, {\"genres\": \"Comedy\", \"age\": 14, \"rating\": 3.4430379746835444}, {\"genres\": \"Comedy\", \"age\": 15, \"rating\": 2.682242990654206}, {\"genres\": \"Comedy\", \"age\": 16, \"rating\": 3.3451327433628317}, {\"genres\": \"Comedy\", \"age\": 17, \"rating\": 3.0823045267489713}, {\"genres\": \"Comedy\", \"age\": 18, \"rating\": 3.5678092399403876}, {\"genres\": \"Comedy\", \"age\": 19, \"rating\": 3.268835616438356}, {\"genres\": \"Comedy\", \"age\": 20, \"rating\": 3.5047694753577106}, {\"genres\": \"Comedy\", \"age\": 21, \"rating\": 3.265957446808511}, {\"genres\": \"Comedy\", \"age\": 22, \"rating\": 3.19449081803005}, {\"genres\": \"Comedy\", \"age\": 23, \"rating\": 3.175029171528588}, {\"genres\": \"Comedy\", \"age\": 24, \"rating\": 3.4123257520176082}, {\"genres\": \"Comedy\", \"age\": 25, \"rating\": 3.3682906688687035}, {\"genres\": \"Comedy\", \"age\": 26, \"rating\": 3.130391173520562}, {\"genres\": \"Comedy\", \"age\": 27, \"rating\": 3.493339911198816}, {\"genres\": \"Comedy\", \"age\": 28, \"rating\": 3.468122270742358}, {\"genres\": \"Comedy\", \"age\": 29, \"rating\": 3.3013136288998357}, {\"genres\": \"Comedy\", \"age\": 30, \"rating\": 3.3044554455445545}, {\"genres\": \"Comedy\", \"age\": 31, \"rating\": 3.2271016311166876}, {\"genres\": \"Comedy\", \"age\": 32, \"rating\": 3.472636815920398}, {\"genres\": \"Comedy\", \"age\": 33, \"rating\": 3.5505857294994674}, {\"genres\": \"Comedy\", \"age\": 34, \"rating\": 3.264437689969605}, {\"genres\": \"Comedy\", \"age\": 35, \"rating\": 3.5159045725646125}, {\"genres\": \"Comedy\", \"age\": 36, \"rating\": 3.3804195804195802}, {\"genres\": \"Comedy\", \"age\": 37, \"rating\": 3.5482866043613708}, {\"genres\": \"Comedy\", \"age\": 38, \"rating\": 3.394415357766143}, {\"genres\": \"Comedy\", \"age\": 39, \"rating\": 3.516826923076923}, {\"genres\": \"Comedy\", \"age\": 40, \"rating\": 3.3616298811544993}, {\"genres\": \"Comedy\", \"age\": 41, \"rating\": 3.5114503816793894}, {\"genres\": \"Comedy\", \"age\": 42, \"rating\": 3.242152466367713}, {\"genres\": \"Comedy\", \"age\": 43, \"rating\": 3.493181818181818}, {\"genres\": \"Comedy\", \"age\": 44, \"rating\": 3.3585526315789473}, {\"genres\": \"Comedy\", \"age\": 45, \"rating\": 3.6626984126984126}, {\"genres\": \"Comedy\", \"age\": 46, \"rating\": 3.6974522292993632}, {\"genres\": \"Comedy\", \"age\": 47, \"rating\": 3.3384615384615386}, {\"genres\": \"Comedy\", \"age\": 48, \"rating\": 3.3725055432372506}, {\"genres\": \"Comedy\", \"age\": 49, \"rating\": 3.480167014613779}, {\"genres\": \"Comedy\", \"age\": 50, \"rating\": 3.3688663282571913}, {\"genres\": \"Comedy\", \"age\": 51, \"rating\": 3.548507462686567}, {\"genres\": \"Comedy\", \"age\": 52, \"rating\": 3.3701657458563536}, {\"genres\": \"Comedy\", \"age\": 53, \"rating\": 3.770053475935829}, {\"genres\": \"Comedy\", \"age\": 54, \"rating\": 3.1724137931034484}, {\"genres\": \"Comedy\", \"age\": 55, \"rating\": 3.365079365079365}, {\"genres\": \"Comedy\", \"age\": 56, \"rating\": 3.517412935323383}, {\"genres\": \"Comedy\", \"age\": 57, \"rating\": 3.4859437751004014}, {\"genres\": \"Comedy\", \"age\": 58, \"rating\": 3.968421052631579}, {\"genres\": \"Comedy\", \"age\": 59, \"rating\": 3.652173913043478}, {\"genres\": \"Comedy\", \"age\": 60, \"rating\": 3.6420581655480984}, {\"genres\": \"Comedy\", \"age\": 61, \"rating\": 3.5632183908045976}, {\"genres\": \"Comedy\", \"age\": 62, \"rating\": 2.769230769230769}, {\"genres\": \"Comedy\", \"age\": 63, \"rating\": 3.7916666666666665}, {\"genres\": \"Comedy\", \"age\": 64, \"rating\": 3.25}, {\"genres\": \"Comedy\", \"age\": 65, \"rating\": 3.5319148936170213}, {\"genres\": \"Comedy\", \"age\": 66, \"rating\": 3.0}, {\"genres\": \"Comedy\", \"age\": 68, \"rating\": 3.3333333333333335}, {\"genres\": \"Comedy\", \"age\": 69, \"rating\": 3.358974358974359}, {\"genres\": \"Comedy\", \"age\": 70, \"rating\": 3.245614035087719}, {\"genres\": \"Comedy\", \"age\": 73, \"rating\": 3.9615384615384617}]}}, {\"mode\": \"vega-lite\"});\n",
       "</script>"
      ],
      "text/plain": [
       "alt.Chart(...)"
      ]
     },
     "metadata": {},
     "output_type": "display_data"
    }
   ],
   "source": [
    "from IPython.display import display\n",
    "\n",
    "for genre in age_rating['genres'].unique()[:5]: # limited to 5 cause there a lof of them\n",
    "    selected_genre = age_rating[age_rating['genres'] == genre]\n",
    "    chart = (\n",
    "        alt.Chart(selected_genre)\n",
    "        .mark_line(point=True)\n",
    "        .encode(\n",
    "            x=alt.X(\"age:O\", title=\"Age\"),\n",
    "            y=alt.Y(\"rating:Q\", title=\"Average Rating\"),\n",
    "            tooltip=[\"age\", \"rating:Q\"]\n",
    "        )\n",
    "        .properties(\n",
    "            title=genre,\n",
    "            width=400,\n",
    "            height=200\n",
    "        )\n",
    "    )\n",
    "    \n",
    "    display(chart)\n"
   ]
  },
  {
   "cell_type": "markdown",
   "id": "0db06c21-bc25-4535-9a84-eef0946c3ed9",
   "metadata": {},
   "source": [
    "**Plot number of ratings vs mean rating per genre. Is there a correlation between the volume of ratings and mean rating?**"
   ]
  },
  {
   "cell_type": "code",
   "execution_count": 28,
   "id": "06cee56a-fe27-46e1-bc68-27a78e67c973",
   "metadata": {
    "tags": []
   },
   "outputs": [],
   "source": [
    "count_vs_mean = df.groupby('title').agg(\n",
    "     rating_count = (\"rating\",\"count\"),\n",
    "     rating_mean  = (\"rating\",\"mean\")\n",
    ").reset_index()\n",
    "count_vs_mean[\"rating_mean\"] = round(count_vs_mean[\"rating_mean\"],1)"
   ]
  },
  {
   "cell_type": "code",
   "execution_count": 29,
   "id": "9f494837-9588-4f4d-a779-c2f4091e712a",
   "metadata": {
    "tags": []
   },
   "outputs": [
    {
     "data": {
      "text/html": [
       "<div>\n",
       "<style scoped>\n",
       "    .dataframe tbody tr th:only-of-type {\n",
       "        vertical-align: middle;\n",
       "    }\n",
       "\n",
       "    .dataframe tbody tr th {\n",
       "        vertical-align: top;\n",
       "    }\n",
       "\n",
       "    .dataframe thead th {\n",
       "        text-align: right;\n",
       "    }\n",
       "</style>\n",
       "<table border=\"1\" class=\"dataframe\">\n",
       "  <thead>\n",
       "    <tr style=\"text-align: right;\">\n",
       "      <th></th>\n",
       "      <th>title</th>\n",
       "      <th>rating_count</th>\n",
       "      <th>rating_mean</th>\n",
       "    </tr>\n",
       "  </thead>\n",
       "  <tbody>\n",
       "    <tr>\n",
       "      <th>0</th>\n",
       "      <td>'Til There Was You (1997)</td>\n",
       "      <td>18</td>\n",
       "      <td>2.3</td>\n",
       "    </tr>\n",
       "    <tr>\n",
       "      <th>1</th>\n",
       "      <td>1-900 (1994)</td>\n",
       "      <td>5</td>\n",
       "      <td>2.6</td>\n",
       "    </tr>\n",
       "    <tr>\n",
       "      <th>2</th>\n",
       "      <td>101 Dalmatians (1996)</td>\n",
       "      <td>218</td>\n",
       "      <td>2.9</td>\n",
       "    </tr>\n",
       "    <tr>\n",
       "      <th>3</th>\n",
       "      <td>12 Angry Men (1957)</td>\n",
       "      <td>125</td>\n",
       "      <td>4.3</td>\n",
       "    </tr>\n",
       "    <tr>\n",
       "      <th>4</th>\n",
       "      <td>187 (1997)</td>\n",
       "      <td>41</td>\n",
       "      <td>3.0</td>\n",
       "    </tr>\n",
       "    <tr>\n",
       "      <th>...</th>\n",
       "      <td>...</td>\n",
       "      <td>...</td>\n",
       "      <td>...</td>\n",
       "    </tr>\n",
       "    <tr>\n",
       "      <th>1659</th>\n",
       "      <td>Young Guns II (1990)</td>\n",
       "      <td>132</td>\n",
       "      <td>2.8</td>\n",
       "    </tr>\n",
       "    <tr>\n",
       "      <th>1660</th>\n",
       "      <td>Young Poisoner's Handbook, The (1995)</td>\n",
       "      <td>41</td>\n",
       "      <td>3.3</td>\n",
       "    </tr>\n",
       "    <tr>\n",
       "      <th>1661</th>\n",
       "      <td>Zeus and Roxanne (1997)</td>\n",
       "      <td>6</td>\n",
       "      <td>2.2</td>\n",
       "    </tr>\n",
       "    <tr>\n",
       "      <th>1662</th>\n",
       "      <td>unknown</td>\n",
       "      <td>9</td>\n",
       "      <td>3.4</td>\n",
       "    </tr>\n",
       "    <tr>\n",
       "      <th>1663</th>\n",
       "      <td>Á köldum klaka (Cold Fever) (1994)</td>\n",
       "      <td>2</td>\n",
       "      <td>3.0</td>\n",
       "    </tr>\n",
       "  </tbody>\n",
       "</table>\n",
       "<p>1664 rows × 3 columns</p>\n",
       "</div>"
      ],
      "text/plain": [
       "                                      title  rating_count  rating_mean\n",
       "0                 'Til There Was You (1997)            18          2.3\n",
       "1                              1-900 (1994)             5          2.6\n",
       "2                     101 Dalmatians (1996)           218          2.9\n",
       "3                       12 Angry Men (1957)           125          4.3\n",
       "4                                187 (1997)            41          3.0\n",
       "...                                     ...           ...          ...\n",
       "1659                   Young Guns II (1990)           132          2.8\n",
       "1660  Young Poisoner's Handbook, The (1995)            41          3.3\n",
       "1661                Zeus and Roxanne (1997)             6          2.2\n",
       "1662                                unknown             9          3.4\n",
       "1663     Á köldum klaka (Cold Fever) (1994)             2          3.0\n",
       "\n",
       "[1664 rows x 3 columns]"
      ]
     },
     "execution_count": 29,
     "metadata": {},
     "output_type": "execute_result"
    }
   ],
   "source": [
    "count_vs_mean"
   ]
  },
  {
   "cell_type": "code",
   "execution_count": 30,
   "id": "c9aab939-ae28-4d66-94c7-d0a5b1f182a8",
   "metadata": {
    "tags": []
   },
   "outputs": [
    {
     "name": "stdout",
     "output_type": "stream",
     "text": [
      "              rating_count  rating_mean\n",
      "rating_count      1.000000     0.339318\n",
      "rating_mean       0.339318     1.000000\n"
     ]
    }
   ],
   "source": [
    "correlation = count_vs_mean[[\"rating_count\", \"rating_mean\"]].corr()\n",
    "print(correlation)"
   ]
  },
  {
   "cell_type": "markdown",
   "id": "0dbbf2c3-8a93-42ee-941f-52af436cdccc",
   "metadata": {},
   "source": [
    "positive correlation but not very high"
   ]
  },
  {
   "cell_type": "code",
   "execution_count": 31,
   "id": "04716cb1-cd94-4a8a-b6ed-221c2afb9918",
   "metadata": {
    "tags": []
   },
   "outputs": [],
   "source": [
    "dirty_df = pd.read_csv(\"../data/movie_ratings_EC.csv\")"
   ]
  },
  {
   "cell_type": "code",
   "execution_count": 32,
   "id": "522ef06d-5b11-4a33-859a-b0453d12a0e9",
   "metadata": {
    "tags": []
   },
   "outputs": [
    {
     "data": {
      "text/plain": [
       "0                                  Comedy\n",
       "1        Crime|Film-Noir|Mystery|Thriller\n",
       "2                         Children|Comedy\n",
       "3               Drama|Romance|War|Western\n",
       "4                             Crime|Drama\n",
       "                       ...               \n",
       "99995                              Comedy\n",
       "99996                       Comedy|Sci-Fi\n",
       "99997                            Thriller\n",
       "99998                     Children|Comedy\n",
       "99999                             Western\n",
       "Name: genres, Length: 100000, dtype: object"
      ]
     },
     "execution_count": 32,
     "metadata": {},
     "output_type": "execute_result"
    }
   ],
   "source": [
    "dirty_df['genres']"
   ]
  },
  {
   "cell_type": "code",
   "execution_count": 33,
   "id": "5b5daed5-c2e6-4f6a-a646-4d50ff511563",
   "metadata": {
    "tags": []
   },
   "outputs": [],
   "source": [
    "df_exploded = df.explode(\"genres\")\n",
    "#"
   ]
  },
  {
   "cell_type": "code",
   "execution_count": 34,
   "id": "48be68c4-cf96-441d-afd1-31524715962b",
   "metadata": {
    "tags": []
   },
   "outputs": [
    {
     "data": {
      "text/plain": [
       "array(['Comedy', 'Crime', 'Film-Noir', 'Mystery', 'Thriller', 'Children',\n",
       "       'Drama', 'Romance', 'War', 'Western', 'Sci-Fi', 'Action',\n",
       "       'Adventure', 'Musical', 'Documentary', 'Animation', 'Horror',\n",
       "       'Fantasy', 'unknown'], dtype=object)"
      ]
     },
     "execution_count": 34,
     "metadata": {},
     "output_type": "execute_result"
    }
   ],
   "source": [
    "df_exploded['genres'].unique()"
   ]
  },
  {
   "cell_type": "markdown",
   "id": "ed434250-4e91-49fb-ae4b-aa5b8e43ba0b",
   "metadata": {},
   "source": [
    "**WOW**"
   ]
  }
 ],
 "metadata": {
  "kernelspec": {
   "display_name": "Python 3 (ipykernel)",
   "language": "python",
   "name": "python3"
  },
  "language_info": {
   "codemirror_mode": {
    "name": "ipython",
    "version": 3
   },
   "file_extension": ".py",
   "mimetype": "text/x-python",
   "name": "python",
   "nbconvert_exporter": "python",
   "pygments_lexer": "ipython3",
   "version": "3.11.4"
  }
 },
 "nbformat": 4,
 "nbformat_minor": 5
}
