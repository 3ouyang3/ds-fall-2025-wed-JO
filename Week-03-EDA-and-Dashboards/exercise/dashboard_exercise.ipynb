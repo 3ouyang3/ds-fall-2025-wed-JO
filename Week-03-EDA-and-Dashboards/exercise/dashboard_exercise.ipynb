{
 "cells": [
  {
   "cell_type": "code",
   "execution_count": null,
   "id": "bd657171",
   "metadata": {},
   "outputs": [],
   "source": [
    "import pandas as pd\n",
    "import numpy as np\n",
    "import seaborn as sns\n",
    "\n",
    "df=pd.read_csv(\"../data/movie_ratings.csv\")\n",
    "df.head()\n",
    "\n",
    "# print(df.groupby(\"genres\")[\"rating\"].agg([\"mean\"]))\n",
    "\n",
    "df['decade'] = pd.to_numeric(df['decade'], errors='coerce').astype('Int64')"
   ]
  },
  {
   "cell_type": "code",
   "execution_count": null,
   "id": "8c708958",
   "metadata": {},
   "outputs": [],
   "source": [
    "print(df.info())\n",
    "print(df.describe())\n",
    "print(df.head())"
   ]
  },
  {
   "cell_type": "code",
   "execution_count": null,
   "id": "af9d327c",
   "metadata": {},
   "outputs": [],
   "source": [
    "df_genres=df.copy()\n",
    "\n",
    "df_genres['genres'] = df_genres['genres'].str.split('|')\n",
    "df_genres=df_genres.explode('genres')\n",
    "df_genres.head()\n",
    "\n",
    "\n",
    "\n",
    "genre_stats = (\n",
    "    df_genres.groupby('genres')['rating']\n",
    "    .agg(['mean','count'])\n",
    "    .query('count >= 1000')\n",
    "    .sort_values('mean', ascending=False)\n",
    "    .reset_index()\n",
    ")"
   ]
  },
  {
   "cell_type": "code",
   "execution_count": null,
   "id": "797c20ec",
   "metadata": {},
   "outputs": [],
   "source": [
    "chart_1= sns.barplot(\n",
    "    data=genre_stats,\n",
    "    x='mean',\n",
    "    y='genres',\n",
    ")\n",
    "\n",
    "chart_1.set_xlabel(\"Average Rating\")\n",
    "chart_1.set_ylabel(\"Genres\")\n",
    "\n",
    "\n",
    "sns.despine()\n",
    "print(genre_stats.head())"
   ]
  },
  {
   "cell_type": "code",
   "execution_count": null,
   "id": "87d3830f",
   "metadata": {},
   "outputs": [],
   "source": [
    "decade_stats = (\n",
    "    df.groupby('decade')['rating']\n",
    "    .agg(['mean','count'])\n",
    "    .reset_index()\n",
    "    .sort_values('decade')\n",
    ")\n",
    "\n",
    "# Ratings count by decade\n",
    "chart_2 = sns.barplot(data=decade_stats, x='decade', y='count')\n",
    "chart_2.set_xlabel(\"Decade\")\n",
    "chart_2.set_ylabel(\"Count\")"
   ]
  },
  {
   "cell_type": "code",
   "execution_count": null,
   "id": "35a60ce5",
   "metadata": {},
   "outputs": [],
   "source": [
    "chart_3 = sns.lineplot(data=decade_stats, x='decade', y='mean', marker='o')\n",
    "chart_3.set_xlabel(\"Decade\")\n",
    "chart_3.set_ylabel(\"Mean Rating\")"
   ]
  },
  {
   "cell_type": "code",
   "execution_count": null,
   "id": "11ec2656",
   "metadata": {},
   "outputs": [],
   "source": [
    "movie_stats = (\n",
    "    df.groupby(['movie_id', 'title'])['rating']\n",
    "    .agg(mean='mean', count='count')\n",
    "    .query('count >= 350')\n",
    "    .sort_values(['mean', 'count'], ascending=[False, False])\n",
    "    .head(10)\n",
    "    .reset_index()\n",
    ")\n",
    "\n",
    "chart_4 = sns.catplot(\n",
    "    data=movie_stats,\n",
    "    x = 'mean',\n",
    "    y = 'title',\n",
    "    kind = 'bar',\n",
    "    height = 4,\n",
    "    aspect = 2\n",
    ")\n",
    "\n",
    "chart_4.set_axis_labels(\"Average Rating\", \"Movie (Release Year)\")\n",
    "\n",
    "# Add count labels on bars\n",
    "for i, (val, cnt) in enumerate(zip(movie_stats['mean'], movie_stats['count'])):\n",
    "    chart_4.ax.text(val + 0.02, i, f\"{cnt}\", va='center')"
   ]
  }
 ],
 "metadata": {
  "kernelspec": {
   "display_name": "Python 3",
   "language": "python",
   "name": "python3"
  },
  "language_info": {
   "codemirror_mode": {
    "name": "ipython",
    "version": 3
   },
   "file_extension": ".py",
   "mimetype": "text/x-python",
   "name": "python",
   "nbconvert_exporter": "python",
   "pygments_lexer": "ipython3",
   "version": "3.12.1"
  }
 },
 "nbformat": 4,
 "nbformat_minor": 5
}
