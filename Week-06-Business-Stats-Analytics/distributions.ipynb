{
 "cells": [
  {
   "cell_type": "code",
   "execution_count": null,
   "id": "df9e5a67",
   "metadata": {},
   "outputs": [],
   "source": [
    "from IPython.display import Markdown, display\n",
    "import numpy as np\n",
    "import pandas as pd\n",
    "import plotly.express as px"
   ]
  },
  {
   "cell_type": "code",
   "execution_count": null,
   "id": "7d157d55",
   "metadata": {},
   "outputs": [
    {
     "data": {
      "text/html": [
       "<div>\n",
       "<style scoped>\n",
       "    .dataframe tbody tr th:only-of-type {\n",
       "        vertical-align: middle;\n",
       "    }\n",
       "\n",
       "    .dataframe tbody tr th {\n",
       "        vertical-align: top;\n",
       "    }\n",
       "\n",
       "    .dataframe thead th {\n",
       "        text-align: right;\n",
       "    }\n",
       "</style>\n",
       "<table border=\"1\" class=\"dataframe\">\n",
       "  <thead>\n",
       "    <tr style=\"text-align: right;\">\n",
       "      <th></th>\n",
       "      <th>post_id</th>\n",
       "      <th>user_id</th>\n",
       "      <th>post_time</th>\n",
       "      <th>post_hour</th>\n",
       "      <th>post_type</th>\n",
       "      <th>paid_boost</th>\n",
       "      <th>hashtags_count</th>\n",
       "      <th>followers_at_post</th>\n",
       "      <th>views</th>\n",
       "      <th>likes</th>\n",
       "      <th>clicks</th>\n",
       "      <th>comments</th>\n",
       "      <th>shares</th>\n",
       "      <th>watch_time_total_sec</th>\n",
       "      <th>like_rate</th>\n",
       "      <th>click_through_rate</th>\n",
       "      <th>comment_rate</th>\n",
       "      <th>session_time_normal</th>\n",
       "      <th>clicks_binomial</th>\n",
       "    </tr>\n",
       "  </thead>\n",
       "  <tbody>\n",
       "    <tr>\n",
       "      <th>0</th>\n",
       "      <td>1</td>\n",
       "      <td>186</td>\n",
       "      <td>2025-06-12 03:23:46.951695</td>\n",
       "      <td>3</td>\n",
       "      <td>text</td>\n",
       "      <td>0</td>\n",
       "      <td>0</td>\n",
       "      <td>22828</td>\n",
       "      <td>23112</td>\n",
       "      <td>198</td>\n",
       "      <td>96</td>\n",
       "      <td>35</td>\n",
       "      <td>15</td>\n",
       "      <td>10889</td>\n",
       "      <td>0.008567</td>\n",
       "      <td>0.004154</td>\n",
       "      <td>0.001514</td>\n",
       "      <td>32.483571</td>\n",
       "      <td>4</td>\n",
       "    </tr>\n",
       "    <tr>\n",
       "      <th>1</th>\n",
       "      <td>2</td>\n",
       "      <td>273</td>\n",
       "      <td>2025-07-27 10:40:21.951695</td>\n",
       "      <td>10</td>\n",
       "      <td>image</td>\n",
       "      <td>0</td>\n",
       "      <td>5</td>\n",
       "      <td>4459</td>\n",
       "      <td>2893</td>\n",
       "      <td>148</td>\n",
       "      <td>29</td>\n",
       "      <td>5</td>\n",
       "      <td>6</td>\n",
       "      <td>1835</td>\n",
       "      <td>0.051158</td>\n",
       "      <td>0.010024</td>\n",
       "      <td>0.001728</td>\n",
       "      <td>29.308678</td>\n",
       "      <td>6</td>\n",
       "    </tr>\n",
       "    <tr>\n",
       "      <th>2</th>\n",
       "      <td>3</td>\n",
       "      <td>80</td>\n",
       "      <td>2025-08-25 13:23:31.951695</td>\n",
       "      <td>13</td>\n",
       "      <td>video</td>\n",
       "      <td>0</td>\n",
       "      <td>2</td>\n",
       "      <td>3607</td>\n",
       "      <td>5644</td>\n",
       "      <td>285</td>\n",
       "      <td>56</td>\n",
       "      <td>0</td>\n",
       "      <td>17</td>\n",
       "      <td>149281</td>\n",
       "      <td>0.050496</td>\n",
       "      <td>0.009922</td>\n",
       "      <td>0.000000</td>\n",
       "      <td>33.238443</td>\n",
       "      <td>2</td>\n",
       "    </tr>\n",
       "    <tr>\n",
       "      <th>3</th>\n",
       "      <td>4</td>\n",
       "      <td>310</td>\n",
       "      <td>2025-08-16 12:44:40.951695</td>\n",
       "      <td>12</td>\n",
       "      <td>link</td>\n",
       "      <td>0</td>\n",
       "      <td>3</td>\n",
       "      <td>27786</td>\n",
       "      <td>10885</td>\n",
       "      <td>164</td>\n",
       "      <td>135</td>\n",
       "      <td>17</td>\n",
       "      <td>3</td>\n",
       "      <td>1236</td>\n",
       "      <td>0.015067</td>\n",
       "      <td>0.012402</td>\n",
       "      <td>0.001562</td>\n",
       "      <td>37.615149</td>\n",
       "      <td>6</td>\n",
       "    </tr>\n",
       "    <tr>\n",
       "      <th>4</th>\n",
       "      <td>5</td>\n",
       "      <td>131</td>\n",
       "      <td>2025-06-27 09:38:41.951695</td>\n",
       "      <td>9</td>\n",
       "      <td>video</td>\n",
       "      <td>0</td>\n",
       "      <td>4</td>\n",
       "      <td>3328</td>\n",
       "      <td>2974</td>\n",
       "      <td>163</td>\n",
       "      <td>58</td>\n",
       "      <td>0</td>\n",
       "      <td>8</td>\n",
       "      <td>193917</td>\n",
       "      <td>0.054808</td>\n",
       "      <td>0.019502</td>\n",
       "      <td>0.000000</td>\n",
       "      <td>28.829233</td>\n",
       "      <td>3</td>\n",
       "    </tr>\n",
       "  </tbody>\n",
       "</table>\n",
       "</div>"
      ],
      "text/plain": [
       "   post_id  user_id                   post_time  post_hour post_type  \\\n",
       "0        1      186  2025-06-12 03:23:46.951695          3      text   \n",
       "1        2      273  2025-07-27 10:40:21.951695         10     image   \n",
       "2        3       80  2025-08-25 13:23:31.951695         13     video   \n",
       "3        4      310  2025-08-16 12:44:40.951695         12      link   \n",
       "4        5      131  2025-06-27 09:38:41.951695          9     video   \n",
       "\n",
       "   paid_boost  hashtags_count  followers_at_post  views  likes  clicks  \\\n",
       "0           0               0              22828  23112    198      96   \n",
       "1           0               5               4459   2893    148      29   \n",
       "2           0               2               3607   5644    285      56   \n",
       "3           0               3              27786  10885    164     135   \n",
       "4           0               4               3328   2974    163      58   \n",
       "\n",
       "   comments  shares  watch_time_total_sec  like_rate  click_through_rate  \\\n",
       "0        35      15                 10889   0.008567            0.004154   \n",
       "1         5       6                  1835   0.051158            0.010024   \n",
       "2         0      17                149281   0.050496            0.009922   \n",
       "3        17       3                  1236   0.015067            0.012402   \n",
       "4         0       8                193917   0.054808            0.019502   \n",
       "\n",
       "   comment_rate  session_time_normal  clicks_binomial  \n",
       "0      0.001514            32.483571                4  \n",
       "1      0.001728            29.308678                6  \n",
       "2      0.000000            33.238443                2  \n",
       "3      0.001562            37.615149                6  \n",
       "4      0.000000            28.829233                3  "
      ]
     },
     "execution_count": 3,
     "metadata": {},
     "output_type": "execute_result"
    }
   ],
   "source": [
    "df = pd.read_csv('data/social_media_posts.csv')\n",
    "df.head()\n"
   ]
  },
  {
   "cell_type": "code",
   "execution_count": 10,
   "id": "8a3fa3e9",
   "metadata": {},
   "outputs": [
    {
     "data": {
      "application/vnd.plotly.v1+json": {
       "config": {
        "plotlyServerURL": "https://plot.ly"
       },
       "data": [
        {
         "bingroup": "x",
         "hovertemplate": "comments=%{x}<br>count=%{y}<extra></extra>",
         "legendgroup": "",
         "marker": {
          "color": "#00CC96",
          "opacity": 0.5,
          "pattern": {
           "shape": ""
          }
         },
         "name": "",
         "orientation": "v",
         "showlegend": false,
         "type": "histogram",
         "x": {
          "bdata": "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",
          "dtype": "i2"
         },
         "xaxis": "x",
         "yaxis": "y"
        }
       ],
       "layout": {
        "annotations": [
         {
          "showarrow": false,
          "text": "Mean: 13.13",
          "x": 13.131666666666666,
          "xanchor": "left",
          "xref": "x",
          "y": 1,
          "yanchor": "top",
          "yref": "y domain"
         },
         {
          "showarrow": false,
          "text": "Mode: 0.00",
          "x": 0,
          "xanchor": "right",
          "xref": "x",
          "y": 1,
          "yanchor": "top",
          "yref": "y domain"
         },
         {
          "showarrow": false,
          "text": "Median: 0.00",
          "x": 0,
          "xanchor": "right",
          "xref": "x",
          "y": 0,
          "yanchor": "bottom",
          "yref": "y domain"
         }
        ],
        "barmode": "overlay",
        "legend": {
         "tracegroupgap": 0
        },
        "shapes": [
         {
          "line": {
           "color": "cyan",
           "dash": "dash",
           "width": 2
          },
          "type": "line",
          "x0": 13.131666666666666,
          "x1": 13.131666666666666,
          "xref": "x",
          "y0": 0,
          "y1": 1,
          "yref": "y domain"
         },
         {
          "line": {
           "color": "pink",
           "dash": "dash"
          },
          "type": "line",
          "x0": 0,
          "x1": 0,
          "xref": "x",
          "y0": 0,
          "y1": 1,
          "yref": "y domain"
         },
         {
          "line": {
           "color": "yellow",
           "dash": "dash"
          },
          "type": "line",
          "x0": 0,
          "x1": 0,
          "xref": "x",
          "y0": 0,
          "y1": 1,
          "yref": "y domain"
         }
        ],
        "template": {
         "data": {
          "bar": [
           {
            "error_x": {
             "color": "#f2f5fa"
            },
            "error_y": {
             "color": "#f2f5fa"
            },
            "marker": {
             "line": {
              "color": "rgb(17,17,17)",
              "width": 0.5
             },
             "pattern": {
              "fillmode": "overlay",
              "size": 10,
              "solidity": 0.2
             }
            },
            "type": "bar"
           }
          ],
          "barpolar": [
           {
            "marker": {
             "line": {
              "color": "rgb(17,17,17)",
              "width": 0.5
             },
             "pattern": {
              "fillmode": "overlay",
              "size": 10,
              "solidity": 0.2
             }
            },
            "type": "barpolar"
           }
          ],
          "carpet": [
           {
            "aaxis": {
             "endlinecolor": "#A2B1C6",
             "gridcolor": "#506784",
             "linecolor": "#506784",
             "minorgridcolor": "#506784",
             "startlinecolor": "#A2B1C6"
            },
            "baxis": {
             "endlinecolor": "#A2B1C6",
             "gridcolor": "#506784",
             "linecolor": "#506784",
             "minorgridcolor": "#506784",
             "startlinecolor": "#A2B1C6"
            },
            "type": "carpet"
           }
          ],
          "choropleth": [
           {
            "colorbar": {
             "outlinewidth": 0,
             "ticks": ""
            },
            "type": "choropleth"
           }
          ],
          "contour": [
           {
            "colorbar": {
             "outlinewidth": 0,
             "ticks": ""
            },
            "colorscale": [
             [
              0,
              "#0d0887"
             ],
             [
              0.1111111111111111,
              "#46039f"
             ],
             [
              0.2222222222222222,
              "#7201a8"
             ],
             [
              0.3333333333333333,
              "#9c179e"
             ],
             [
              0.4444444444444444,
              "#bd3786"
             ],
             [
              0.5555555555555556,
              "#d8576b"
             ],
             [
              0.6666666666666666,
              "#ed7953"
             ],
             [
              0.7777777777777778,
              "#fb9f3a"
             ],
             [
              0.8888888888888888,
              "#fdca26"
             ],
             [
              1,
              "#f0f921"
             ]
            ],
            "type": "contour"
           }
          ],
          "contourcarpet": [
           {
            "colorbar": {
             "outlinewidth": 0,
             "ticks": ""
            },
            "type": "contourcarpet"
           }
          ],
          "heatmap": [
           {
            "colorbar": {
             "outlinewidth": 0,
             "ticks": ""
            },
            "colorscale": [
             [
              0,
              "#0d0887"
             ],
             [
              0.1111111111111111,
              "#46039f"
             ],
             [
              0.2222222222222222,
              "#7201a8"
             ],
             [
              0.3333333333333333,
              "#9c179e"
             ],
             [
              0.4444444444444444,
              "#bd3786"
             ],
             [
              0.5555555555555556,
              "#d8576b"
             ],
             [
              0.6666666666666666,
              "#ed7953"
             ],
             [
              0.7777777777777778,
              "#fb9f3a"
             ],
             [
              0.8888888888888888,
              "#fdca26"
             ],
             [
              1,
              "#f0f921"
             ]
            ],
            "type": "heatmap"
           }
          ],
          "histogram": [
           {
            "marker": {
             "pattern": {
              "fillmode": "overlay",
              "size": 10,
              "solidity": 0.2
             }
            },
            "type": "histogram"
           }
          ],
          "histogram2d": [
           {
            "colorbar": {
             "outlinewidth": 0,
             "ticks": ""
            },
            "colorscale": [
             [
              0,
              "#0d0887"
             ],
             [
              0.1111111111111111,
              "#46039f"
             ],
             [
              0.2222222222222222,
              "#7201a8"
             ],
             [
              0.3333333333333333,
              "#9c179e"
             ],
             [
              0.4444444444444444,
              "#bd3786"
             ],
             [
              0.5555555555555556,
              "#d8576b"
             ],
             [
              0.6666666666666666,
              "#ed7953"
             ],
             [
              0.7777777777777778,
              "#fb9f3a"
             ],
             [
              0.8888888888888888,
              "#fdca26"
             ],
             [
              1,
              "#f0f921"
             ]
            ],
            "type": "histogram2d"
           }
          ],
          "histogram2dcontour": [
           {
            "colorbar": {
             "outlinewidth": 0,
             "ticks": ""
            },
            "colorscale": [
             [
              0,
              "#0d0887"
             ],
             [
              0.1111111111111111,
              "#46039f"
             ],
             [
              0.2222222222222222,
              "#7201a8"
             ],
             [
              0.3333333333333333,
              "#9c179e"
             ],
             [
              0.4444444444444444,
              "#bd3786"
             ],
             [
              0.5555555555555556,
              "#d8576b"
             ],
             [
              0.6666666666666666,
              "#ed7953"
             ],
             [
              0.7777777777777778,
              "#fb9f3a"
             ],
             [
              0.8888888888888888,
              "#fdca26"
             ],
             [
              1,
              "#f0f921"
             ]
            ],
            "type": "histogram2dcontour"
           }
          ],
          "mesh3d": [
           {
            "colorbar": {
             "outlinewidth": 0,
             "ticks": ""
            },
            "type": "mesh3d"
           }
          ],
          "parcoords": [
           {
            "line": {
             "colorbar": {
              "outlinewidth": 0,
              "ticks": ""
             }
            },
            "type": "parcoords"
           }
          ],
          "pie": [
           {
            "automargin": true,
            "type": "pie"
           }
          ],
          "scatter": [
           {
            "marker": {
             "line": {
              "color": "#283442"
             }
            },
            "type": "scatter"
           }
          ],
          "scatter3d": [
           {
            "line": {
             "colorbar": {
              "outlinewidth": 0,
              "ticks": ""
             }
            },
            "marker": {
             "colorbar": {
              "outlinewidth": 0,
              "ticks": ""
             }
            },
            "type": "scatter3d"
           }
          ],
          "scattercarpet": [
           {
            "marker": {
             "colorbar": {
              "outlinewidth": 0,
              "ticks": ""
             }
            },
            "type": "scattercarpet"
           }
          ],
          "scattergeo": [
           {
            "marker": {
             "colorbar": {
              "outlinewidth": 0,
              "ticks": ""
             }
            },
            "type": "scattergeo"
           }
          ],
          "scattergl": [
           {
            "marker": {
             "line": {
              "color": "#283442"
             }
            },
            "type": "scattergl"
           }
          ],
          "scattermap": [
           {
            "marker": {
             "colorbar": {
              "outlinewidth": 0,
              "ticks": ""
             }
            },
            "type": "scattermap"
           }
          ],
          "scattermapbox": [
           {
            "marker": {
             "colorbar": {
              "outlinewidth": 0,
              "ticks": ""
             }
            },
            "type": "scattermapbox"
           }
          ],
          "scatterpolar": [
           {
            "marker": {
             "colorbar": {
              "outlinewidth": 0,
              "ticks": ""
             }
            },
            "type": "scatterpolar"
           }
          ],
          "scatterpolargl": [
           {
            "marker": {
             "colorbar": {
              "outlinewidth": 0,
              "ticks": ""
             }
            },
            "type": "scatterpolargl"
           }
          ],
          "scatterternary": [
           {
            "marker": {
             "colorbar": {
              "outlinewidth": 0,
              "ticks": ""
             }
            },
            "type": "scatterternary"
           }
          ],
          "surface": [
           {
            "colorbar": {
             "outlinewidth": 0,
             "ticks": ""
            },
            "colorscale": [
             [
              0,
              "#0d0887"
             ],
             [
              0.1111111111111111,
              "#46039f"
             ],
             [
              0.2222222222222222,
              "#7201a8"
             ],
             [
              0.3333333333333333,
              "#9c179e"
             ],
             [
              0.4444444444444444,
              "#bd3786"
             ],
             [
              0.5555555555555556,
              "#d8576b"
             ],
             [
              0.6666666666666666,
              "#ed7953"
             ],
             [
              0.7777777777777778,
              "#fb9f3a"
             ],
             [
              0.8888888888888888,
              "#fdca26"
             ],
             [
              1,
              "#f0f921"
             ]
            ],
            "type": "surface"
           }
          ],
          "table": [
           {
            "cells": {
             "fill": {
              "color": "#506784"
             },
             "line": {
              "color": "rgb(17,17,17)"
             }
            },
            "header": {
             "fill": {
              "color": "#2a3f5f"
             },
             "line": {
              "color": "rgb(17,17,17)"
             }
            },
            "type": "table"
           }
          ]
         },
         "layout": {
          "annotationdefaults": {
           "arrowcolor": "#f2f5fa",
           "arrowhead": 0,
           "arrowwidth": 1
          },
          "autotypenumbers": "strict",
          "coloraxis": {
           "colorbar": {
            "outlinewidth": 0,
            "ticks": ""
           }
          },
          "colorscale": {
           "diverging": [
            [
             0,
             "#8e0152"
            ],
            [
             0.1,
             "#c51b7d"
            ],
            [
             0.2,
             "#de77ae"
            ],
            [
             0.3,
             "#f1b6da"
            ],
            [
             0.4,
             "#fde0ef"
            ],
            [
             0.5,
             "#f7f7f7"
            ],
            [
             0.6,
             "#e6f5d0"
            ],
            [
             0.7,
             "#b8e186"
            ],
            [
             0.8,
             "#7fbc41"
            ],
            [
             0.9,
             "#4d9221"
            ],
            [
             1,
             "#276419"
            ]
           ],
           "sequential": [
            [
             0,
             "#0d0887"
            ],
            [
             0.1111111111111111,
             "#46039f"
            ],
            [
             0.2222222222222222,
             "#7201a8"
            ],
            [
             0.3333333333333333,
             "#9c179e"
            ],
            [
             0.4444444444444444,
             "#bd3786"
            ],
            [
             0.5555555555555556,
             "#d8576b"
            ],
            [
             0.6666666666666666,
             "#ed7953"
            ],
            [
             0.7777777777777778,
             "#fb9f3a"
            ],
            [
             0.8888888888888888,
             "#fdca26"
            ],
            [
             1,
             "#f0f921"
            ]
           ],
           "sequentialminus": [
            [
             0,
             "#0d0887"
            ],
            [
             0.1111111111111111,
             "#46039f"
            ],
            [
             0.2222222222222222,
             "#7201a8"
            ],
            [
             0.3333333333333333,
             "#9c179e"
            ],
            [
             0.4444444444444444,
             "#bd3786"
            ],
            [
             0.5555555555555556,
             "#d8576b"
            ],
            [
             0.6666666666666666,
             "#ed7953"
            ],
            [
             0.7777777777777778,
             "#fb9f3a"
            ],
            [
             0.8888888888888888,
             "#fdca26"
            ],
            [
             1,
             "#f0f921"
            ]
           ]
          },
          "colorway": [
           "#636efa",
           "#EF553B",
           "#00cc96",
           "#ab63fa",
           "#FFA15A",
           "#19d3f3",
           "#FF6692",
           "#B6E880",
           "#FF97FF",
           "#FECB52"
          ],
          "font": {
           "color": "#f2f5fa"
          },
          "geo": {
           "bgcolor": "rgb(17,17,17)",
           "lakecolor": "rgb(17,17,17)",
           "landcolor": "rgb(17,17,17)",
           "showlakes": true,
           "showland": true,
           "subunitcolor": "#506784"
          },
          "hoverlabel": {
           "align": "left"
          },
          "hovermode": "closest",
          "mapbox": {
           "style": "dark"
          },
          "paper_bgcolor": "rgb(17,17,17)",
          "plot_bgcolor": "rgb(17,17,17)",
          "polar": {
           "angularaxis": {
            "gridcolor": "#506784",
            "linecolor": "#506784",
            "ticks": ""
           },
           "bgcolor": "rgb(17,17,17)",
           "radialaxis": {
            "gridcolor": "#506784",
            "linecolor": "#506784",
            "ticks": ""
           }
          },
          "scene": {
           "xaxis": {
            "backgroundcolor": "rgb(17,17,17)",
            "gridcolor": "#506784",
            "gridwidth": 2,
            "linecolor": "#506784",
            "showbackground": true,
            "ticks": "",
            "zerolinecolor": "#C8D4E3"
           },
           "yaxis": {
            "backgroundcolor": "rgb(17,17,17)",
            "gridcolor": "#506784",
            "gridwidth": 2,
            "linecolor": "#506784",
            "showbackground": true,
            "ticks": "",
            "zerolinecolor": "#C8D4E3"
           },
           "zaxis": {
            "backgroundcolor": "rgb(17,17,17)",
            "gridcolor": "#506784",
            "gridwidth": 2,
            "linecolor": "#506784",
            "showbackground": true,
            "ticks": "",
            "zerolinecolor": "#C8D4E3"
           }
          },
          "shapedefaults": {
           "line": {
            "color": "#f2f5fa"
           }
          },
          "sliderdefaults": {
           "bgcolor": "#C8D4E3",
           "bordercolor": "rgb(17,17,17)",
           "borderwidth": 1,
           "tickwidth": 0
          },
          "ternary": {
           "aaxis": {
            "gridcolor": "#506784",
            "linecolor": "#506784",
            "ticks": ""
           },
           "baxis": {
            "gridcolor": "#506784",
            "linecolor": "#506784",
            "ticks": ""
           },
           "bgcolor": "rgb(17,17,17)",
           "caxis": {
            "gridcolor": "#506784",
            "linecolor": "#506784",
            "ticks": ""
           }
          },
          "title": {
           "x": 0.05
          },
          "updatemenudefaults": {
           "bgcolor": "#506784",
           "borderwidth": 0
          },
          "xaxis": {
           "automargin": true,
           "gridcolor": "#283442",
           "linecolor": "#506784",
           "ticks": "",
           "title": {
            "standoff": 15
           },
           "zerolinecolor": "#283442",
           "zerolinewidth": 2
          },
          "yaxis": {
           "automargin": true,
           "gridcolor": "#283442",
           "linecolor": "#506784",
           "ticks": "",
           "title": {
            "standoff": 15
           },
           "zerolinecolor": "#283442",
           "zerolinewidth": 2
          }
         }
        },
        "title": {
         "text": "distribution of comments"
        },
        "xaxis": {
         "anchor": "y",
         "domain": [
          0,
          1
         ],
         "title": {
          "text": "comments"
         }
        },
        "yaxis": {
         "anchor": "x",
         "domain": [
          0,
          1
         ],
         "title": {
          "text": "count"
         }
        }
       }
      }
     },
     "metadata": {},
     "output_type": "display_data"
    },
    {
     "data": {
      "text/markdown": [
       "**comments:** mean=13.13, median=0.00, mode=0. "
      ],
      "text/plain": [
       "<IPython.core.display.Markdown object>"
      ]
     },
     "metadata": {},
     "output_type": "display_data"
    },
    {
     "data": {
      "application/vnd.plotly.v1+json": {
       "config": {
        "plotlyServerURL": "https://plot.ly"
       },
       "data": [
        {
         "bingroup": "x",
         "hovertemplate": "session_time_normal=%{x}<br>count=%{y}<extra></extra>",
         "legendgroup": "",
         "marker": {
          "color": "#00CC96",
          "opacity": 0.5,
          "pattern": {
           "shape": ""
          }
         },
         "name": "",
         "orientation": "v",
         "showlegend": false,
         "type": "histogram",
         "x": {
          "bdata": "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",
          "dtype": "f8"
         },
         "xaxis": "x",
         "yaxis": "y"
        }
       ],
       "layout": {
        "annotations": [
         {
          "showarrow": false,
          "text": "Mean: 30.16",
          "x": 30.160004179379175,
          "xanchor": "left",
          "xref": "x",
          "y": 1,
          "yanchor": "top",
          "yref": "y domain"
         },
         {
          "showarrow": false,
          "text": "Mode: 13.79",
          "x": 13.793663299654638,
          "xanchor": "right",
          "xref": "x",
          "y": 1,
          "yanchor": "top",
          "yref": "y domain"
         },
         {
          "showarrow": false,
          "text": "Median: 30.12",
          "x": 30.12182407732925,
          "xanchor": "right",
          "xref": "x",
          "y": 0,
          "yanchor": "bottom",
          "yref": "y domain"
         }
        ],
        "barmode": "overlay",
        "legend": {
         "tracegroupgap": 0
        },
        "shapes": [
         {
          "line": {
           "color": "cyan",
           "dash": "dash",
           "width": 2
          },
          "type": "line",
          "x0": 30.160004179379175,
          "x1": 30.160004179379175,
          "xref": "x",
          "y0": 0,
          "y1": 1,
          "yref": "y domain"
         },
         {
          "line": {
           "color": "pink",
           "dash": "dash"
          },
          "type": "line",
          "x0": 13.793663299654638,
          "x1": 13.793663299654638,
          "xref": "x",
          "y0": 0,
          "y1": 1,
          "yref": "y domain"
         },
         {
          "line": {
           "color": "yellow",
           "dash": "dash"
          },
          "type": "line",
          "x0": 30.12182407732925,
          "x1": 30.12182407732925,
          "xref": "x",
          "y0": 0,
          "y1": 1,
          "yref": "y domain"
         }
        ],
        "template": {
         "data": {
          "bar": [
           {
            "error_x": {
             "color": "#f2f5fa"
            },
            "error_y": {
             "color": "#f2f5fa"
            },
            "marker": {
             "line": {
              "color": "rgb(17,17,17)",
              "width": 0.5
             },
             "pattern": {
              "fillmode": "overlay",
              "size": 10,
              "solidity": 0.2
             }
            },
            "type": "bar"
           }
          ],
          "barpolar": [
           {
            "marker": {
             "line": {
              "color": "rgb(17,17,17)",
              "width": 0.5
             },
             "pattern": {
              "fillmode": "overlay",
              "size": 10,
              "solidity": 0.2
             }
            },
            "type": "barpolar"
           }
          ],
          "carpet": [
           {
            "aaxis": {
             "endlinecolor": "#A2B1C6",
             "gridcolor": "#506784",
             "linecolor": "#506784",
             "minorgridcolor": "#506784",
             "startlinecolor": "#A2B1C6"
            },
            "baxis": {
             "endlinecolor": "#A2B1C6",
             "gridcolor": "#506784",
             "linecolor": "#506784",
             "minorgridcolor": "#506784",
             "startlinecolor": "#A2B1C6"
            },
            "type": "carpet"
           }
          ],
          "choropleth": [
           {
            "colorbar": {
             "outlinewidth": 0,
             "ticks": ""
            },
            "type": "choropleth"
           }
          ],
          "contour": [
           {
            "colorbar": {
             "outlinewidth": 0,
             "ticks": ""
            },
            "colorscale": [
             [
              0,
              "#0d0887"
             ],
             [
              0.1111111111111111,
              "#46039f"
             ],
             [
              0.2222222222222222,
              "#7201a8"
             ],
             [
              0.3333333333333333,
              "#9c179e"
             ],
             [
              0.4444444444444444,
              "#bd3786"
             ],
             [
              0.5555555555555556,
              "#d8576b"
             ],
             [
              0.6666666666666666,
              "#ed7953"
             ],
             [
              0.7777777777777778,
              "#fb9f3a"
             ],
             [
              0.8888888888888888,
              "#fdca26"
             ],
             [
              1,
              "#f0f921"
             ]
            ],
            "type": "contour"
           }
          ],
          "contourcarpet": [
           {
            "colorbar": {
             "outlinewidth": 0,
             "ticks": ""
            },
            "type": "contourcarpet"
           }
          ],
          "heatmap": [
           {
            "colorbar": {
             "outlinewidth": 0,
             "ticks": ""
            },
            "colorscale": [
             [
              0,
              "#0d0887"
             ],
             [
              0.1111111111111111,
              "#46039f"
             ],
             [
              0.2222222222222222,
              "#7201a8"
             ],
             [
              0.3333333333333333,
              "#9c179e"
             ],
             [
              0.4444444444444444,
              "#bd3786"
             ],
             [
              0.5555555555555556,
              "#d8576b"
             ],
             [
              0.6666666666666666,
              "#ed7953"
             ],
             [
              0.7777777777777778,
              "#fb9f3a"
             ],
             [
              0.8888888888888888,
              "#fdca26"
             ],
             [
              1,
              "#f0f921"
             ]
            ],
            "type": "heatmap"
           }
          ],
          "histogram": [
           {
            "marker": {
             "pattern": {
              "fillmode": "overlay",
              "size": 10,
              "solidity": 0.2
             }
            },
            "type": "histogram"
           }
          ],
          "histogram2d": [
           {
            "colorbar": {
             "outlinewidth": 0,
             "ticks": ""
            },
            "colorscale": [
             [
              0,
              "#0d0887"
             ],
             [
              0.1111111111111111,
              "#46039f"
             ],
             [
              0.2222222222222222,
              "#7201a8"
             ],
             [
              0.3333333333333333,
              "#9c179e"
             ],
             [
              0.4444444444444444,
              "#bd3786"
             ],
             [
              0.5555555555555556,
              "#d8576b"
             ],
             [
              0.6666666666666666,
              "#ed7953"
             ],
             [
              0.7777777777777778,
              "#fb9f3a"
             ],
             [
              0.8888888888888888,
              "#fdca26"
             ],
             [
              1,
              "#f0f921"
             ]
            ],
            "type": "histogram2d"
           }
          ],
          "histogram2dcontour": [
           {
            "colorbar": {
             "outlinewidth": 0,
             "ticks": ""
            },
            "colorscale": [
             [
              0,
              "#0d0887"
             ],
             [
              0.1111111111111111,
              "#46039f"
             ],
             [
              0.2222222222222222,
              "#7201a8"
             ],
             [
              0.3333333333333333,
              "#9c179e"
             ],
             [
              0.4444444444444444,
              "#bd3786"
             ],
             [
              0.5555555555555556,
              "#d8576b"
             ],
             [
              0.6666666666666666,
              "#ed7953"
             ],
             [
              0.7777777777777778,
              "#fb9f3a"
             ],
             [
              0.8888888888888888,
              "#fdca26"
             ],
             [
              1,
              "#f0f921"
             ]
            ],
            "type": "histogram2dcontour"
           }
          ],
          "mesh3d": [
           {
            "colorbar": {
             "outlinewidth": 0,
             "ticks": ""
            },
            "type": "mesh3d"
           }
          ],
          "parcoords": [
           {
            "line": {
             "colorbar": {
              "outlinewidth": 0,
              "ticks": ""
             }
            },
            "type": "parcoords"
           }
          ],
          "pie": [
           {
            "automargin": true,
            "type": "pie"
           }
          ],
          "scatter": [
           {
            "marker": {
             "line": {
              "color": "#283442"
             }
            },
            "type": "scatter"
           }
          ],
          "scatter3d": [
           {
            "line": {
             "colorbar": {
              "outlinewidth": 0,
              "ticks": ""
             }
            },
            "marker": {
             "colorbar": {
              "outlinewidth": 0,
              "ticks": ""
             }
            },
            "type": "scatter3d"
           }
          ],
          "scattercarpet": [
           {
            "marker": {
             "colorbar": {
              "outlinewidth": 0,
              "ticks": ""
             }
            },
            "type": "scattercarpet"
           }
          ],
          "scattergeo": [
           {
            "marker": {
             "colorbar": {
              "outlinewidth": 0,
              "ticks": ""
             }
            },
            "type": "scattergeo"
           }
          ],
          "scattergl": [
           {
            "marker": {
             "line": {
              "color": "#283442"
             }
            },
            "type": "scattergl"
           }
          ],
          "scattermap": [
           {
            "marker": {
             "colorbar": {
              "outlinewidth": 0,
              "ticks": ""
             }
            },
            "type": "scattermap"
           }
          ],
          "scattermapbox": [
           {
            "marker": {
             "colorbar": {
              "outlinewidth": 0,
              "ticks": ""
             }
            },
            "type": "scattermapbox"
           }
          ],
          "scatterpolar": [
           {
            "marker": {
             "colorbar": {
              "outlinewidth": 0,
              "ticks": ""
             }
            },
            "type": "scatterpolar"
           }
          ],
          "scatterpolargl": [
           {
            "marker": {
             "colorbar": {
              "outlinewidth": 0,
              "ticks": ""
             }
            },
            "type": "scatterpolargl"
           }
          ],
          "scatterternary": [
           {
            "marker": {
             "colorbar": {
              "outlinewidth": 0,
              "ticks": ""
             }
            },
            "type": "scatterternary"
           }
          ],
          "surface": [
           {
            "colorbar": {
             "outlinewidth": 0,
             "ticks": ""
            },
            "colorscale": [
             [
              0,
              "#0d0887"
             ],
             [
              0.1111111111111111,
              "#46039f"
             ],
             [
              0.2222222222222222,
              "#7201a8"
             ],
             [
              0.3333333333333333,
              "#9c179e"
             ],
             [
              0.4444444444444444,
              "#bd3786"
             ],
             [
              0.5555555555555556,
              "#d8576b"
             ],
             [
              0.6666666666666666,
              "#ed7953"
             ],
             [
              0.7777777777777778,
              "#fb9f3a"
             ],
             [
              0.8888888888888888,
              "#fdca26"
             ],
             [
              1,
              "#f0f921"
             ]
            ],
            "type": "surface"
           }
          ],
          "table": [
           {
            "cells": {
             "fill": {
              "color": "#506784"
             },
             "line": {
              "color": "rgb(17,17,17)"
             }
            },
            "header": {
             "fill": {
              "color": "#2a3f5f"
             },
             "line": {
              "color": "rgb(17,17,17)"
             }
            },
            "type": "table"
           }
          ]
         },
         "layout": {
          "annotationdefaults": {
           "arrowcolor": "#f2f5fa",
           "arrowhead": 0,
           "arrowwidth": 1
          },
          "autotypenumbers": "strict",
          "coloraxis": {
           "colorbar": {
            "outlinewidth": 0,
            "ticks": ""
           }
          },
          "colorscale": {
           "diverging": [
            [
             0,
             "#8e0152"
            ],
            [
             0.1,
             "#c51b7d"
            ],
            [
             0.2,
             "#de77ae"
            ],
            [
             0.3,
             "#f1b6da"
            ],
            [
             0.4,
             "#fde0ef"
            ],
            [
             0.5,
             "#f7f7f7"
            ],
            [
             0.6,
             "#e6f5d0"
            ],
            [
             0.7,
             "#b8e186"
            ],
            [
             0.8,
             "#7fbc41"
            ],
            [
             0.9,
             "#4d9221"
            ],
            [
             1,
             "#276419"
            ]
           ],
           "sequential": [
            [
             0,
             "#0d0887"
            ],
            [
             0.1111111111111111,
             "#46039f"
            ],
            [
             0.2222222222222222,
             "#7201a8"
            ],
            [
             0.3333333333333333,
             "#9c179e"
            ],
            [
             0.4444444444444444,
             "#bd3786"
            ],
            [
             0.5555555555555556,
             "#d8576b"
            ],
            [
             0.6666666666666666,
             "#ed7953"
            ],
            [
             0.7777777777777778,
             "#fb9f3a"
            ],
            [
             0.8888888888888888,
             "#fdca26"
            ],
            [
             1,
             "#f0f921"
            ]
           ],
           "sequentialminus": [
            [
             0,
             "#0d0887"
            ],
            [
             0.1111111111111111,
             "#46039f"
            ],
            [
             0.2222222222222222,
             "#7201a8"
            ],
            [
             0.3333333333333333,
             "#9c179e"
            ],
            [
             0.4444444444444444,
             "#bd3786"
            ],
            [
             0.5555555555555556,
             "#d8576b"
            ],
            [
             0.6666666666666666,
             "#ed7953"
            ],
            [
             0.7777777777777778,
             "#fb9f3a"
            ],
            [
             0.8888888888888888,
             "#fdca26"
            ],
            [
             1,
             "#f0f921"
            ]
           ]
          },
          "colorway": [
           "#636efa",
           "#EF553B",
           "#00cc96",
           "#ab63fa",
           "#FFA15A",
           "#19d3f3",
           "#FF6692",
           "#B6E880",
           "#FF97FF",
           "#FECB52"
          ],
          "font": {
           "color": "#f2f5fa"
          },
          "geo": {
           "bgcolor": "rgb(17,17,17)",
           "lakecolor": "rgb(17,17,17)",
           "landcolor": "rgb(17,17,17)",
           "showlakes": true,
           "showland": true,
           "subunitcolor": "#506784"
          },
          "hoverlabel": {
           "align": "left"
          },
          "hovermode": "closest",
          "mapbox": {
           "style": "dark"
          },
          "paper_bgcolor": "rgb(17,17,17)",
          "plot_bgcolor": "rgb(17,17,17)",
          "polar": {
           "angularaxis": {
            "gridcolor": "#506784",
            "linecolor": "#506784",
            "ticks": ""
           },
           "bgcolor": "rgb(17,17,17)",
           "radialaxis": {
            "gridcolor": "#506784",
            "linecolor": "#506784",
            "ticks": ""
           }
          },
          "scene": {
           "xaxis": {
            "backgroundcolor": "rgb(17,17,17)",
            "gridcolor": "#506784",
            "gridwidth": 2,
            "linecolor": "#506784",
            "showbackground": true,
            "ticks": "",
            "zerolinecolor": "#C8D4E3"
           },
           "yaxis": {
            "backgroundcolor": "rgb(17,17,17)",
            "gridcolor": "#506784",
            "gridwidth": 2,
            "linecolor": "#506784",
            "showbackground": true,
            "ticks": "",
            "zerolinecolor": "#C8D4E3"
           },
           "zaxis": {
            "backgroundcolor": "rgb(17,17,17)",
            "gridcolor": "#506784",
            "gridwidth": 2,
            "linecolor": "#506784",
            "showbackground": true,
            "ticks": "",
            "zerolinecolor": "#C8D4E3"
           }
          },
          "shapedefaults": {
           "line": {
            "color": "#f2f5fa"
           }
          },
          "sliderdefaults": {
           "bgcolor": "#C8D4E3",
           "bordercolor": "rgb(17,17,17)",
           "borderwidth": 1,
           "tickwidth": 0
          },
          "ternary": {
           "aaxis": {
            "gridcolor": "#506784",
            "linecolor": "#506784",
            "ticks": ""
           },
           "baxis": {
            "gridcolor": "#506784",
            "linecolor": "#506784",
            "ticks": ""
           },
           "bgcolor": "rgb(17,17,17)",
           "caxis": {
            "gridcolor": "#506784",
            "linecolor": "#506784",
            "ticks": ""
           }
          },
          "title": {
           "x": 0.05
          },
          "updatemenudefaults": {
           "bgcolor": "#506784",
           "borderwidth": 0
          },
          "xaxis": {
           "automargin": true,
           "gridcolor": "#283442",
           "linecolor": "#506784",
           "ticks": "",
           "title": {
            "standoff": 15
           },
           "zerolinecolor": "#283442",
           "zerolinewidth": 2
          },
          "yaxis": {
           "automargin": true,
           "gridcolor": "#283442",
           "linecolor": "#506784",
           "ticks": "",
           "title": {
            "standoff": 15
           },
           "zerolinecolor": "#283442",
           "zerolinewidth": 2
          }
         }
        },
        "title": {
         "text": "Distribution of session time (time spent in one session in secods)"
        },
        "xaxis": {
         "anchor": "y",
         "domain": [
          0,
          1
         ],
         "title": {
          "text": "session_time_normal"
         }
        },
        "yaxis": {
         "anchor": "x",
         "domain": [
          0,
          1
         ],
         "title": {
          "text": "count"
         }
        }
       }
      }
     },
     "metadata": {},
     "output_type": "display_data"
    },
    {
     "data": {
      "text/markdown": [
       "**session_time_normal:** mean=30.16, median=30.12, mode=13.793663299654638. "
      ],
      "text/plain": [
       "<IPython.core.display.Markdown object>"
      ]
     },
     "metadata": {},
     "output_type": "display_data"
    },
    {
     "data": {
      "application/vnd.plotly.v1+json": {
       "config": {
        "plotlyServerURL": "https://plot.ly"
       },
       "data": [
        {
         "bingroup": "x",
         "hovertemplate": "clicks_binomial=%{x}<br>count=%{y}<extra></extra>",
         "legendgroup": "",
         "marker": {
          "color": "#00CC96",
          "opacity": 0.5,
          "pattern": {
           "shape": ""
          }
         },
         "name": "",
         "orientation": "v",
         "showlegend": false,
         "type": "histogram",
         "x": {
          "bdata": "BAYCBgMCAQEEAwIDAgMCBAQDAgIEAgIBAwMEAgIEBAMDAgUBBQQDAQMDAgQGAwQBAwEDBQQBAgMDBAQDAgIBAgMEBAEDAgIEAQMCBQMCAwQGAgUFBQMDAwQDBAMEBAEEAwQDAgUCBAMDAgMCAQIABgYDBAIEBAUDBAIHAAMEBAEFAgMCAgMDAgIDBAUBAwEABAMCAgAEBgECBQUDAQEDAwEDAAQCAQMDBgMCBAIFAgMBAwQEAgIEBQEDAgUBAgQBAwMCAwMCAwQEAgECAgMEAQEDBAIDAgUFAgIDAgQEBAQDAgQCBAIBBwIGBgQEAwUCAwMDAwIDBQIFBAQDBAAEAQUHAgIEAgUBAQYEBAIEAwMEAwMCBAIEAgMEAgEBAwQBBAIDBQIDAAECAAMDAwICBAYBBQMDAwEBAwIFAwEEAgMEBQQEBAUCAAICBAMDAAQCBAMCAQEEBQQBAwQEAQAEAgIAAwUGAwMBAwIDAwIBAgECBgMDBQcDBAICAwQEAgEDAQMEBAQFAwQDAgACAwMFAgEGAQMDAwEBAQMDAgMEAQMEAgIDBQQDBAIDAwIEAwIFAAIBBAQCBAMEAwMFAgEDBgIBAgMCBAcDAgMBBQMDBAMDAQQFAwYCAwMDAwIBAwIEAgEDAwUDAgQDAQMFAwIBAgMDAQUEAwQBAwMEBAIFAQUGAgQBAwMDBQQDBAUABgEEAgEDAwIBAwUDAgMBBAQDAgQDBAMEAwMGAwMCAwMCAQMEAwIEAQMCAgIDAQMDAwMEAQMBAQMDBQMGAQEBAgMDAQUEAgECAQEDAgIHBAUBAgMBAAQDAwMDAAICAQYDBAIDAgECBAQDAwUBAgIEBwIFBAIDAwYCBAIEAwMEBAUBBAEDAwMDBwEEAwECBQUFBwICBAMDAgMDAgMDAwIEAAIEAwIEAwQEAwMBAgMDAwIAAwIEAAMFAgMBAwMDAwUCAAUDBQMEAwQFAwICAgICAwMDAwEBAgMCAgMEAAMEBAUAAgUDAwQEBQcEAgUBAgUCAgEFAwQCBAQCAwIGAwUCBAQEBgMBBAQDAgMCAwMEAgMCAgQFAgQFBAIGAgIBAwECAgQFAgUFBAEEBQQCAwMDAQIEBQEFAgQEBAUCBQEEBAQCBQIBBAMEAwIEAwIEAwMDBAQEAQQEBAIFBAEDBQEGBAMCAgUCBAMBAAMGAgICAwMFAwMBBgIBBAMDAwQCBAMDAwIEAwIDBwMFAgECAwIABQQEAgEBBAUDAQMCAgMEAQEHAgECAQMEAgMEAwUFAAQDBgMGBAIDBwUBBAIAAwIEAgQAAgICAQIDAgMCBQUDAgEGAQICAgIEAQMBAQUCBAMBBgIFAgUAAwQFBQQFAgICAgMDAgQCAgMEBAMCAwECAwECBgYCAQIDBQEEAQYCBAIDAgEFBQUDBAECAgMCAQMEAgECAgIDAwQCBAIDBAIBBQIEAAQCAQMCAwEBAgEFAAMBAgUCBgIEAwUDAwICBQICBAIFBAMFAQIDAgQFAwIGAwMCBQMEBAIDBAIEBQMEBAQDAQMEAwQCAwIEAwICBAMCBgQGAwMFAwQCAwECAAEGAgQEAwIEAwQEBgMCAwEFAQIEAwMDBQIFAQQEAgMCBAMDAgIBAgMFBAMGBAUDAgEEAQIDAwMCAgMGBAUEAwIEAwMDAwIDAgQCAQMEAwIDAgUFAwIEAQMCBQADBAMBBgMDAgMDAQEEAgIDBAEDAQEBBAEBAwQCAwEDAwMCAgECAQQGBgUDBAIDAwMEAgIFAQMFAwMCAgUDAwEABgIDAQQFAwEDBAMFAwUDAQICBQQEAgIEAwIDAQIDAQYCAQIEAwMAAQMEBQEDBQMEAQUEBQQCBQICBAQFAgQEAQMCAgYDBAYCBAMFAgUCAgQDAwMEAgECAwICAwEDBQIDBAMEAwMABAQBAgYDAwUEAwQFAwMDBgQBBQMBAwMFAgQDAQYDAgMFAgIBAgQDAgICBQIGAwIFAwQGAQEEAgIBAAQBAwMDAAQABAUDAwMDBQUCAwUGAwMCBgEDAgIDCAEDAQIDAwICAQIGBQIDBQAEBQECBgMAAgMEBAcCAwMDAgYFAwMCAwQDBwMCBAIDAgMEAwQDAgQCAgMCAAMDAwYDBQEDBQMEAgEDAwUCBgYCAgUGAwIDBAIEAQEDAgIDAgICBgMDAwYCBAQDAQQBAwQCBAEEAwIBBgECAgMDAQICAgMEAgIDBgYEAgECAgMEBQQCBAIBBAADAgQEAgQCAwQEBgIEAwUCBAMCAwIDBQMDAwECAwICAwICAwEFBQQBBAQEAQMEAwMDAwEDAQMCAwEEBAIBAQUDAwEDBQQDAQEBAgECAwUDBAQBBAIDAgcCAgUABAQEBgYBBAMDAQQGBQMBAgQEAwEDAwUDAgMBBgIDAgQEBAICAQQBAwUFAwMBBAQCAwQFAgMCAQUEBAEEAwIDAQQDAgICAQMEAAEDBAICAwIABAMDBAQCAgEBBAUGAwIBBAMDBAQEAQQFAgMCBgEDAgQCAgMFAgEEAwUBAwICBAMEAgMDBgICAgMCBQIFAQQFAgYDBQQCAgIBAQEDBAEBAwIBAgUEAgQDBAQDAgEDBQMEBwIEBAYGBAIEAQQFAwMDAwIEBQUCBQQCAQIFAwQCBAACAwEEAgQDAwEABQIECAICBAYFAwQBBgYCAgECBAIBAgYDAwIGBAIBAQEDBQMEAwQEAgIDAQIDBwMEAwQDBQMDAwMBAQAFAgIEAgMCBgUFAwQBAAADAwMAAwQDBAIEAwICAwQDAgUEAwMCAwIHAwMDBQQDBAMDAgMCBQIFAwMDAQIBAwMEAgIDBQQDAwEGBAIDAQYCAwIEBAQDBQECAgYDBAQCAgIDAgAFBgICAAQEAQIEAwEDAgIEBAMFAwQDBQUBBQQEAgQFAgUBAgMDAwAGAQEAAwUEBAADAwMBBAMEAwIDAgUDAgYDAQMCBAQGAwMEAQMDAQMFBQEBAgUBBAEDAgQCAwIEBQEFAwEDAgQEAQMEBQMFAwMEAwMDBAQDAgMDAgQDAgECBQICAwIBAgMDAgMGAgICAwQCBAADBAIDAgQBBQIFAgQCBQECAwECBQYCBQMCBAQGAgQBAQAIBAQDAgICAgQDAQABAwUDBAMCAQUEAgMDAwUDAwEBAgEEBAEEAgICAgIDAwYBAQEDAQQDAwMCAgIDAgEGAAQEAgEBBAMEBQQCAgQCAQQDBQQBBQICAwEDAQMCBAQCAgICBAQCAgEDAQYEAwMFAwICBAMEBQUFAQMEBAMCBAQBAwICAAMDAwQEAgEFAgYEAwYBAgMCBQEDAwQCAgQCBAMEBAIDBQMGAwEDBQIFBQIBBAIEAwMEAgMCAgMEAgMEAgIFBAMDAQMDAwIBAgUDAwEBBAMDAgQCAgMCAgMEBAMBAgYDBAADAQMFBgMDBQQBAwIDAwMCAgMEBAIFBQIBBAQGBQMDAAIDAwMEAgMBAwQEBwIDAgMFBAUCBQEFAgIDBQECBQMCAwMFBAMGAwECAwIFBAIDBAUFAwQDAwEBAwIABAEDAwYDAQMEBwMCBQIDAwECAgQFAgQBAwEFBAQEAwYEBQMBAwEDAwMAAgMFAwMEAwIDAgYBAgACBAIBAwABBAQFBQQBBAQEAwIEBAYCAgIEAgEIAAQCBAMFBQABAgQFAwMCBAYCAwEDAwEDAgMDAAQEAgEEBgICAgMCAgQDAwMDAAEFAQQFAgIDBQUEAQQDAwECBAMCAwUEAgECBQMDAwIEAwEBAwUCBQQCAQEEAgIDBAEDAwMEAgQEAwQDAQQDAwIFAwEDBAQDBQIDBQUEBQEFAgICAwICAQIDAwIEBQQCBAIBAgQCAQEFAwIDAwQCBQIEAAICAwEEAgQEAwQEAgQCAwQCAgMEBQMEBQECBAQFAwEDAgIEAQQDAwECAQYEAwIFAgIDBQACBQIBAwUDBwQBBwMCAwIBAAMEAwgCAgICAgQFBgIFAgEFAwIDAgQDBgECAwMCBAUFBAUDBAIDAgMCBgIBAwEB",
          "dtype": "i1"
         },
         "xaxis": "x",
         "yaxis": "y"
        }
       ],
       "layout": {
        "annotations": [
         {
          "showarrow": false,
          "text": "Mean: 2.98",
          "x": 2.9753333333333334,
          "xanchor": "left",
          "xref": "x",
          "y": 1,
          "yanchor": "top",
          "yref": "y domain"
         },
         {
          "showarrow": false,
          "text": "Mode: 3.00",
          "x": 3,
          "xanchor": "right",
          "xref": "x",
          "y": 1,
          "yanchor": "top",
          "yref": "y domain"
         },
         {
          "showarrow": false,
          "text": "Median: 3.00",
          "x": 3,
          "xanchor": "right",
          "xref": "x",
          "y": 0,
          "yanchor": "bottom",
          "yref": "y domain"
         }
        ],
        "barmode": "overlay",
        "legend": {
         "tracegroupgap": 0
        },
        "shapes": [
         {
          "line": {
           "color": "cyan",
           "dash": "dash",
           "width": 2
          },
          "type": "line",
          "x0": 2.9753333333333334,
          "x1": 2.9753333333333334,
          "xref": "x",
          "y0": 0,
          "y1": 1,
          "yref": "y domain"
         },
         {
          "line": {
           "color": "pink",
           "dash": "dash"
          },
          "type": "line",
          "x0": 3,
          "x1": 3,
          "xref": "x",
          "y0": 0,
          "y1": 1,
          "yref": "y domain"
         },
         {
          "line": {
           "color": "yellow",
           "dash": "dash"
          },
          "type": "line",
          "x0": 3,
          "x1": 3,
          "xref": "x",
          "y0": 0,
          "y1": 1,
          "yref": "y domain"
         }
        ],
        "template": {
         "data": {
          "bar": [
           {
            "error_x": {
             "color": "#f2f5fa"
            },
            "error_y": {
             "color": "#f2f5fa"
            },
            "marker": {
             "line": {
              "color": "rgb(17,17,17)",
              "width": 0.5
             },
             "pattern": {
              "fillmode": "overlay",
              "size": 10,
              "solidity": 0.2
             }
            },
            "type": "bar"
           }
          ],
          "barpolar": [
           {
            "marker": {
             "line": {
              "color": "rgb(17,17,17)",
              "width": 0.5
             },
             "pattern": {
              "fillmode": "overlay",
              "size": 10,
              "solidity": 0.2
             }
            },
            "type": "barpolar"
           }
          ],
          "carpet": [
           {
            "aaxis": {
             "endlinecolor": "#A2B1C6",
             "gridcolor": "#506784",
             "linecolor": "#506784",
             "minorgridcolor": "#506784",
             "startlinecolor": "#A2B1C6"
            },
            "baxis": {
             "endlinecolor": "#A2B1C6",
             "gridcolor": "#506784",
             "linecolor": "#506784",
             "minorgridcolor": "#506784",
             "startlinecolor": "#A2B1C6"
            },
            "type": "carpet"
           }
          ],
          "choropleth": [
           {
            "colorbar": {
             "outlinewidth": 0,
             "ticks": ""
            },
            "type": "choropleth"
           }
          ],
          "contour": [
           {
            "colorbar": {
             "outlinewidth": 0,
             "ticks": ""
            },
            "colorscale": [
             [
              0,
              "#0d0887"
             ],
             [
              0.1111111111111111,
              "#46039f"
             ],
             [
              0.2222222222222222,
              "#7201a8"
             ],
             [
              0.3333333333333333,
              "#9c179e"
             ],
             [
              0.4444444444444444,
              "#bd3786"
             ],
             [
              0.5555555555555556,
              "#d8576b"
             ],
             [
              0.6666666666666666,
              "#ed7953"
             ],
             [
              0.7777777777777778,
              "#fb9f3a"
             ],
             [
              0.8888888888888888,
              "#fdca26"
             ],
             [
              1,
              "#f0f921"
             ]
            ],
            "type": "contour"
           }
          ],
          "contourcarpet": [
           {
            "colorbar": {
             "outlinewidth": 0,
             "ticks": ""
            },
            "type": "contourcarpet"
           }
          ],
          "heatmap": [
           {
            "colorbar": {
             "outlinewidth": 0,
             "ticks": ""
            },
            "colorscale": [
             [
              0,
              "#0d0887"
             ],
             [
              0.1111111111111111,
              "#46039f"
             ],
             [
              0.2222222222222222,
              "#7201a8"
             ],
             [
              0.3333333333333333,
              "#9c179e"
             ],
             [
              0.4444444444444444,
              "#bd3786"
             ],
             [
              0.5555555555555556,
              "#d8576b"
             ],
             [
              0.6666666666666666,
              "#ed7953"
             ],
             [
              0.7777777777777778,
              "#fb9f3a"
             ],
             [
              0.8888888888888888,
              "#fdca26"
             ],
             [
              1,
              "#f0f921"
             ]
            ],
            "type": "heatmap"
           }
          ],
          "histogram": [
           {
            "marker": {
             "pattern": {
              "fillmode": "overlay",
              "size": 10,
              "solidity": 0.2
             }
            },
            "type": "histogram"
           }
          ],
          "histogram2d": [
           {
            "colorbar": {
             "outlinewidth": 0,
             "ticks": ""
            },
            "colorscale": [
             [
              0,
              "#0d0887"
             ],
             [
              0.1111111111111111,
              "#46039f"
             ],
             [
              0.2222222222222222,
              "#7201a8"
             ],
             [
              0.3333333333333333,
              "#9c179e"
             ],
             [
              0.4444444444444444,
              "#bd3786"
             ],
             [
              0.5555555555555556,
              "#d8576b"
             ],
             [
              0.6666666666666666,
              "#ed7953"
             ],
             [
              0.7777777777777778,
              "#fb9f3a"
             ],
             [
              0.8888888888888888,
              "#fdca26"
             ],
             [
              1,
              "#f0f921"
             ]
            ],
            "type": "histogram2d"
           }
          ],
          "histogram2dcontour": [
           {
            "colorbar": {
             "outlinewidth": 0,
             "ticks": ""
            },
            "colorscale": [
             [
              0,
              "#0d0887"
             ],
             [
              0.1111111111111111,
              "#46039f"
             ],
             [
              0.2222222222222222,
              "#7201a8"
             ],
             [
              0.3333333333333333,
              "#9c179e"
             ],
             [
              0.4444444444444444,
              "#bd3786"
             ],
             [
              0.5555555555555556,
              "#d8576b"
             ],
             [
              0.6666666666666666,
              "#ed7953"
             ],
             [
              0.7777777777777778,
              "#fb9f3a"
             ],
             [
              0.8888888888888888,
              "#fdca26"
             ],
             [
              1,
              "#f0f921"
             ]
            ],
            "type": "histogram2dcontour"
           }
          ],
          "mesh3d": [
           {
            "colorbar": {
             "outlinewidth": 0,
             "ticks": ""
            },
            "type": "mesh3d"
           }
          ],
          "parcoords": [
           {
            "line": {
             "colorbar": {
              "outlinewidth": 0,
              "ticks": ""
             }
            },
            "type": "parcoords"
           }
          ],
          "pie": [
           {
            "automargin": true,
            "type": "pie"
           }
          ],
          "scatter": [
           {
            "marker": {
             "line": {
              "color": "#283442"
             }
            },
            "type": "scatter"
           }
          ],
          "scatter3d": [
           {
            "line": {
             "colorbar": {
              "outlinewidth": 0,
              "ticks": ""
             }
            },
            "marker": {
             "colorbar": {
              "outlinewidth": 0,
              "ticks": ""
             }
            },
            "type": "scatter3d"
           }
          ],
          "scattercarpet": [
           {
            "marker": {
             "colorbar": {
              "outlinewidth": 0,
              "ticks": ""
             }
            },
            "type": "scattercarpet"
           }
          ],
          "scattergeo": [
           {
            "marker": {
             "colorbar": {
              "outlinewidth": 0,
              "ticks": ""
             }
            },
            "type": "scattergeo"
           }
          ],
          "scattergl": [
           {
            "marker": {
             "line": {
              "color": "#283442"
             }
            },
            "type": "scattergl"
           }
          ],
          "scattermap": [
           {
            "marker": {
             "colorbar": {
              "outlinewidth": 0,
              "ticks": ""
             }
            },
            "type": "scattermap"
           }
          ],
          "scattermapbox": [
           {
            "marker": {
             "colorbar": {
              "outlinewidth": 0,
              "ticks": ""
             }
            },
            "type": "scattermapbox"
           }
          ],
          "scatterpolar": [
           {
            "marker": {
             "colorbar": {
              "outlinewidth": 0,
              "ticks": ""
             }
            },
            "type": "scatterpolar"
           }
          ],
          "scatterpolargl": [
           {
            "marker": {
             "colorbar": {
              "outlinewidth": 0,
              "ticks": ""
             }
            },
            "type": "scatterpolargl"
           }
          ],
          "scatterternary": [
           {
            "marker": {
             "colorbar": {
              "outlinewidth": 0,
              "ticks": ""
             }
            },
            "type": "scatterternary"
           }
          ],
          "surface": [
           {
            "colorbar": {
             "outlinewidth": 0,
             "ticks": ""
            },
            "colorscale": [
             [
              0,
              "#0d0887"
             ],
             [
              0.1111111111111111,
              "#46039f"
             ],
             [
              0.2222222222222222,
              "#7201a8"
             ],
             [
              0.3333333333333333,
              "#9c179e"
             ],
             [
              0.4444444444444444,
              "#bd3786"
             ],
             [
              0.5555555555555556,
              "#d8576b"
             ],
             [
              0.6666666666666666,
              "#ed7953"
             ],
             [
              0.7777777777777778,
              "#fb9f3a"
             ],
             [
              0.8888888888888888,
              "#fdca26"
             ],
             [
              1,
              "#f0f921"
             ]
            ],
            "type": "surface"
           }
          ],
          "table": [
           {
            "cells": {
             "fill": {
              "color": "#506784"
             },
             "line": {
              "color": "rgb(17,17,17)"
             }
            },
            "header": {
             "fill": {
              "color": "#2a3f5f"
             },
             "line": {
              "color": "rgb(17,17,17)"
             }
            },
            "type": "table"
           }
          ]
         },
         "layout": {
          "annotationdefaults": {
           "arrowcolor": "#f2f5fa",
           "arrowhead": 0,
           "arrowwidth": 1
          },
          "autotypenumbers": "strict",
          "coloraxis": {
           "colorbar": {
            "outlinewidth": 0,
            "ticks": ""
           }
          },
          "colorscale": {
           "diverging": [
            [
             0,
             "#8e0152"
            ],
            [
             0.1,
             "#c51b7d"
            ],
            [
             0.2,
             "#de77ae"
            ],
            [
             0.3,
             "#f1b6da"
            ],
            [
             0.4,
             "#fde0ef"
            ],
            [
             0.5,
             "#f7f7f7"
            ],
            [
             0.6,
             "#e6f5d0"
            ],
            [
             0.7,
             "#b8e186"
            ],
            [
             0.8,
             "#7fbc41"
            ],
            [
             0.9,
             "#4d9221"
            ],
            [
             1,
             "#276419"
            ]
           ],
           "sequential": [
            [
             0,
             "#0d0887"
            ],
            [
             0.1111111111111111,
             "#46039f"
            ],
            [
             0.2222222222222222,
             "#7201a8"
            ],
            [
             0.3333333333333333,
             "#9c179e"
            ],
            [
             0.4444444444444444,
             "#bd3786"
            ],
            [
             0.5555555555555556,
             "#d8576b"
            ],
            [
             0.6666666666666666,
             "#ed7953"
            ],
            [
             0.7777777777777778,
             "#fb9f3a"
            ],
            [
             0.8888888888888888,
             "#fdca26"
            ],
            [
             1,
             "#f0f921"
            ]
           ],
           "sequentialminus": [
            [
             0,
             "#0d0887"
            ],
            [
             0.1111111111111111,
             "#46039f"
            ],
            [
             0.2222222222222222,
             "#7201a8"
            ],
            [
             0.3333333333333333,
             "#9c179e"
            ],
            [
             0.4444444444444444,
             "#bd3786"
            ],
            [
             0.5555555555555556,
             "#d8576b"
            ],
            [
             0.6666666666666666,
             "#ed7953"
            ],
            [
             0.7777777777777778,
             "#fb9f3a"
            ],
            [
             0.8888888888888888,
             "#fdca26"
            ],
            [
             1,
             "#f0f921"
            ]
           ]
          },
          "colorway": [
           "#636efa",
           "#EF553B",
           "#00cc96",
           "#ab63fa",
           "#FFA15A",
           "#19d3f3",
           "#FF6692",
           "#B6E880",
           "#FF97FF",
           "#FECB52"
          ],
          "font": {
           "color": "#f2f5fa"
          },
          "geo": {
           "bgcolor": "rgb(17,17,17)",
           "lakecolor": "rgb(17,17,17)",
           "landcolor": "rgb(17,17,17)",
           "showlakes": true,
           "showland": true,
           "subunitcolor": "#506784"
          },
          "hoverlabel": {
           "align": "left"
          },
          "hovermode": "closest",
          "mapbox": {
           "style": "dark"
          },
          "paper_bgcolor": "rgb(17,17,17)",
          "plot_bgcolor": "rgb(17,17,17)",
          "polar": {
           "angularaxis": {
            "gridcolor": "#506784",
            "linecolor": "#506784",
            "ticks": ""
           },
           "bgcolor": "rgb(17,17,17)",
           "radialaxis": {
            "gridcolor": "#506784",
            "linecolor": "#506784",
            "ticks": ""
           }
          },
          "scene": {
           "xaxis": {
            "backgroundcolor": "rgb(17,17,17)",
            "gridcolor": "#506784",
            "gridwidth": 2,
            "linecolor": "#506784",
            "showbackground": true,
            "ticks": "",
            "zerolinecolor": "#C8D4E3"
           },
           "yaxis": {
            "backgroundcolor": "rgb(17,17,17)",
            "gridcolor": "#506784",
            "gridwidth": 2,
            "linecolor": "#506784",
            "showbackground": true,
            "ticks": "",
            "zerolinecolor": "#C8D4E3"
           },
           "zaxis": {
            "backgroundcolor": "rgb(17,17,17)",
            "gridcolor": "#506784",
            "gridwidth": 2,
            "linecolor": "#506784",
            "showbackground": true,
            "ticks": "",
            "zerolinecolor": "#C8D4E3"
           }
          },
          "shapedefaults": {
           "line": {
            "color": "#f2f5fa"
           }
          },
          "sliderdefaults": {
           "bgcolor": "#C8D4E3",
           "bordercolor": "rgb(17,17,17)",
           "borderwidth": 1,
           "tickwidth": 0
          },
          "ternary": {
           "aaxis": {
            "gridcolor": "#506784",
            "linecolor": "#506784",
            "ticks": ""
           },
           "baxis": {
            "gridcolor": "#506784",
            "linecolor": "#506784",
            "ticks": ""
           },
           "bgcolor": "rgb(17,17,17)",
           "caxis": {
            "gridcolor": "#506784",
            "linecolor": "#506784",
            "ticks": ""
           }
          },
          "title": {
           "x": 0.05
          },
          "updatemenudefaults": {
           "bgcolor": "#506784",
           "borderwidth": 0
          },
          "xaxis": {
           "automargin": true,
           "gridcolor": "#283442",
           "linecolor": "#506784",
           "ticks": "",
           "title": {
            "standoff": 15
           },
           "zerolinecolor": "#283442",
           "zerolinewidth": 2
          },
          "yaxis": {
           "automargin": true,
           "gridcolor": "#283442",
           "linecolor": "#506784",
           "ticks": "",
           "title": {
            "standoff": 15
           },
           "zerolinecolor": "#283442",
           "zerolinewidth": 2
          }
         }
        },
        "title": {
         "text": "Probabily of N Clicks (out of 10 Views)"
        },
        "xaxis": {
         "anchor": "y",
         "domain": [
          0,
          1
         ],
         "title": {
          "text": "clicks_binomial"
         }
        },
        "yaxis": {
         "anchor": "x",
         "domain": [
          0,
          1
         ],
         "title": {
          "text": "count"
         }
        }
       }
      }
     },
     "metadata": {},
     "output_type": "display_data"
    },
    {
     "data": {
      "text/markdown": [
       "**clicks_binomial:** mean=2.98, median=3.00, mode=3. "
      ],
      "text/plain": [
       "<IPython.core.display.Markdown object>"
      ]
     },
     "metadata": {},
     "output_type": "display_data"
    }
   ],
   "source": [
    "def plot_histos(df, column='likes', title='title'):\n",
    "    df = df.dropna(subset=column)\n",
    "    mean_val = df[column].mean()\n",
    "    mode_val = df[column].mode()[0]\n",
    "    median_val = df[column].median()\n",
    "\n",
    "    fig = px.histogram(df, x=column, template='plotly_dark', color_discrete_sequence=['#00CC96'], \n",
    "                       barmode='overlay',\n",
    "                       title=title)\n",
    "\n",
    "\n",
    "    fig.add_vline(x=mean_val, line_width=2, line_dash=\"dash\", line_color=\"cyan\",\n",
    "                    annotation_text=f\"Mean: {mean_val:.2f}\", annotation_position=\"top right\")\n",
    "        \n",
    "\n",
    "    fig.add_vline(x=mode_val, line_dash=\"dash\", line_color=\"pink\",\n",
    "                    annotation_text=f\"Mode: {mode_val:.2f}\", annotation_position=\"top left\")\n",
    "        \n",
    "\n",
    "    fig.add_vline(x=median_val, line_dash=\"dash\", line_color=\"yellow\", \n",
    "                    annotation_text=f\"Median: {median_val:.2f}\", annotation_position=\"bottom left\")\n",
    "    fig.show()\n",
    "    display(Markdown(f\"**{column}:** mean={mean_val:.2f}, median={median_val:.2f}, mode={mode_val}. \"))\n",
    "\n",
    "plot_histos(df, 'comments', title='distribution of comments')\n",
    "plot_histos(df, 'session_time_normal', title='Distribution of session time (time spent in one session in secods)')\n",
    "plot_histos(df, 'clicks_binomial', title='Probabily of N Clicks (out of 10 Views)')"
   ]
  },
  {
   "cell_type": "markdown",
   "id": "2a6700b9",
   "metadata": {},
   "source": [
    "## Teaching Notes — Comparing Shapes & Talking to PMs\n",
    "\n",
    "| Distribution | Typical Shape | Story You’re Telling | PM-friendly Description | Reporting Tip |\n",
    "|--------------|----------------|----------------------|-------------------------|---------------|\n",
    "| **Poisson-like (Comments)** | Right-skewed, many lows, few highs | Most posts get few comments; rare spikes | “Most posts are quiet; a few go semi-viral.” | Use **median/IQR**, percentiles; avoid just the mean |\n",
    "| **Normal (Session Time)** | Bell-shaped, symmetric | Users cluster around a typical usage | “Like commute times — most near the average.” | Mean & SD are fine; median ~ mean |\n",
    "| **Binomial (Clicks out of 10, p=0.3)** | Discrete, skewed right when p<0.5 | Successes out of fixed tries | “10 chances; about 3 successes on average.” | Show **proportions with CIs**; aggregates over many trials |\n",
    "\n",
    "**Skew rule of thumb:**  \n",
    "Right-skewed data tends to have **mean > median > mode**; left-skewed tends to have **mean < median < mode**.  \n",
    "When skewed, prefer **medians/percentiles** for summaries.\n",
    "\n",
    "**Mode caution:** For continuous data, the exact “mode” often isn’t meaningful.\n",
    "We estimate it by the **densest histogram bin** and label it as an approximation.\n",
    "If you’d prefer **KDE-based** mode, say the word and I’ll switch the estimator."
   ]
  },
  {
   "cell_type": "code",
   "execution_count": null,
   "id": "b1fbf606",
   "metadata": {},
   "outputs": [],
   "source": []
  },
  {
   "cell_type": "code",
   "execution_count": null,
   "id": "b0163893",
   "metadata": {},
   "outputs": [],
   "source": []
  }
 ],
 "metadata": {
  "kernelspec": {
   "display_name": "Python 3",
   "language": "python",
   "name": "python3"
  },
  "language_info": {
   "codemirror_mode": {
    "name": "ipython",
    "version": 3
   },
   "file_extension": ".py",
   "mimetype": "text/x-python",
   "name": "python",
   "nbconvert_exporter": "python",
   "pygments_lexer": "ipython3",
   "version": "3.13.7"
  }
 },
 "nbformat": 4,
 "nbformat_minor": 5
}
