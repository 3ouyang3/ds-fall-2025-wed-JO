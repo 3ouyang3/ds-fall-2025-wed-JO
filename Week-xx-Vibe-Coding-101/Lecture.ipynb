{
 "cells": [
  {
   "cell_type": "markdown",
   "id": "3232406f",
   "metadata": {},
   "source": [
    "# Live Coding Demo: Vibe Coding a Hugging Face Text-to-Image App"
   ]
  },
  {
   "cell_type": "markdown",
   "id": "6ce5ead8",
   "metadata": {},
   "source": [
    "# 1. Planning (Framing the Task)\n",
    "\n",
    "**Goal: Build a simple app that takes a text prompt → generates an image using a [Hugging Face](https://huggingface.co/) model.**\n",
    "\n",
    "Tools: Python, Cursor IDE, Streamlit, Hugging Face diffusers or transformers.\n",
    "\n",
    "Mindset: Treat AI as your not-so-smart Jarvis → \"I explain clearly, it drafts code, I proof-check and refine.\"\n",
    "\n",
    "___"
   ]
  },
  {
   "cell_type": "markdown",
   "id": "f8787d96",
   "metadata": {},
   "source": [
    "# 2. Step-by-Step Demo Flow\n",
    "**Step 1: Set up the environment**\n",
    "\n",
    "In Cursor, prompt: \n",
    "\n",
    "1. “Write the Python command to create a virtual enviroment using `venv`, as well as the command to activate it, this enviroment will be used to build a Streamlit app with Hugging Face diffusers for text-to-image.\n",
    "\n",
    "2. \"Generate a `requirements.txt` file with the neccessary imports for this type of application, then give me the command to install them on this environment.\"\n",
    "\n",
    "    *... This takes a minute even locally.*\n",
    "\n",
    "- Debug any mistakes such as non-gitignored `venv` folder, wrong libraries, wrong working directory, etc. \n",
    "\n",
    "For reference:\n",
    "\n",
    "-> Create venv: `python -m venv venv`\n",
    "\n",
    "-> Activate it: \n",
    "\n",
    "    Mac: `source venv/bin/activate` | Windows (Powershell): `.\\venv\\Scripts\\Activate.ps1` \n",
    "\n",
    "-> Install requirements: `pip install -r requirements.txt`\n",
    "\n",
    "___"
   ]
  },
  {
   "cell_type": "markdown",
   "id": "f528a303",
   "metadata": {},
   "source": [
    "**Step 2: Create a basic Streamlit page**\n",
    "\n",
    "Prompt: \"Create a simple Streamlit app with a title, text input for user prompt, and a ‘Generate’ button. That will later be connected to a HuggingFace model using diffusers\"\n",
    "\n",
    "Proof reading: \n",
    "1. Go over each file being generated, scanning line by line additions and seeing if they make sense. \n",
    "2. Run app locally → confirm UI loads with textbox + button.\n",
    "3. You can include a terminal's error log as part of the context. \n",
    "\n",
    "    -> `streamlit run app.py`\n",
    "___"
   ]
  },
  {
   "cell_type": "markdown",
   "id": "fc4157b8",
   "metadata": {},
   "source": [
    "**Step 3: Load a Hugging Face model**\n",
    "\n",
    "Prompt: \"In `app.py` Load a light weight and fast text-to-image model that runs locally to generate the images based on the user prompt.\"\n",
    "\n",
    "Proof reading: \n",
    "1. Check the pipeline in `app.py` ensuring its using a good model.\n",
    "2. Test it with a prompt.\n",
    "\n",
    "___"
   ]
  },
  {
   "cell_type": "markdown",
   "id": "8fc45376",
   "metadata": {},
   "source": [
    "**Step 4: Add basic controls**\n",
    "\n",
    "Prompt: “Add sliders for image sizes, quality steps and guidance scale.”\n",
    "\n",
    "Proof reading: \n",
    "\n",
    "* Run → confirm sliders actually affect model call.\n",
    "\n",
    "\n",
    "# ![App image](images/streamlit_app.png)\n",
    "\n"
   ]
  }
 ],
 "metadata": {
  "language_info": {
   "name": "python"
  }
 },
 "nbformat": 4,
 "nbformat_minor": 5
}
